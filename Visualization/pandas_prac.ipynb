{
 "cells": [
  {
   "cell_type": "code",
   "execution_count": 1,
   "metadata": {},
   "outputs": [],
   "source": [
    "import pandas as pd\n",
    "import numpy as np\n",
    "import matplotlib.pyplot as plt"
   ]
  },
  {
   "cell_type": "code",
   "execution_count": 2,
   "metadata": {},
   "outputs": [],
   "source": [
    "data = pd.read_json('MyData/StreamingHistory0.json')"
   ]
  },
  {
   "cell_type": "code",
   "execution_count": 3,
   "metadata": {},
   "outputs": [
    {
     "data": {
      "text/html": [
       "<div>\n",
       "<style scoped>\n",
       "    .dataframe tbody tr th:only-of-type {\n",
       "        vertical-align: middle;\n",
       "    }\n",
       "\n",
       "    .dataframe tbody tr th {\n",
       "        vertical-align: top;\n",
       "    }\n",
       "\n",
       "    .dataframe thead th {\n",
       "        text-align: right;\n",
       "    }\n",
       "</style>\n",
       "<table border=\"1\" class=\"dataframe\">\n",
       "  <thead>\n",
       "    <tr style=\"text-align: right;\">\n",
       "      <th></th>\n",
       "      <th>endTime</th>\n",
       "      <th>artistName</th>\n",
       "      <th>trackName</th>\n",
       "      <th>msPlayed</th>\n",
       "    </tr>\n",
       "  </thead>\n",
       "  <tbody>\n",
       "    <tr>\n",
       "      <th>0</th>\n",
       "      <td>2021-12-16 12:22</td>\n",
       "      <td>Mithoon</td>\n",
       "      <td>Aashiqui Aa Gayi(From \"Radhe Shyam\")</td>\n",
       "      <td>90000</td>\n",
       "    </tr>\n",
       "    <tr>\n",
       "      <th>1</th>\n",
       "      <td>2021-12-17 17:51</td>\n",
       "      <td>Mithoon</td>\n",
       "      <td>Aashiqui Aa Gayi(From \"Radhe Shyam\")</td>\n",
       "      <td>15868</td>\n",
       "    </tr>\n",
       "    <tr>\n",
       "      <th>2</th>\n",
       "      <td>2021-12-17 17:58</td>\n",
       "      <td>Sanam</td>\n",
       "      <td>Aap Ki Nazron Ne Samjha</td>\n",
       "      <td>186737</td>\n",
       "    </tr>\n",
       "    <tr>\n",
       "      <th>3</th>\n",
       "      <td>2021-12-17 18:01</td>\n",
       "      <td>Sanam</td>\n",
       "      <td>Aap Ki Nazron Ne Samjha</td>\n",
       "      <td>186737</td>\n",
       "    </tr>\n",
       "    <tr>\n",
       "      <th>4</th>\n",
       "      <td>2021-12-17 18:05</td>\n",
       "      <td>Sanam</td>\n",
       "      <td>Aap Ki Nazron Ne Samjha</td>\n",
       "      <td>164350</td>\n",
       "    </tr>\n",
       "  </tbody>\n",
       "</table>\n",
       "</div>"
      ],
      "text/plain": [
       "            endTime artistName                             trackName  msPlayed\n",
       "0  2021-12-16 12:22    Mithoon  Aashiqui Aa Gayi(From \"Radhe Shyam\")     90000\n",
       "1  2021-12-17 17:51    Mithoon  Aashiqui Aa Gayi(From \"Radhe Shyam\")     15868\n",
       "2  2021-12-17 17:58      Sanam               Aap Ki Nazron Ne Samjha    186737\n",
       "3  2021-12-17 18:01      Sanam               Aap Ki Nazron Ne Samjha    186737\n",
       "4  2021-12-17 18:05      Sanam               Aap Ki Nazron Ne Samjha    164350"
      ]
     },
     "execution_count": 3,
     "metadata": {},
     "output_type": "execute_result"
    }
   ],
   "source": [
    "data.head()"
   ]
  },
  {
   "cell_type": "code",
   "execution_count": 11,
   "metadata": {},
   "outputs": [
    {
     "data": {
      "text/html": [
       "<div>\n",
       "<style scoped>\n",
       "    .dataframe tbody tr th:only-of-type {\n",
       "        vertical-align: middle;\n",
       "    }\n",
       "\n",
       "    .dataframe tbody tr th {\n",
       "        vertical-align: top;\n",
       "    }\n",
       "\n",
       "    .dataframe thead th {\n",
       "        text-align: right;\n",
       "    }\n",
       "</style>\n",
       "<table border=\"1\" class=\"dataframe\">\n",
       "  <thead>\n",
       "    <tr style=\"text-align: right;\">\n",
       "      <th></th>\n",
       "      <th>endTime</th>\n",
       "      <th>artistName</th>\n",
       "      <th>trackName</th>\n",
       "      <th>msPlayed</th>\n",
       "    </tr>\n",
       "  </thead>\n",
       "  <tbody>\n",
       "    <tr>\n",
       "      <th>7104</th>\n",
       "      <td>2022-12-17 11:04</td>\n",
       "      <td>Director Fizzix</td>\n",
       "      <td>You and Me</td>\n",
       "      <td>151244</td>\n",
       "    </tr>\n",
       "    <tr>\n",
       "      <th>7105</th>\n",
       "      <td>2022-12-17 11:08</td>\n",
       "      <td>Joji</td>\n",
       "      <td>Glimpse of Us</td>\n",
       "      <td>233456</td>\n",
       "    </tr>\n",
       "    <tr>\n",
       "      <th>7106</th>\n",
       "      <td>2022-12-17 11:11</td>\n",
       "      <td>Dua Lipa</td>\n",
       "      <td>Levitating</td>\n",
       "      <td>203807</td>\n",
       "    </tr>\n",
       "    <tr>\n",
       "      <th>7107</th>\n",
       "      <td>2022-12-17 11:14</td>\n",
       "      <td>Billie Eilish</td>\n",
       "      <td>Six Feet Under</td>\n",
       "      <td>189613</td>\n",
       "    </tr>\n",
       "    <tr>\n",
       "      <th>7108</th>\n",
       "      <td>2022-12-17 11:17</td>\n",
       "      <td>Duncan Laurence</td>\n",
       "      <td>Arcade</td>\n",
       "      <td>185146</td>\n",
       "    </tr>\n",
       "  </tbody>\n",
       "</table>\n",
       "</div>"
      ],
      "text/plain": [
       "               endTime       artistName       trackName  msPlayed\n",
       "7104  2022-12-17 11:04  Director Fizzix      You and Me    151244\n",
       "7105  2022-12-17 11:08             Joji   Glimpse of Us    233456\n",
       "7106  2022-12-17 11:11         Dua Lipa      Levitating    203807\n",
       "7107  2022-12-17 11:14    Billie Eilish  Six Feet Under    189613\n",
       "7108  2022-12-17 11:17  Duncan Laurence          Arcade    185146"
      ]
     },
     "execution_count": 11,
     "metadata": {},
     "output_type": "execute_result"
    }
   ],
   "source": [
    "data.tail()"
   ]
  },
  {
   "cell_type": "code",
   "execution_count": 17,
   "metadata": {},
   "outputs": [
    {
     "name": "stdout",
     "output_type": "stream",
     "text": [
      "<class 'pandas.core.frame.DataFrame'>\n",
      "RangeIndex: 7109 entries, 0 to 7108\n",
      "Data columns (total 4 columns):\n",
      " #   Column      Non-Null Count  Dtype \n",
      "---  ------      --------------  ----- \n",
      " 0   endTime     7109 non-null   object\n",
      " 1   artistName  7109 non-null   object\n",
      " 2   trackName   7109 non-null   object\n",
      " 3   msPlayed    7109 non-null   int64 \n",
      "dtypes: int64(1), object(3)\n",
      "memory usage: 222.3+ KB\n"
     ]
    }
   ],
   "source": [
    "data.info()"
   ]
  },
  {
   "cell_type": "code",
   "execution_count": 21,
   "metadata": {},
   "outputs": [
    {
     "data": {
      "text/html": [
       "<div>\n",
       "<style scoped>\n",
       "    .dataframe tbody tr th:only-of-type {\n",
       "        vertical-align: middle;\n",
       "    }\n",
       "\n",
       "    .dataframe tbody tr th {\n",
       "        vertical-align: top;\n",
       "    }\n",
       "\n",
       "    .dataframe thead th {\n",
       "        text-align: right;\n",
       "    }\n",
       "</style>\n",
       "<table border=\"1\" class=\"dataframe\">\n",
       "  <thead>\n",
       "    <tr style=\"text-align: right;\">\n",
       "      <th></th>\n",
       "      <th>count</th>\n",
       "      <th>mean</th>\n",
       "      <th>std</th>\n",
       "      <th>min</th>\n",
       "      <th>25%</th>\n",
       "      <th>50%</th>\n",
       "      <th>75%</th>\n",
       "      <th>max</th>\n",
       "    </tr>\n",
       "  </thead>\n",
       "  <tbody>\n",
       "    <tr>\n",
       "      <th>msPlayed</th>\n",
       "      <td>7109.0</td>\n",
       "      <td>149021.381348</td>\n",
       "      <td>112346.929511</td>\n",
       "      <td>0.0</td>\n",
       "      <td>30890.0</td>\n",
       "      <td>182600.0</td>\n",
       "      <td>223840.0</td>\n",
       "      <td>3243111.0</td>\n",
       "    </tr>\n",
       "  </tbody>\n",
       "</table>\n",
       "</div>"
      ],
      "text/plain": [
       "           count           mean            std  min      25%       50%  \\\n",
       "msPlayed  7109.0  149021.381348  112346.929511  0.0  30890.0  182600.0   \n",
       "\n",
       "               75%        max  \n",
       "msPlayed  223840.0  3243111.0  "
      ]
     },
     "execution_count": 21,
     "metadata": {},
     "output_type": "execute_result"
    }
   ],
   "source": [
    "data.describe().transpose()"
   ]
  },
  {
   "cell_type": "code",
   "execution_count": 22,
   "metadata": {},
   "outputs": [
    {
     "data": {
      "text/html": [
       "<div>\n",
       "<style scoped>\n",
       "    .dataframe tbody tr th:only-of-type {\n",
       "        vertical-align: middle;\n",
       "    }\n",
       "\n",
       "    .dataframe tbody tr th {\n",
       "        vertical-align: top;\n",
       "    }\n",
       "\n",
       "    .dataframe thead th {\n",
       "        text-align: right;\n",
       "    }\n",
       "</style>\n",
       "<table border=\"1\" class=\"dataframe\">\n",
       "  <thead>\n",
       "    <tr style=\"text-align: right;\">\n",
       "      <th></th>\n",
       "      <th>artistName</th>\n",
       "      <th>trackName</th>\n",
       "    </tr>\n",
       "  </thead>\n",
       "  <tbody>\n",
       "    <tr>\n",
       "      <th>0</th>\n",
       "      <td>Mithoon</td>\n",
       "      <td>Aashiqui Aa Gayi(From \"Radhe Shyam\")</td>\n",
       "    </tr>\n",
       "    <tr>\n",
       "      <th>1</th>\n",
       "      <td>Mithoon</td>\n",
       "      <td>Aashiqui Aa Gayi(From \"Radhe Shyam\")</td>\n",
       "    </tr>\n",
       "    <tr>\n",
       "      <th>2</th>\n",
       "      <td>Sanam</td>\n",
       "      <td>Aap Ki Nazron Ne Samjha</td>\n",
       "    </tr>\n",
       "    <tr>\n",
       "      <th>3</th>\n",
       "      <td>Sanam</td>\n",
       "      <td>Aap Ki Nazron Ne Samjha</td>\n",
       "    </tr>\n",
       "    <tr>\n",
       "      <th>4</th>\n",
       "      <td>Sanam</td>\n",
       "      <td>Aap Ki Nazron Ne Samjha</td>\n",
       "    </tr>\n",
       "    <tr>\n",
       "      <th>...</th>\n",
       "      <td>...</td>\n",
       "      <td>...</td>\n",
       "    </tr>\n",
       "    <tr>\n",
       "      <th>7104</th>\n",
       "      <td>Director Fizzix</td>\n",
       "      <td>You and Me</td>\n",
       "    </tr>\n",
       "    <tr>\n",
       "      <th>7105</th>\n",
       "      <td>Joji</td>\n",
       "      <td>Glimpse of Us</td>\n",
       "    </tr>\n",
       "    <tr>\n",
       "      <th>7106</th>\n",
       "      <td>Dua Lipa</td>\n",
       "      <td>Levitating</td>\n",
       "    </tr>\n",
       "    <tr>\n",
       "      <th>7107</th>\n",
       "      <td>Billie Eilish</td>\n",
       "      <td>Six Feet Under</td>\n",
       "    </tr>\n",
       "    <tr>\n",
       "      <th>7108</th>\n",
       "      <td>Duncan Laurence</td>\n",
       "      <td>Arcade</td>\n",
       "    </tr>\n",
       "  </tbody>\n",
       "</table>\n",
       "<p>7109 rows × 2 columns</p>\n",
       "</div>"
      ],
      "text/plain": [
       "           artistName                             trackName\n",
       "0             Mithoon  Aashiqui Aa Gayi(From \"Radhe Shyam\")\n",
       "1             Mithoon  Aashiqui Aa Gayi(From \"Radhe Shyam\")\n",
       "2               Sanam               Aap Ki Nazron Ne Samjha\n",
       "3               Sanam               Aap Ki Nazron Ne Samjha\n",
       "4               Sanam               Aap Ki Nazron Ne Samjha\n",
       "...               ...                                   ...\n",
       "7104  Director Fizzix                            You and Me\n",
       "7105             Joji                         Glimpse of Us\n",
       "7106         Dua Lipa                            Levitating\n",
       "7107    Billie Eilish                        Six Feet Under\n",
       "7108  Duncan Laurence                                Arcade\n",
       "\n",
       "[7109 rows x 2 columns]"
      ]
     },
     "execution_count": 22,
     "metadata": {},
     "output_type": "execute_result"
    }
   ],
   "source": [
    "mycol = [\"artistName\",\"trackName\"]\n",
    "data[mycol]"
   ]
  },
  {
   "cell_type": "code",
   "execution_count": 23,
   "metadata": {},
   "outputs": [
    {
     "data": {
      "text/html": [
       "<div>\n",
       "<style scoped>\n",
       "    .dataframe tbody tr th:only-of-type {\n",
       "        vertical-align: middle;\n",
       "    }\n",
       "\n",
       "    .dataframe tbody tr th {\n",
       "        vertical-align: top;\n",
       "    }\n",
       "\n",
       "    .dataframe thead th {\n",
       "        text-align: right;\n",
       "    }\n",
       "</style>\n",
       "<table border=\"1\" class=\"dataframe\">\n",
       "  <thead>\n",
       "    <tr style=\"text-align: right;\">\n",
       "      <th></th>\n",
       "      <th>endTime</th>\n",
       "      <th>trackName</th>\n",
       "      <th>msPlayed</th>\n",
       "    </tr>\n",
       "  </thead>\n",
       "  <tbody>\n",
       "    <tr>\n",
       "      <th>0</th>\n",
       "      <td>2021-12-16 12:22</td>\n",
       "      <td>Aashiqui Aa Gayi(From \"Radhe Shyam\")</td>\n",
       "      <td>90000</td>\n",
       "    </tr>\n",
       "    <tr>\n",
       "      <th>1</th>\n",
       "      <td>2021-12-17 17:51</td>\n",
       "      <td>Aashiqui Aa Gayi(From \"Radhe Shyam\")</td>\n",
       "      <td>15868</td>\n",
       "    </tr>\n",
       "    <tr>\n",
       "      <th>2</th>\n",
       "      <td>2021-12-17 17:58</td>\n",
       "      <td>Aap Ki Nazron Ne Samjha</td>\n",
       "      <td>186737</td>\n",
       "    </tr>\n",
       "    <tr>\n",
       "      <th>3</th>\n",
       "      <td>2021-12-17 18:01</td>\n",
       "      <td>Aap Ki Nazron Ne Samjha</td>\n",
       "      <td>186737</td>\n",
       "    </tr>\n",
       "    <tr>\n",
       "      <th>4</th>\n",
       "      <td>2021-12-17 18:05</td>\n",
       "      <td>Aap Ki Nazron Ne Samjha</td>\n",
       "      <td>164350</td>\n",
       "    </tr>\n",
       "    <tr>\n",
       "      <th>...</th>\n",
       "      <td>...</td>\n",
       "      <td>...</td>\n",
       "      <td>...</td>\n",
       "    </tr>\n",
       "    <tr>\n",
       "      <th>7104</th>\n",
       "      <td>2022-12-17 11:04</td>\n",
       "      <td>You and Me</td>\n",
       "      <td>151244</td>\n",
       "    </tr>\n",
       "    <tr>\n",
       "      <th>7105</th>\n",
       "      <td>2022-12-17 11:08</td>\n",
       "      <td>Glimpse of Us</td>\n",
       "      <td>233456</td>\n",
       "    </tr>\n",
       "    <tr>\n",
       "      <th>7106</th>\n",
       "      <td>2022-12-17 11:11</td>\n",
       "      <td>Levitating</td>\n",
       "      <td>203807</td>\n",
       "    </tr>\n",
       "    <tr>\n",
       "      <th>7107</th>\n",
       "      <td>2022-12-17 11:14</td>\n",
       "      <td>Six Feet Under</td>\n",
       "      <td>189613</td>\n",
       "    </tr>\n",
       "    <tr>\n",
       "      <th>7108</th>\n",
       "      <td>2022-12-17 11:17</td>\n",
       "      <td>Arcade</td>\n",
       "      <td>185146</td>\n",
       "    </tr>\n",
       "  </tbody>\n",
       "</table>\n",
       "<p>7109 rows × 3 columns</p>\n",
       "</div>"
      ],
      "text/plain": [
       "               endTime                             trackName  msPlayed\n",
       "0     2021-12-16 12:22  Aashiqui Aa Gayi(From \"Radhe Shyam\")     90000\n",
       "1     2021-12-17 17:51  Aashiqui Aa Gayi(From \"Radhe Shyam\")     15868\n",
       "2     2021-12-17 17:58               Aap Ki Nazron Ne Samjha    186737\n",
       "3     2021-12-17 18:01               Aap Ki Nazron Ne Samjha    186737\n",
       "4     2021-12-17 18:05               Aap Ki Nazron Ne Samjha    164350\n",
       "...                ...                                   ...       ...\n",
       "7104  2022-12-17 11:04                            You and Me    151244\n",
       "7105  2022-12-17 11:08                         Glimpse of Us    233456\n",
       "7106  2022-12-17 11:11                            Levitating    203807\n",
       "7107  2022-12-17 11:14                        Six Feet Under    189613\n",
       "7108  2022-12-17 11:17                                Arcade    185146\n",
       "\n",
       "[7109 rows x 3 columns]"
      ]
     },
     "execution_count": 23,
     "metadata": {},
     "output_type": "execute_result"
    }
   ],
   "source": [
    "data.drop(\"artistName\",axis=1)"
   ]
  },
  {
   "cell_type": "code",
   "execution_count": 24,
   "metadata": {},
   "outputs": [
    {
     "data": {
      "text/html": [
       "<div>\n",
       "<style scoped>\n",
       "    .dataframe tbody tr th:only-of-type {\n",
       "        vertical-align: middle;\n",
       "    }\n",
       "\n",
       "    .dataframe tbody tr th {\n",
       "        vertical-align: top;\n",
       "    }\n",
       "\n",
       "    .dataframe thead th {\n",
       "        text-align: right;\n",
       "    }\n",
       "</style>\n",
       "<table border=\"1\" class=\"dataframe\">\n",
       "  <thead>\n",
       "    <tr style=\"text-align: right;\">\n",
       "      <th></th>\n",
       "      <th>endTime</th>\n",
       "      <th>artistName</th>\n",
       "      <th>trackName</th>\n",
       "      <th>msPlayed</th>\n",
       "    </tr>\n",
       "  </thead>\n",
       "  <tbody>\n",
       "    <tr>\n",
       "      <th>0</th>\n",
       "      <td>2021-12-16 12:22</td>\n",
       "      <td>Mithoon</td>\n",
       "      <td>Aashiqui Aa Gayi(From \"Radhe Shyam\")</td>\n",
       "      <td>90000</td>\n",
       "    </tr>\n",
       "    <tr>\n",
       "      <th>1</th>\n",
       "      <td>2021-12-17 17:51</td>\n",
       "      <td>Mithoon</td>\n",
       "      <td>Aashiqui Aa Gayi(From \"Radhe Shyam\")</td>\n",
       "      <td>15868</td>\n",
       "    </tr>\n",
       "    <tr>\n",
       "      <th>2</th>\n",
       "      <td>2021-12-17 17:58</td>\n",
       "      <td>Sanam</td>\n",
       "      <td>Aap Ki Nazron Ne Samjha</td>\n",
       "      <td>186737</td>\n",
       "    </tr>\n",
       "    <tr>\n",
       "      <th>3</th>\n",
       "      <td>2021-12-17 18:01</td>\n",
       "      <td>Sanam</td>\n",
       "      <td>Aap Ki Nazron Ne Samjha</td>\n",
       "      <td>186737</td>\n",
       "    </tr>\n",
       "    <tr>\n",
       "      <th>4</th>\n",
       "      <td>2021-12-17 18:05</td>\n",
       "      <td>Sanam</td>\n",
       "      <td>Aap Ki Nazron Ne Samjha</td>\n",
       "      <td>164350</td>\n",
       "    </tr>\n",
       "    <tr>\n",
       "      <th>...</th>\n",
       "      <td>...</td>\n",
       "      <td>...</td>\n",
       "      <td>...</td>\n",
       "      <td>...</td>\n",
       "    </tr>\n",
       "    <tr>\n",
       "      <th>7104</th>\n",
       "      <td>2022-12-17 11:04</td>\n",
       "      <td>Director Fizzix</td>\n",
       "      <td>You and Me</td>\n",
       "      <td>151244</td>\n",
       "    </tr>\n",
       "    <tr>\n",
       "      <th>7105</th>\n",
       "      <td>2022-12-17 11:08</td>\n",
       "      <td>Joji</td>\n",
       "      <td>Glimpse of Us</td>\n",
       "      <td>233456</td>\n",
       "    </tr>\n",
       "    <tr>\n",
       "      <th>7106</th>\n",
       "      <td>2022-12-17 11:11</td>\n",
       "      <td>Dua Lipa</td>\n",
       "      <td>Levitating</td>\n",
       "      <td>203807</td>\n",
       "    </tr>\n",
       "    <tr>\n",
       "      <th>7107</th>\n",
       "      <td>2022-12-17 11:14</td>\n",
       "      <td>Billie Eilish</td>\n",
       "      <td>Six Feet Under</td>\n",
       "      <td>189613</td>\n",
       "    </tr>\n",
       "    <tr>\n",
       "      <th>7108</th>\n",
       "      <td>2022-12-17 11:17</td>\n",
       "      <td>Duncan Laurence</td>\n",
       "      <td>Arcade</td>\n",
       "      <td>185146</td>\n",
       "    </tr>\n",
       "  </tbody>\n",
       "</table>\n",
       "<p>7109 rows × 4 columns</p>\n",
       "</div>"
      ],
      "text/plain": [
       "               endTime       artistName                             trackName  \\\n",
       "0     2021-12-16 12:22          Mithoon  Aashiqui Aa Gayi(From \"Radhe Shyam\")   \n",
       "1     2021-12-17 17:51          Mithoon  Aashiqui Aa Gayi(From \"Radhe Shyam\")   \n",
       "2     2021-12-17 17:58            Sanam               Aap Ki Nazron Ne Samjha   \n",
       "3     2021-12-17 18:01            Sanam               Aap Ki Nazron Ne Samjha   \n",
       "4     2021-12-17 18:05            Sanam               Aap Ki Nazron Ne Samjha   \n",
       "...                ...              ...                                   ...   \n",
       "7104  2022-12-17 11:04  Director Fizzix                            You and Me   \n",
       "7105  2022-12-17 11:08             Joji                         Glimpse of Us   \n",
       "7106  2022-12-17 11:11         Dua Lipa                            Levitating   \n",
       "7107  2022-12-17 11:14    Billie Eilish                        Six Feet Under   \n",
       "7108  2022-12-17 11:17  Duncan Laurence                                Arcade   \n",
       "\n",
       "      msPlayed  \n",
       "0        90000  \n",
       "1        15868  \n",
       "2       186737  \n",
       "3       186737  \n",
       "4       164350  \n",
       "...        ...  \n",
       "7104    151244  \n",
       "7105    233456  \n",
       "7106    203807  \n",
       "7107    189613  \n",
       "7108    185146  \n",
       "\n",
       "[7109 rows x 4 columns]"
      ]
     },
     "execution_count": 24,
     "metadata": {},
     "output_type": "execute_result"
    }
   ],
   "source": [
    "data"
   ]
  },
  {
   "cell_type": "code",
   "execution_count": 26,
   "metadata": {},
   "outputs": [
    {
     "data": {
      "text/plain": [
       "Index(['endTime', 'artistName', 'trackName', 'msPlayed'], dtype='object')"
      ]
     },
     "execution_count": 26,
     "metadata": {},
     "output_type": "execute_result"
    }
   ],
   "source": [
    "data.columns"
   ]
  },
  {
   "cell_type": "code",
   "execution_count": 27,
   "metadata": {},
   "outputs": [
    {
     "data": {
      "text/plain": [
       "RangeIndex(start=0, stop=7109, step=1)"
      ]
     },
     "execution_count": 27,
     "metadata": {},
     "output_type": "execute_result"
    }
   ],
   "source": [
    "data.index"
   ]
  },
  {
   "cell_type": "markdown",
   "metadata": {},
   "source": [
    "Set Index as endTime"
   ]
  },
  {
   "cell_type": "code",
   "execution_count": 28,
   "metadata": {},
   "outputs": [
    {
     "data": {
      "text/html": [
       "<div>\n",
       "<style scoped>\n",
       "    .dataframe tbody tr th:only-of-type {\n",
       "        vertical-align: middle;\n",
       "    }\n",
       "\n",
       "    .dataframe tbody tr th {\n",
       "        vertical-align: top;\n",
       "    }\n",
       "\n",
       "    .dataframe thead th {\n",
       "        text-align: right;\n",
       "    }\n",
       "</style>\n",
       "<table border=\"1\" class=\"dataframe\">\n",
       "  <thead>\n",
       "    <tr style=\"text-align: right;\">\n",
       "      <th></th>\n",
       "      <th>artistName</th>\n",
       "      <th>trackName</th>\n",
       "      <th>msPlayed</th>\n",
       "    </tr>\n",
       "    <tr>\n",
       "      <th>endTime</th>\n",
       "      <th></th>\n",
       "      <th></th>\n",
       "      <th></th>\n",
       "    </tr>\n",
       "  </thead>\n",
       "  <tbody>\n",
       "    <tr>\n",
       "      <th>2021-12-16 12:22</th>\n",
       "      <td>Mithoon</td>\n",
       "      <td>Aashiqui Aa Gayi(From \"Radhe Shyam\")</td>\n",
       "      <td>90000</td>\n",
       "    </tr>\n",
       "    <tr>\n",
       "      <th>2021-12-17 17:51</th>\n",
       "      <td>Mithoon</td>\n",
       "      <td>Aashiqui Aa Gayi(From \"Radhe Shyam\")</td>\n",
       "      <td>15868</td>\n",
       "    </tr>\n",
       "    <tr>\n",
       "      <th>2021-12-17 17:58</th>\n",
       "      <td>Sanam</td>\n",
       "      <td>Aap Ki Nazron Ne Samjha</td>\n",
       "      <td>186737</td>\n",
       "    </tr>\n",
       "    <tr>\n",
       "      <th>2021-12-17 18:01</th>\n",
       "      <td>Sanam</td>\n",
       "      <td>Aap Ki Nazron Ne Samjha</td>\n",
       "      <td>186737</td>\n",
       "    </tr>\n",
       "    <tr>\n",
       "      <th>2021-12-17 18:05</th>\n",
       "      <td>Sanam</td>\n",
       "      <td>Aap Ki Nazron Ne Samjha</td>\n",
       "      <td>164350</td>\n",
       "    </tr>\n",
       "    <tr>\n",
       "      <th>...</th>\n",
       "      <td>...</td>\n",
       "      <td>...</td>\n",
       "      <td>...</td>\n",
       "    </tr>\n",
       "    <tr>\n",
       "      <th>2022-12-17 11:04</th>\n",
       "      <td>Director Fizzix</td>\n",
       "      <td>You and Me</td>\n",
       "      <td>151244</td>\n",
       "    </tr>\n",
       "    <tr>\n",
       "      <th>2022-12-17 11:08</th>\n",
       "      <td>Joji</td>\n",
       "      <td>Glimpse of Us</td>\n",
       "      <td>233456</td>\n",
       "    </tr>\n",
       "    <tr>\n",
       "      <th>2022-12-17 11:11</th>\n",
       "      <td>Dua Lipa</td>\n",
       "      <td>Levitating</td>\n",
       "      <td>203807</td>\n",
       "    </tr>\n",
       "    <tr>\n",
       "      <th>2022-12-17 11:14</th>\n",
       "      <td>Billie Eilish</td>\n",
       "      <td>Six Feet Under</td>\n",
       "      <td>189613</td>\n",
       "    </tr>\n",
       "    <tr>\n",
       "      <th>2022-12-17 11:17</th>\n",
       "      <td>Duncan Laurence</td>\n",
       "      <td>Arcade</td>\n",
       "      <td>185146</td>\n",
       "    </tr>\n",
       "  </tbody>\n",
       "</table>\n",
       "<p>7109 rows × 3 columns</p>\n",
       "</div>"
      ],
      "text/plain": [
       "                       artistName                             trackName  \\\n",
       "endTime                                                                   \n",
       "2021-12-16 12:22          Mithoon  Aashiqui Aa Gayi(From \"Radhe Shyam\")   \n",
       "2021-12-17 17:51          Mithoon  Aashiqui Aa Gayi(From \"Radhe Shyam\")   \n",
       "2021-12-17 17:58            Sanam               Aap Ki Nazron Ne Samjha   \n",
       "2021-12-17 18:01            Sanam               Aap Ki Nazron Ne Samjha   \n",
       "2021-12-17 18:05            Sanam               Aap Ki Nazron Ne Samjha   \n",
       "...                           ...                                   ...   \n",
       "2022-12-17 11:04  Director Fizzix                            You and Me   \n",
       "2022-12-17 11:08             Joji                         Glimpse of Us   \n",
       "2022-12-17 11:11         Dua Lipa                            Levitating   \n",
       "2022-12-17 11:14    Billie Eilish                        Six Feet Under   \n",
       "2022-12-17 11:17  Duncan Laurence                                Arcade   \n",
       "\n",
       "                  msPlayed  \n",
       "endTime                     \n",
       "2021-12-16 12:22     90000  \n",
       "2021-12-17 17:51     15868  \n",
       "2021-12-17 17:58    186737  \n",
       "2021-12-17 18:01    186737  \n",
       "2021-12-17 18:05    164350  \n",
       "...                    ...  \n",
       "2022-12-17 11:04    151244  \n",
       "2022-12-17 11:08    233456  \n",
       "2022-12-17 11:11    203807  \n",
       "2022-12-17 11:14    189613  \n",
       "2022-12-17 11:17    185146  \n",
       "\n",
       "[7109 rows x 3 columns]"
      ]
     },
     "execution_count": 28,
     "metadata": {},
     "output_type": "execute_result"
    }
   ],
   "source": [
    "data.set_index(\"endTime\")"
   ]
  },
  {
   "cell_type": "code",
   "execution_count": 29,
   "metadata": {},
   "outputs": [
    {
     "data": {
      "text/html": [
       "<div>\n",
       "<style scoped>\n",
       "    .dataframe tbody tr th:only-of-type {\n",
       "        vertical-align: middle;\n",
       "    }\n",
       "\n",
       "    .dataframe tbody tr th {\n",
       "        vertical-align: top;\n",
       "    }\n",
       "\n",
       "    .dataframe thead th {\n",
       "        text-align: right;\n",
       "    }\n",
       "</style>\n",
       "<table border=\"1\" class=\"dataframe\">\n",
       "  <thead>\n",
       "    <tr style=\"text-align: right;\">\n",
       "      <th></th>\n",
       "      <th>endTime</th>\n",
       "      <th>artistName</th>\n",
       "      <th>trackName</th>\n",
       "      <th>msPlayed</th>\n",
       "    </tr>\n",
       "  </thead>\n",
       "  <tbody>\n",
       "    <tr>\n",
       "      <th>0</th>\n",
       "      <td>2021-12-16 12:22</td>\n",
       "      <td>Mithoon</td>\n",
       "      <td>Aashiqui Aa Gayi(From \"Radhe Shyam\")</td>\n",
       "      <td>90000</td>\n",
       "    </tr>\n",
       "    <tr>\n",
       "      <th>1</th>\n",
       "      <td>2021-12-17 17:51</td>\n",
       "      <td>Mithoon</td>\n",
       "      <td>Aashiqui Aa Gayi(From \"Radhe Shyam\")</td>\n",
       "      <td>15868</td>\n",
       "    </tr>\n",
       "  </tbody>\n",
       "</table>\n",
       "</div>"
      ],
      "text/plain": [
       "            endTime artistName                             trackName  msPlayed\n",
       "0  2021-12-16 12:22    Mithoon  Aashiqui Aa Gayi(From \"Radhe Shyam\")     90000\n",
       "1  2021-12-17 17:51    Mithoon  Aashiqui Aa Gayi(From \"Radhe Shyam\")     15868"
      ]
     },
     "execution_count": 29,
     "metadata": {},
     "output_type": "execute_result"
    }
   ],
   "source": [
    "data.head(2)"
   ]
  },
  {
   "cell_type": "code",
   "execution_count": 36,
   "metadata": {},
   "outputs": [
    {
     "data": {
      "text/plain": [
       "endTime                           2021-12-16 12:22\n",
       "artistName                                 Mithoon\n",
       "trackName     Aashiqui Aa Gayi(From \"Radhe Shyam\")\n",
       "msPlayed                                     90000\n",
       "Name: 0, dtype: object"
      ]
     },
     "execution_count": 36,
     "metadata": {},
     "output_type": "execute_result"
    }
   ],
   "source": [
    "data.iloc[0] #number based"
   ]
  },
  {
   "cell_type": "code",
   "execution_count": 45,
   "metadata": {},
   "outputs": [
    {
     "data": {
      "text/plain": [
       "endTime                           2021-12-16 12:22\n",
       "artistName                                 Mithoon\n",
       "trackName     Aashiqui Aa Gayi(From \"Radhe Shyam\")\n",
       "msPlayed                                     90000\n",
       "Name: 0, dtype: object"
      ]
     },
     "execution_count": 45,
     "metadata": {},
     "output_type": "execute_result"
    }
   ],
   "source": [
    "data.loc[0] #string/labeled based"
   ]
  },
  {
   "cell_type": "code",
   "execution_count": 38,
   "metadata": {},
   "outputs": [
    {
     "data": {
      "text/html": [
       "<div>\n",
       "<style scoped>\n",
       "    .dataframe tbody tr th:only-of-type {\n",
       "        vertical-align: middle;\n",
       "    }\n",
       "\n",
       "    .dataframe tbody tr th {\n",
       "        vertical-align: top;\n",
       "    }\n",
       "\n",
       "    .dataframe thead th {\n",
       "        text-align: right;\n",
       "    }\n",
       "</style>\n",
       "<table border=\"1\" class=\"dataframe\">\n",
       "  <thead>\n",
       "    <tr style=\"text-align: right;\">\n",
       "      <th></th>\n",
       "      <th>artistName</th>\n",
       "      <th>trackName</th>\n",
       "      <th>msPlayed</th>\n",
       "    </tr>\n",
       "    <tr>\n",
       "      <th>endTime</th>\n",
       "      <th></th>\n",
       "      <th></th>\n",
       "      <th></th>\n",
       "    </tr>\n",
       "  </thead>\n",
       "  <tbody>\n",
       "    <tr>\n",
       "      <th>2021-12-16 12:22</th>\n",
       "      <td>Mithoon</td>\n",
       "      <td>Aashiqui Aa Gayi(From \"Radhe Shyam\")</td>\n",
       "      <td>90000</td>\n",
       "    </tr>\n",
       "    <tr>\n",
       "      <th>2021-12-17 17:51</th>\n",
       "      <td>Mithoon</td>\n",
       "      <td>Aashiqui Aa Gayi(From \"Radhe Shyam\")</td>\n",
       "      <td>15868</td>\n",
       "    </tr>\n",
       "  </tbody>\n",
       "</table>\n",
       "</div>"
      ],
      "text/plain": [
       "                 artistName                             trackName  msPlayed\n",
       "endTime                                                                    \n",
       "2021-12-16 12:22    Mithoon  Aashiqui Aa Gayi(From \"Radhe Shyam\")     90000\n",
       "2021-12-17 17:51    Mithoon  Aashiqui Aa Gayi(From \"Radhe Shyam\")     15868"
      ]
     },
     "execution_count": 38,
     "metadata": {},
     "output_type": "execute_result"
    }
   ],
   "source": [
    "df = data.set_index(\"endTime\")\n",
    "df.head(2)"
   ]
  },
  {
   "cell_type": "code",
   "execution_count": 43,
   "metadata": {},
   "outputs": [
    {
     "data": {
      "text/html": [
       "<div>\n",
       "<style scoped>\n",
       "    .dataframe tbody tr th:only-of-type {\n",
       "        vertical-align: middle;\n",
       "    }\n",
       "\n",
       "    .dataframe tbody tr th {\n",
       "        vertical-align: top;\n",
       "    }\n",
       "\n",
       "    .dataframe thead th {\n",
       "        text-align: right;\n",
       "    }\n",
       "</style>\n",
       "<table border=\"1\" class=\"dataframe\">\n",
       "  <thead>\n",
       "    <tr style=\"text-align: right;\">\n",
       "      <th></th>\n",
       "      <th>artistName</th>\n",
       "      <th>trackName</th>\n",
       "      <th>msPlayed</th>\n",
       "    </tr>\n",
       "    <tr>\n",
       "      <th>endTime</th>\n",
       "      <th></th>\n",
       "      <th></th>\n",
       "      <th></th>\n",
       "    </tr>\n",
       "  </thead>\n",
       "  <tbody>\n",
       "    <tr>\n",
       "      <th>2021-12-16 12:22</th>\n",
       "      <td>Mithoon</td>\n",
       "      <td>Aashiqui Aa Gayi(From \"Radhe Shyam\")</td>\n",
       "      <td>90000</td>\n",
       "    </tr>\n",
       "    <tr>\n",
       "      <th>2021-12-17 17:51</th>\n",
       "      <td>Mithoon</td>\n",
       "      <td>Aashiqui Aa Gayi(From \"Radhe Shyam\")</td>\n",
       "      <td>15868</td>\n",
       "    </tr>\n",
       "    <tr>\n",
       "      <th>2021-12-17 17:58</th>\n",
       "      <td>Sanam</td>\n",
       "      <td>Aap Ki Nazron Ne Samjha</td>\n",
       "      <td>186737</td>\n",
       "    </tr>\n",
       "    <tr>\n",
       "      <th>2021-12-17 18:01</th>\n",
       "      <td>Sanam</td>\n",
       "      <td>Aap Ki Nazron Ne Samjha</td>\n",
       "      <td>186737</td>\n",
       "    </tr>\n",
       "    <tr>\n",
       "      <th>2021-12-17 18:05</th>\n",
       "      <td>Sanam</td>\n",
       "      <td>Aap Ki Nazron Ne Samjha</td>\n",
       "      <td>164350</td>\n",
       "    </tr>\n",
       "  </tbody>\n",
       "</table>\n",
       "</div>"
      ],
      "text/plain": [
       "                 artistName                             trackName  msPlayed\n",
       "endTime                                                                    \n",
       "2021-12-16 12:22    Mithoon  Aashiqui Aa Gayi(From \"Radhe Shyam\")     90000\n",
       "2021-12-17 17:51    Mithoon  Aashiqui Aa Gayi(From \"Radhe Shyam\")     15868\n",
       "2021-12-17 17:58      Sanam               Aap Ki Nazron Ne Samjha    186737\n",
       "2021-12-17 18:01      Sanam               Aap Ki Nazron Ne Samjha    186737\n",
       "2021-12-17 18:05      Sanam               Aap Ki Nazron Ne Samjha    164350"
      ]
     },
     "execution_count": 43,
     "metadata": {},
     "output_type": "execute_result"
    }
   ],
   "source": [
    "df.iloc[0:5]"
   ]
  },
  {
   "cell_type": "code",
   "execution_count": 46,
   "metadata": {},
   "outputs": [],
   "source": [
    "# df.loc(\"2021-12-16 12:22\")"
   ]
  },
  {
   "cell_type": "code",
   "execution_count": 35,
   "metadata": {},
   "outputs": [
    {
     "data": {
      "text/html": [
       "<div>\n",
       "<style scoped>\n",
       "    .dataframe tbody tr th:only-of-type {\n",
       "        vertical-align: middle;\n",
       "    }\n",
       "\n",
       "    .dataframe tbody tr th {\n",
       "        vertical-align: top;\n",
       "    }\n",
       "\n",
       "    .dataframe thead th {\n",
       "        text-align: right;\n",
       "    }\n",
       "</style>\n",
       "<table border=\"1\" class=\"dataframe\">\n",
       "  <thead>\n",
       "    <tr style=\"text-align: right;\">\n",
       "      <th></th>\n",
       "      <th>endTime</th>\n",
       "      <th>artistName</th>\n",
       "      <th>trackName</th>\n",
       "      <th>msPlayed</th>\n",
       "    </tr>\n",
       "  </thead>\n",
       "  <tbody>\n",
       "    <tr>\n",
       "      <th>0</th>\n",
       "      <td>2021-12-16 12:22</td>\n",
       "      <td>Mithoon</td>\n",
       "      <td>Aashiqui Aa Gayi(From \"Radhe Shyam\")</td>\n",
       "      <td>90000</td>\n",
       "    </tr>\n",
       "    <tr>\n",
       "      <th>1</th>\n",
       "      <td>2021-12-17 17:51</td>\n",
       "      <td>Mithoon</td>\n",
       "      <td>Aashiqui Aa Gayi(From \"Radhe Shyam\")</td>\n",
       "      <td>15868</td>\n",
       "    </tr>\n",
       "    <tr>\n",
       "      <th>2</th>\n",
       "      <td>2021-12-17 17:58</td>\n",
       "      <td>Sanam</td>\n",
       "      <td>Aap Ki Nazron Ne Samjha</td>\n",
       "      <td>186737</td>\n",
       "    </tr>\n",
       "    <tr>\n",
       "      <th>3</th>\n",
       "      <td>2021-12-17 18:01</td>\n",
       "      <td>Sanam</td>\n",
       "      <td>Aap Ki Nazron Ne Samjha</td>\n",
       "      <td>186737</td>\n",
       "    </tr>\n",
       "    <tr>\n",
       "      <th>4</th>\n",
       "      <td>2021-12-17 18:05</td>\n",
       "      <td>Sanam</td>\n",
       "      <td>Aap Ki Nazron Ne Samjha</td>\n",
       "      <td>164350</td>\n",
       "    </tr>\n",
       "    <tr>\n",
       "      <th>...</th>\n",
       "      <td>...</td>\n",
       "      <td>...</td>\n",
       "      <td>...</td>\n",
       "      <td>...</td>\n",
       "    </tr>\n",
       "    <tr>\n",
       "      <th>7104</th>\n",
       "      <td>2022-12-17 11:04</td>\n",
       "      <td>Director Fizzix</td>\n",
       "      <td>You and Me</td>\n",
       "      <td>151244</td>\n",
       "    </tr>\n",
       "    <tr>\n",
       "      <th>7105</th>\n",
       "      <td>2022-12-17 11:08</td>\n",
       "      <td>Joji</td>\n",
       "      <td>Glimpse of Us</td>\n",
       "      <td>233456</td>\n",
       "    </tr>\n",
       "    <tr>\n",
       "      <th>7106</th>\n",
       "      <td>2022-12-17 11:11</td>\n",
       "      <td>Dua Lipa</td>\n",
       "      <td>Levitating</td>\n",
       "      <td>203807</td>\n",
       "    </tr>\n",
       "    <tr>\n",
       "      <th>7107</th>\n",
       "      <td>2022-12-17 11:14</td>\n",
       "      <td>Billie Eilish</td>\n",
       "      <td>Six Feet Under</td>\n",
       "      <td>189613</td>\n",
       "    </tr>\n",
       "    <tr>\n",
       "      <th>7108</th>\n",
       "      <td>2022-12-17 11:17</td>\n",
       "      <td>Duncan Laurence</td>\n",
       "      <td>Arcade</td>\n",
       "      <td>185146</td>\n",
       "    </tr>\n",
       "  </tbody>\n",
       "</table>\n",
       "<p>7109 rows × 4 columns</p>\n",
       "</div>"
      ],
      "text/plain": [
       "               endTime       artistName                             trackName  \\\n",
       "0     2021-12-16 12:22          Mithoon  Aashiqui Aa Gayi(From \"Radhe Shyam\")   \n",
       "1     2021-12-17 17:51          Mithoon  Aashiqui Aa Gayi(From \"Radhe Shyam\")   \n",
       "2     2021-12-17 17:58            Sanam               Aap Ki Nazron Ne Samjha   \n",
       "3     2021-12-17 18:01            Sanam               Aap Ki Nazron Ne Samjha   \n",
       "4     2021-12-17 18:05            Sanam               Aap Ki Nazron Ne Samjha   \n",
       "...                ...              ...                                   ...   \n",
       "7104  2022-12-17 11:04  Director Fizzix                            You and Me   \n",
       "7105  2022-12-17 11:08             Joji                         Glimpse of Us   \n",
       "7106  2022-12-17 11:11         Dua Lipa                            Levitating   \n",
       "7107  2022-12-17 11:14    Billie Eilish                        Six Feet Under   \n",
       "7108  2022-12-17 11:17  Duncan Laurence                                Arcade   \n",
       "\n",
       "      msPlayed  \n",
       "0        90000  \n",
       "1        15868  \n",
       "2       186737  \n",
       "3       186737  \n",
       "4       164350  \n",
       "...        ...  \n",
       "7104    151244  \n",
       "7105    233456  \n",
       "7106    203807  \n",
       "7107    189613  \n",
       "7108    185146  \n",
       "\n",
       "[7109 rows x 4 columns]"
      ]
     },
     "execution_count": 35,
     "metadata": {},
     "output_type": "execute_result"
    }
   ],
   "source": [
    "df   = df.reset_index()\n",
    "df"
   ]
  },
  {
   "cell_type": "markdown",
   "metadata": {},
   "source": [
    "Filtering the rows\n"
   ]
  },
  {
   "cell_type": "code",
   "execution_count": 47,
   "metadata": {},
   "outputs": [
    {
     "data": {
      "text/html": [
       "<div>\n",
       "<style scoped>\n",
       "    .dataframe tbody tr th:only-of-type {\n",
       "        vertical-align: middle;\n",
       "    }\n",
       "\n",
       "    .dataframe tbody tr th {\n",
       "        vertical-align: top;\n",
       "    }\n",
       "\n",
       "    .dataframe thead th {\n",
       "        text-align: right;\n",
       "    }\n",
       "</style>\n",
       "<table border=\"1\" class=\"dataframe\">\n",
       "  <thead>\n",
       "    <tr style=\"text-align: right;\">\n",
       "      <th></th>\n",
       "      <th>endTime</th>\n",
       "      <th>artistName</th>\n",
       "      <th>trackName</th>\n",
       "      <th>msPlayed</th>\n",
       "    </tr>\n",
       "  </thead>\n",
       "  <tbody>\n",
       "    <tr>\n",
       "      <th>2</th>\n",
       "      <td>2021-12-17 17:58</td>\n",
       "      <td>Sanam</td>\n",
       "      <td>Aap Ki Nazron Ne Samjha</td>\n",
       "      <td>186737</td>\n",
       "    </tr>\n",
       "    <tr>\n",
       "      <th>3</th>\n",
       "      <td>2021-12-17 18:01</td>\n",
       "      <td>Sanam</td>\n",
       "      <td>Aap Ki Nazron Ne Samjha</td>\n",
       "      <td>186737</td>\n",
       "    </tr>\n",
       "    <tr>\n",
       "      <th>4</th>\n",
       "      <td>2021-12-17 18:05</td>\n",
       "      <td>Sanam</td>\n",
       "      <td>Aap Ki Nazron Ne Samjha</td>\n",
       "      <td>164350</td>\n",
       "    </tr>\n",
       "    <tr>\n",
       "      <th>5</th>\n",
       "      <td>2021-12-17 18:07</td>\n",
       "      <td>Sippy Gill, Desi Roots</td>\n",
       "      <td>Suhe Bullan Waliye</td>\n",
       "      <td>162857</td>\n",
       "    </tr>\n",
       "    <tr>\n",
       "      <th>9</th>\n",
       "      <td>2021-12-21 13:57</td>\n",
       "      <td>Sippy Gill, Desi Roots</td>\n",
       "      <td>Suhe Bullan Waliye</td>\n",
       "      <td>162857</td>\n",
       "    </tr>\n",
       "    <tr>\n",
       "      <th>...</th>\n",
       "      <td>...</td>\n",
       "      <td>...</td>\n",
       "      <td>...</td>\n",
       "      <td>...</td>\n",
       "    </tr>\n",
       "    <tr>\n",
       "      <th>7104</th>\n",
       "      <td>2022-12-17 11:04</td>\n",
       "      <td>Director Fizzix</td>\n",
       "      <td>You and Me</td>\n",
       "      <td>151244</td>\n",
       "    </tr>\n",
       "    <tr>\n",
       "      <th>7105</th>\n",
       "      <td>2022-12-17 11:08</td>\n",
       "      <td>Joji</td>\n",
       "      <td>Glimpse of Us</td>\n",
       "      <td>233456</td>\n",
       "    </tr>\n",
       "    <tr>\n",
       "      <th>7106</th>\n",
       "      <td>2022-12-17 11:11</td>\n",
       "      <td>Dua Lipa</td>\n",
       "      <td>Levitating</td>\n",
       "      <td>203807</td>\n",
       "    </tr>\n",
       "    <tr>\n",
       "      <th>7107</th>\n",
       "      <td>2022-12-17 11:14</td>\n",
       "      <td>Billie Eilish</td>\n",
       "      <td>Six Feet Under</td>\n",
       "      <td>189613</td>\n",
       "    </tr>\n",
       "    <tr>\n",
       "      <th>7108</th>\n",
       "      <td>2022-12-17 11:17</td>\n",
       "      <td>Duncan Laurence</td>\n",
       "      <td>Arcade</td>\n",
       "      <td>185146</td>\n",
       "    </tr>\n",
       "  </tbody>\n",
       "</table>\n",
       "<p>4650 rows × 4 columns</p>\n",
       "</div>"
      ],
      "text/plain": [
       "               endTime              artistName                trackName  \\\n",
       "2     2021-12-17 17:58                   Sanam  Aap Ki Nazron Ne Samjha   \n",
       "3     2021-12-17 18:01                   Sanam  Aap Ki Nazron Ne Samjha   \n",
       "4     2021-12-17 18:05                   Sanam  Aap Ki Nazron Ne Samjha   \n",
       "5     2021-12-17 18:07  Sippy Gill, Desi Roots       Suhe Bullan Waliye   \n",
       "9     2021-12-21 13:57  Sippy Gill, Desi Roots       Suhe Bullan Waliye   \n",
       "...                ...                     ...                      ...   \n",
       "7104  2022-12-17 11:04         Director Fizzix               You and Me   \n",
       "7105  2022-12-17 11:08                    Joji            Glimpse of Us   \n",
       "7106  2022-12-17 11:11                Dua Lipa               Levitating   \n",
       "7107  2022-12-17 11:14           Billie Eilish           Six Feet Under   \n",
       "7108  2022-12-17 11:17         Duncan Laurence                   Arcade   \n",
       "\n",
       "      msPlayed  \n",
       "2       186737  \n",
       "3       186737  \n",
       "4       164350  \n",
       "5       162857  \n",
       "9       162857  \n",
       "...        ...  \n",
       "7104    151244  \n",
       "7105    233456  \n",
       "7106    203807  \n",
       "7107    189613  \n",
       "7108    185146  \n",
       "\n",
       "[4650 rows x 4 columns]"
      ]
     },
     "execution_count": 47,
     "metadata": {},
     "output_type": "execute_result"
    }
   ],
   "source": [
    "data[data['msPlayed']>90000]"
   ]
  },
  {
   "cell_type": "code",
   "execution_count": 50,
   "metadata": {},
   "outputs": [
    {
     "data": {
      "text/plain": [
       "endTime       object\n",
       "artistName    object\n",
       "trackName     object\n",
       "msPlayed       int64\n",
       "dtype: object"
      ]
     },
     "execution_count": 50,
     "metadata": {},
     "output_type": "execute_result"
    }
   ],
   "source": [
    "data.dtypes"
   ]
  },
  {
   "cell_type": "code",
   "execution_count": 52,
   "metadata": {},
   "outputs": [],
   "source": [
    "# data[(data['msPlayed']>10000) & (df[\"artistName\"] == \"Joji\")]"
   ]
  },
  {
   "cell_type": "code",
   "execution_count": null,
   "metadata": {},
   "outputs": [],
   "source": []
  },
  {
   "cell_type": "markdown",
   "metadata": {},
   "source": [
    "And --> &\n",
    "\n",
    "Or --> |"
   ]
  },
  {
   "cell_type": "code",
   "execution_count": 4,
   "metadata": {},
   "outputs": [
    {
     "data": {
      "text/plain": [
       "294.2758333333333"
      ]
     },
     "execution_count": 4,
     "metadata": {},
     "output_type": "execute_result"
    }
   ],
   "source": [
    "data['msPlayed'].sum()/1000/60/60"
   ]
  },
  {
   "cell_type": "code",
   "execution_count": 59,
   "metadata": {},
   "outputs": [],
   "source": [
    "# data[(data['artistName']==\"Sanam\")|(data[\"artistName\"] == \"Joji\")]"
   ]
  },
  {
   "cell_type": "code",
   "execution_count": 56,
   "metadata": {},
   "outputs": [],
   "source": [
    "options = [\"Sanam\",\"Joji\"]"
   ]
  },
  {
   "cell_type": "code",
   "execution_count": 60,
   "metadata": {},
   "outputs": [],
   "source": [
    "# data[\"artistName\"].isin(options)"
   ]
  },
  {
   "cell_type": "code",
   "execution_count": 61,
   "metadata": {},
   "outputs": [],
   "source": [
    "# data[data[\"artistName\"].isin(options)]"
   ]
  },
  {
   "cell_type": "code",
   "execution_count": 13,
   "metadata": {},
   "outputs": [
    {
     "data": {
      "text/plain": [
       "553"
      ]
     },
     "execution_count": 13,
     "metadata": {},
     "output_type": "execute_result"
    }
   ],
   "source": [
    "len(data[\"artistName\"].unique())"
   ]
  },
  {
   "cell_type": "code",
   "execution_count": 62,
   "metadata": {},
   "outputs": [
    {
     "data": {
      "text/plain": [
       "'123'"
      ]
     },
     "execution_count": 62,
     "metadata": {},
     "output_type": "execute_result"
    }
   ],
   "source": [
    "str(123456789)[0:3]"
   ]
  },
  {
   "cell_type": "code",
   "execution_count": 63,
   "metadata": {},
   "outputs": [
    {
     "data": {
      "text/plain": [
       "'789'"
      ]
     },
     "execution_count": 63,
     "metadata": {},
     "output_type": "execute_result"
    }
   ],
   "source": [
    "str(123456789)[-3:]"
   ]
  },
  {
   "cell_type": "code",
   "execution_count": 64,
   "metadata": {},
   "outputs": [
    {
     "data": {
      "text/plain": [
       "'987654321'"
      ]
     },
     "execution_count": 64,
     "metadata": {},
     "output_type": "execute_result"
    }
   ],
   "source": [
    "str(123456789)[::-1]"
   ]
  },
  {
   "cell_type": "markdown",
   "metadata": {},
   "source": [
    "Apply method on single column"
   ]
  },
  {
   "cell_type": "code",
   "execution_count": 65,
   "metadata": {},
   "outputs": [],
   "source": [
    "def first_three(x):\n",
    "    return str(x)[0:3]      "
   ]
  },
  {
   "cell_type": "code",
   "execution_count": 67,
   "metadata": {},
   "outputs": [],
   "source": [
    "data['fir_three']=data['msPlayed'].apply(first_three)"
   ]
  },
  {
   "cell_type": "code",
   "execution_count": 69,
   "metadata": {},
   "outputs": [
    {
     "data": {
      "text/html": [
       "<div>\n",
       "<style scoped>\n",
       "    .dataframe tbody tr th:only-of-type {\n",
       "        vertical-align: middle;\n",
       "    }\n",
       "\n",
       "    .dataframe tbody tr th {\n",
       "        vertical-align: top;\n",
       "    }\n",
       "\n",
       "    .dataframe thead th {\n",
       "        text-align: right;\n",
       "    }\n",
       "</style>\n",
       "<table border=\"1\" class=\"dataframe\">\n",
       "  <thead>\n",
       "    <tr style=\"text-align: right;\">\n",
       "      <th></th>\n",
       "      <th>endTime</th>\n",
       "      <th>artistName</th>\n",
       "      <th>trackName</th>\n",
       "      <th>msPlayed</th>\n",
       "      <th>fir_three</th>\n",
       "    </tr>\n",
       "  </thead>\n",
       "  <tbody>\n",
       "    <tr>\n",
       "      <th>0</th>\n",
       "      <td>2021-12-16 12:22</td>\n",
       "      <td>Mithoon</td>\n",
       "      <td>Aashiqui Aa Gayi(From \"Radhe Shyam\")</td>\n",
       "      <td>90000</td>\n",
       "      <td>900</td>\n",
       "    </tr>\n",
       "    <tr>\n",
       "      <th>1</th>\n",
       "      <td>2021-12-17 17:51</td>\n",
       "      <td>Mithoon</td>\n",
       "      <td>Aashiqui Aa Gayi(From \"Radhe Shyam\")</td>\n",
       "      <td>15868</td>\n",
       "      <td>158</td>\n",
       "    </tr>\n",
       "  </tbody>\n",
       "</table>\n",
       "</div>"
      ],
      "text/plain": [
       "            endTime artistName                             trackName  \\\n",
       "0  2021-12-16 12:22    Mithoon  Aashiqui Aa Gayi(From \"Radhe Shyam\")   \n",
       "1  2021-12-17 17:51    Mithoon  Aashiqui Aa Gayi(From \"Radhe Shyam\")   \n",
       "\n",
       "   msPlayed fir_three  \n",
       "0     90000       900  \n",
       "1     15868       158  "
      ]
     },
     "execution_count": 69,
     "metadata": {},
     "output_type": "execute_result"
    }
   ],
   "source": [
    "data.head(2)"
   ]
  },
  {
   "cell_type": "code",
   "execution_count": 70,
   "metadata": {},
   "outputs": [
    {
     "data": {
      "text/plain": [
       "0       900\n",
       "1       158\n",
       "2       186\n",
       "3       186\n",
       "4       164\n",
       "       ... \n",
       "7104    151\n",
       "7105    233\n",
       "7106    203\n",
       "7107    189\n",
       "7108    185\n",
       "Name: msPlayed, Length: 7109, dtype: object"
      ]
     },
     "execution_count": 70,
     "metadata": {},
     "output_type": "execute_result"
    }
   ],
   "source": [
    "data['msPlayed'].apply(lambda x: str(x)[0:3])"
   ]
  },
  {
   "cell_type": "markdown",
   "metadata": {},
   "source": [
    "Apply method on multiple columns"
   ]
  },
  {
   "cell_type": "code",
   "execution_count": 80,
   "metadata": {},
   "outputs": [
    {
     "data": {
      "text/html": [
       "<div>\n",
       "<style scoped>\n",
       "    .dataframe tbody tr th:only-of-type {\n",
       "        vertical-align: middle;\n",
       "    }\n",
       "\n",
       "    .dataframe tbody tr th {\n",
       "        vertical-align: top;\n",
       "    }\n",
       "\n",
       "    .dataframe thead th {\n",
       "        text-align: right;\n",
       "    }\n",
       "</style>\n",
       "<table border=\"1\" class=\"dataframe\">\n",
       "  <thead>\n",
       "    <tr style=\"text-align: right;\">\n",
       "      <th></th>\n",
       "      <th>endTime</th>\n",
       "      <th>artistName</th>\n",
       "      <th>trackName</th>\n",
       "      <th>msPlayed</th>\n",
       "      <th>fir_three</th>\n",
       "    </tr>\n",
       "  </thead>\n",
       "  <tbody>\n",
       "    <tr>\n",
       "      <th>0</th>\n",
       "      <td>2021-12-16 12:22</td>\n",
       "      <td>Mithoon</td>\n",
       "      <td>Aashiqui Aa Gayi(From \"Radhe Shyam\")</td>\n",
       "      <td>90000</td>\n",
       "      <td>900</td>\n",
       "    </tr>\n",
       "    <tr>\n",
       "      <th>1</th>\n",
       "      <td>2021-12-17 17:51</td>\n",
       "      <td>Mithoon</td>\n",
       "      <td>Aashiqui Aa Gayi(From \"Radhe Shyam\")</td>\n",
       "      <td>15868</td>\n",
       "      <td>158</td>\n",
       "    </tr>\n",
       "    <tr>\n",
       "      <th>2</th>\n",
       "      <td>2021-12-17 17:58</td>\n",
       "      <td>Sanam</td>\n",
       "      <td>Aap Ki Nazron Ne Samjha</td>\n",
       "      <td>186737</td>\n",
       "      <td>186</td>\n",
       "    </tr>\n",
       "    <tr>\n",
       "      <th>3</th>\n",
       "      <td>2021-12-17 18:01</td>\n",
       "      <td>Sanam</td>\n",
       "      <td>Aap Ki Nazron Ne Samjha</td>\n",
       "      <td>186737</td>\n",
       "      <td>186</td>\n",
       "    </tr>\n",
       "    <tr>\n",
       "      <th>4</th>\n",
       "      <td>2021-12-17 18:05</td>\n",
       "      <td>Sanam</td>\n",
       "      <td>Aap Ki Nazron Ne Samjha</td>\n",
       "      <td>164350</td>\n",
       "      <td>164</td>\n",
       "    </tr>\n",
       "    <tr>\n",
       "      <th>...</th>\n",
       "      <td>...</td>\n",
       "      <td>...</td>\n",
       "      <td>...</td>\n",
       "      <td>...</td>\n",
       "      <td>...</td>\n",
       "    </tr>\n",
       "    <tr>\n",
       "      <th>7104</th>\n",
       "      <td>2022-12-17 11:04</td>\n",
       "      <td>Director Fizzix</td>\n",
       "      <td>You and Me</td>\n",
       "      <td>151244</td>\n",
       "      <td>151</td>\n",
       "    </tr>\n",
       "    <tr>\n",
       "      <th>7105</th>\n",
       "      <td>2022-12-17 11:08</td>\n",
       "      <td>Joji</td>\n",
       "      <td>Glimpse of Us</td>\n",
       "      <td>233456</td>\n",
       "      <td>233</td>\n",
       "    </tr>\n",
       "    <tr>\n",
       "      <th>7106</th>\n",
       "      <td>2022-12-17 11:11</td>\n",
       "      <td>Dua Lipa</td>\n",
       "      <td>Levitating</td>\n",
       "      <td>203807</td>\n",
       "      <td>203</td>\n",
       "    </tr>\n",
       "    <tr>\n",
       "      <th>7107</th>\n",
       "      <td>2022-12-17 11:14</td>\n",
       "      <td>Billie Eilish</td>\n",
       "      <td>Six Feet Under</td>\n",
       "      <td>189613</td>\n",
       "      <td>189</td>\n",
       "    </tr>\n",
       "    <tr>\n",
       "      <th>7108</th>\n",
       "      <td>2022-12-17 11:17</td>\n",
       "      <td>Duncan Laurence</td>\n",
       "      <td>Arcade</td>\n",
       "      <td>185146</td>\n",
       "      <td>185</td>\n",
       "    </tr>\n",
       "  </tbody>\n",
       "</table>\n",
       "<p>7109 rows × 5 columns</p>\n",
       "</div>"
      ],
      "text/plain": [
       "               endTime       artistName                             trackName  \\\n",
       "0     2021-12-16 12:22          Mithoon  Aashiqui Aa Gayi(From \"Radhe Shyam\")   \n",
       "1     2021-12-17 17:51          Mithoon  Aashiqui Aa Gayi(From \"Radhe Shyam\")   \n",
       "2     2021-12-17 17:58            Sanam               Aap Ki Nazron Ne Samjha   \n",
       "3     2021-12-17 18:01            Sanam               Aap Ki Nazron Ne Samjha   \n",
       "4     2021-12-17 18:05            Sanam               Aap Ki Nazron Ne Samjha   \n",
       "...                ...              ...                                   ...   \n",
       "7104  2022-12-17 11:04  Director Fizzix                            You and Me   \n",
       "7105  2022-12-17 11:08             Joji                         Glimpse of Us   \n",
       "7106  2022-12-17 11:11         Dua Lipa                            Levitating   \n",
       "7107  2022-12-17 11:14    Billie Eilish                        Six Feet Under   \n",
       "7108  2022-12-17 11:17  Duncan Laurence                                Arcade   \n",
       "\n",
       "      msPlayed fir_three  \n",
       "0        90000       900  \n",
       "1        15868       158  \n",
       "2       186737       186  \n",
       "3       186737       186  \n",
       "4       164350       164  \n",
       "...        ...       ...  \n",
       "7104    151244       151  \n",
       "7105    233456       233  \n",
       "7106    203807       203  \n",
       "7107    189613       189  \n",
       "7108    185146       185  \n",
       "\n",
       "[7109 rows x 5 columns]"
      ]
     },
     "execution_count": 80,
     "metadata": {},
     "output_type": "execute_result"
    }
   ],
   "source": [
    "data"
   ]
  },
  {
   "cell_type": "code",
   "execution_count": 94,
   "metadata": {},
   "outputs": [
    {
     "data": {
      "text/plain": [
       "count    7.109000e+03\n",
       "mean     1.490214e+05\n",
       "std      1.123469e+05\n",
       "min      0.000000e+00\n",
       "25%      3.089000e+04\n",
       "50%      1.826000e+05\n",
       "75%      2.238400e+05\n",
       "max      3.243111e+06\n",
       "Name: msPlayed, dtype: float64"
      ]
     },
     "execution_count": 94,
     "metadata": {},
     "output_type": "execute_result"
    }
   ],
   "source": [
    "data['msPlayed'].describe()"
   ]
  },
  {
   "cell_type": "code",
   "execution_count": 84,
   "metadata": {},
   "outputs": [
    {
     "data": {
      "text/plain": [
       "endTime       object\n",
       "artistName    object\n",
       "trackName     object\n",
       "msPlayed       int64\n",
       "fir_three     object\n",
       "dtype: object"
      ]
     },
     "execution_count": 84,
     "metadata": {},
     "output_type": "execute_result"
    }
   ],
   "source": [
    "data.dtypes"
   ]
  },
  {
   "cell_type": "code",
   "execution_count": 85,
   "metadata": {},
   "outputs": [],
   "source": [
    "def con_int(x):\n",
    "    return int(x)"
   ]
  },
  {
   "cell_type": "code",
   "execution_count": 86,
   "metadata": {},
   "outputs": [],
   "source": [
    "data['fir_three']=data['fir_three'].apply(con_int)"
   ]
  },
  {
   "cell_type": "code",
   "execution_count": 87,
   "metadata": {},
   "outputs": [
    {
     "data": {
      "text/plain": [
       "endTime       object\n",
       "artistName    object\n",
       "trackName     object\n",
       "msPlayed       int64\n",
       "fir_three      int64\n",
       "dtype: object"
      ]
     },
     "execution_count": 87,
     "metadata": {},
     "output_type": "execute_result"
    }
   ],
   "source": [
    "data.dtypes"
   ]
  },
  {
   "cell_type": "code",
   "execution_count": 88,
   "metadata": {},
   "outputs": [
    {
     "data": {
      "text/plain": [
       "0        100.000000\n",
       "1        100.430380\n",
       "2       1003.962366\n",
       "3       1003.962366\n",
       "4       1002.134146\n",
       "           ...     \n",
       "7104    1001.615894\n",
       "7105    1001.957082\n",
       "7106    1003.975369\n",
       "7107    1003.243386\n",
       "7108    1000.789189\n",
       "Length: 7109, dtype: float64"
      ]
     },
     "execution_count": 88,
     "metadata": {},
     "output_type": "execute_result"
    }
   ],
   "source": [
    "data['msPlayed']/data['fir_three']"
   ]
  },
  {
   "cell_type": "code",
   "execution_count": 82,
   "metadata": {},
   "outputs": [
    {
     "data": {
      "text/plain": [
       "0        90000\n",
       "1        15868\n",
       "2       186737\n",
       "3       186737\n",
       "4       164350\n",
       "         ...  \n",
       "7104    151244\n",
       "7105    233456\n",
       "7106    203807\n",
       "7107    189613\n",
       "7108    185146\n",
       "Name: msPlayed, Length: 7109, dtype: int64"
      ]
     },
     "execution_count": 82,
     "metadata": {},
     "output_type": "execute_result"
    }
   ],
   "source": [
    "data['msPlayed']"
   ]
  },
  {
   "cell_type": "code",
   "execution_count": 81,
   "metadata": {},
   "outputs": [
    {
     "data": {
      "text/plain": [
       "0       900\n",
       "1       158\n",
       "2       186\n",
       "3       186\n",
       "4       164\n",
       "       ... \n",
       "7104    151\n",
       "7105    233\n",
       "7106    203\n",
       "7107    189\n",
       "7108    185\n",
       "Name: fir_three, Length: 7109, dtype: object"
      ]
     },
     "execution_count": 81,
     "metadata": {},
     "output_type": "execute_result"
    }
   ],
   "source": [
    "data['fir_three']"
   ]
  },
  {
   "cell_type": "code",
   "execution_count": 92,
   "metadata": {},
   "outputs": [],
   "source": [
    "def quality(msPlayed,fir_three):\n",
    "    if msPlayed/fir_three > 500:\n",
    "        return \"Good\"\n",
    "    else:\n",
    "        return \"Bad\""
   ]
  },
  {
   "cell_type": "code",
   "execution_count": 90,
   "metadata": {},
   "outputs": [
    {
     "name": "stderr",
     "output_type": "stream",
     "text": [
      "/tmp/ipykernel_2160/1097993859.py:2: RuntimeWarning: invalid value encountered in long_scalars\n",
      "  if msPlayed/fir_three > 500:\n"
     ]
    },
    {
     "data": {
      "text/plain": [
       "0        Bad\n",
       "1        Bad\n",
       "2       Good\n",
       "3       Good\n",
       "4       Good\n",
       "        ... \n",
       "7104    Good\n",
       "7105    Good\n",
       "7106    Good\n",
       "7107    Good\n",
       "7108    Good\n",
       "Length: 7109, dtype: object"
      ]
     },
     "execution_count": 90,
     "metadata": {},
     "output_type": "execute_result"
    }
   ],
   "source": [
    "data[['msPlayed','fir_three']].apply(lambda data:quality(data['msPlayed'],data['fir_three']),axis=1)"
   ]
  },
  {
   "cell_type": "code",
   "execution_count": 104,
   "metadata": {},
   "outputs": [],
   "source": [
    "# np.vectorize(quality)(data['msPlayed'],data['fir_three'])"
   ]
  },
  {
   "cell_type": "code",
   "execution_count": 95,
   "metadata": {},
   "outputs": [
    {
     "data": {
      "text/plain": [
       "count    7.109000e+03\n",
       "mean     1.490214e+05\n",
       "std      1.123469e+05\n",
       "min      0.000000e+00\n",
       "25%      3.089000e+04\n",
       "50%      1.826000e+05\n",
       "75%      2.238400e+05\n",
       "max      3.243111e+06\n",
       "Name: msPlayed, dtype: float64"
      ]
     },
     "execution_count": 95,
     "metadata": {},
     "output_type": "execute_result"
    }
   ],
   "source": [
    "data['msPlayed'].describe()"
   ]
  },
  {
   "cell_type": "markdown",
   "metadata": {},
   "source": [
    "There are 3 zero values in the column, so we get ZeroDivisionError"
   ]
  },
  {
   "cell_type": "code",
   "execution_count": 102,
   "metadata": {},
   "outputs": [
    {
     "data": {
      "text/plain": [
       "Int64Index([  24,   25,   26,   32,   33,   34,   35,   41,   68,  163,\n",
       "            ...\n",
       "            6738, 6745, 7053, 7076, 7081, 7093, 7094, 7095, 7096, 7098],\n",
       "           dtype='int64', length=102)"
      ]
     },
     "execution_count": 102,
     "metadata": {},
     "output_type": "execute_result"
    }
   ],
   "source": [
    "data[data['msPlayed']==0].index"
   ]
  },
  {
   "cell_type": "code",
   "execution_count": 103,
   "metadata": {},
   "outputs": [],
   "source": [
    "data=data.drop(data[data['msPlayed']==0].index,axis=0)"
   ]
  },
  {
   "cell_type": "code",
   "execution_count": 105,
   "metadata": {},
   "outputs": [
    {
     "data": {
      "text/plain": [
       "array(['Bad', 'Bad', 'Good', ..., 'Good', 'Good', 'Good'], dtype='<U4')"
      ]
     },
     "execution_count": 105,
     "metadata": {},
     "output_type": "execute_result"
    }
   ],
   "source": [
    "np.vectorize(quality)(data['msPlayed'],data['fir_three'])"
   ]
  },
  {
   "cell_type": "markdown",
   "metadata": {},
   "source": [
    "Sort Values with paticular columns"
   ]
  },
  {
   "cell_type": "code",
   "execution_count": 106,
   "metadata": {},
   "outputs": [
    {
     "data": {
      "text/html": [
       "<div>\n",
       "<style scoped>\n",
       "    .dataframe tbody tr th:only-of-type {\n",
       "        vertical-align: middle;\n",
       "    }\n",
       "\n",
       "    .dataframe tbody tr th {\n",
       "        vertical-align: top;\n",
       "    }\n",
       "\n",
       "    .dataframe thead th {\n",
       "        text-align: right;\n",
       "    }\n",
       "</style>\n",
       "<table border=\"1\" class=\"dataframe\">\n",
       "  <thead>\n",
       "    <tr style=\"text-align: right;\">\n",
       "      <th></th>\n",
       "      <th>endTime</th>\n",
       "      <th>artistName</th>\n",
       "      <th>trackName</th>\n",
       "      <th>msPlayed</th>\n",
       "      <th>fir_three</th>\n",
       "    </tr>\n",
       "  </thead>\n",
       "  <tbody>\n",
       "    <tr>\n",
       "      <th>478</th>\n",
       "      <td>2022-02-13 07:11</td>\n",
       "      <td>MEDITATION SELF</td>\n",
       "      <td>Study Music, Concentration, Focus, Meditation,...</td>\n",
       "      <td>3243111</td>\n",
       "      <td>324</td>\n",
       "    </tr>\n",
       "    <tr>\n",
       "      <th>1718</th>\n",
       "      <td>2022-03-16 11:19</td>\n",
       "      <td>Nusrat Fateh Ali Khan</td>\n",
       "      <td>Tumhain Dillagi Bhool Jani Paray Gi</td>\n",
       "      <td>938199</td>\n",
       "      <td>938</td>\n",
       "    </tr>\n",
       "    <tr>\n",
       "      <th>3292</th>\n",
       "      <td>2022-04-17 10:57</td>\n",
       "      <td>Yashal Shahid</td>\n",
       "      <td>Mere Humsafar (Original Score) [Female Version]</td>\n",
       "      <td>862812</td>\n",
       "      <td>862</td>\n",
       "    </tr>\n",
       "    <tr>\n",
       "      <th>1714</th>\n",
       "      <td>2022-03-16 10:44</td>\n",
       "      <td>Nusrat Fateh Ali Khan</td>\n",
       "      <td>Kali Kali Zulfon Ke Phande Na</td>\n",
       "      <td>859345</td>\n",
       "      <td>859</td>\n",
       "    </tr>\n",
       "    <tr>\n",
       "      <th>1081</th>\n",
       "      <td>2022-03-08 10:10</td>\n",
       "      <td>Nusrat Fateh Ali Khan</td>\n",
       "      <td>Ye Jo Halka Halka Saroor</td>\n",
       "      <td>782444</td>\n",
       "      <td>782</td>\n",
       "    </tr>\n",
       "    <tr>\n",
       "      <th>...</th>\n",
       "      <td>...</td>\n",
       "      <td>...</td>\n",
       "      <td>...</td>\n",
       "      <td>...</td>\n",
       "      <td>...</td>\n",
       "    </tr>\n",
       "    <tr>\n",
       "      <th>639</th>\n",
       "      <td>2022-02-27 06:24</td>\n",
       "      <td>Selena Gomez</td>\n",
       "      <td>Wolves</td>\n",
       "      <td>23</td>\n",
       "      <td>23</td>\n",
       "    </tr>\n",
       "    <tr>\n",
       "      <th>5622</th>\n",
       "      <td>2022-08-12 04:27</td>\n",
       "      <td>Babbal Rai</td>\n",
       "      <td>Tere Layi</td>\n",
       "      <td>23</td>\n",
       "      <td>23</td>\n",
       "    </tr>\n",
       "    <tr>\n",
       "      <th>3714</th>\n",
       "      <td>2022-05-04 13:05</td>\n",
       "      <td>JP Saxe</td>\n",
       "      <td>Kissin' In The Cold</td>\n",
       "      <td>23</td>\n",
       "      <td>23</td>\n",
       "    </tr>\n",
       "    <tr>\n",
       "      <th>3418</th>\n",
       "      <td>2022-04-23 13:11</td>\n",
       "      <td>Justin Bieber</td>\n",
       "      <td>Peaches (feat. Daniel Caesar &amp; Giveon)</td>\n",
       "      <td>23</td>\n",
       "      <td>23</td>\n",
       "    </tr>\n",
       "    <tr>\n",
       "      <th>7</th>\n",
       "      <td>2021-12-21 13:54</td>\n",
       "      <td>Sippy Gill, Desi Roots</td>\n",
       "      <td>Suhe Bullan Waliye</td>\n",
       "      <td>1</td>\n",
       "      <td>1</td>\n",
       "    </tr>\n",
       "  </tbody>\n",
       "</table>\n",
       "<p>7007 rows × 5 columns</p>\n",
       "</div>"
      ],
      "text/plain": [
       "               endTime              artistName  \\\n",
       "478   2022-02-13 07:11         MEDITATION SELF   \n",
       "1718  2022-03-16 11:19   Nusrat Fateh Ali Khan   \n",
       "3292  2022-04-17 10:57           Yashal Shahid   \n",
       "1714  2022-03-16 10:44   Nusrat Fateh Ali Khan   \n",
       "1081  2022-03-08 10:10   Nusrat Fateh Ali Khan   \n",
       "...                ...                     ...   \n",
       "639   2022-02-27 06:24            Selena Gomez   \n",
       "5622  2022-08-12 04:27              Babbal Rai   \n",
       "3714  2022-05-04 13:05                 JP Saxe   \n",
       "3418  2022-04-23 13:11           Justin Bieber   \n",
       "7     2021-12-21 13:54  Sippy Gill, Desi Roots   \n",
       "\n",
       "                                              trackName  msPlayed  fir_three  \n",
       "478   Study Music, Concentration, Focus, Meditation,...   3243111        324  \n",
       "1718                Tumhain Dillagi Bhool Jani Paray Gi    938199        938  \n",
       "3292    Mere Humsafar (Original Score) [Female Version]    862812        862  \n",
       "1714                      Kali Kali Zulfon Ke Phande Na    859345        859  \n",
       "1081                           Ye Jo Halka Halka Saroor    782444        782  \n",
       "...                                                 ...       ...        ...  \n",
       "639                                              Wolves        23         23  \n",
       "5622                                          Tere Layi        23         23  \n",
       "3714                                Kissin' In The Cold        23         23  \n",
       "3418             Peaches (feat. Daniel Caesar & Giveon)        23         23  \n",
       "7                                    Suhe Bullan Waliye         1          1  \n",
       "\n",
       "[7007 rows x 5 columns]"
      ]
     },
     "execution_count": 106,
     "metadata": {},
     "output_type": "execute_result"
    }
   ],
   "source": [
    "data.sort_values(by='msPlayed',ascending=False)"
   ]
  },
  {
   "cell_type": "code",
   "execution_count": 107,
   "metadata": {},
   "outputs": [
    {
     "data": {
      "text/html": [
       "<div>\n",
       "<style scoped>\n",
       "    .dataframe tbody tr th:only-of-type {\n",
       "        vertical-align: middle;\n",
       "    }\n",
       "\n",
       "    .dataframe tbody tr th {\n",
       "        vertical-align: top;\n",
       "    }\n",
       "\n",
       "    .dataframe thead th {\n",
       "        text-align: right;\n",
       "    }\n",
       "</style>\n",
       "<table border=\"1\" class=\"dataframe\">\n",
       "  <thead>\n",
       "    <tr style=\"text-align: right;\">\n",
       "      <th></th>\n",
       "      <th>endTime</th>\n",
       "      <th>artistName</th>\n",
       "      <th>trackName</th>\n",
       "      <th>msPlayed</th>\n",
       "      <th>fir_three</th>\n",
       "    </tr>\n",
       "  </thead>\n",
       "  <tbody>\n",
       "    <tr>\n",
       "      <th>478</th>\n",
       "      <td>2022-02-13 07:11</td>\n",
       "      <td>MEDITATION SELF</td>\n",
       "      <td>Study Music, Concentration, Focus, Meditation,...</td>\n",
       "      <td>3243111</td>\n",
       "      <td>324</td>\n",
       "    </tr>\n",
       "    <tr>\n",
       "      <th>1718</th>\n",
       "      <td>2022-03-16 11:19</td>\n",
       "      <td>Nusrat Fateh Ali Khan</td>\n",
       "      <td>Tumhain Dillagi Bhool Jani Paray Gi</td>\n",
       "      <td>938199</td>\n",
       "      <td>938</td>\n",
       "    </tr>\n",
       "    <tr>\n",
       "      <th>3292</th>\n",
       "      <td>2022-04-17 10:57</td>\n",
       "      <td>Yashal Shahid</td>\n",
       "      <td>Mere Humsafar (Original Score) [Female Version]</td>\n",
       "      <td>862812</td>\n",
       "      <td>862</td>\n",
       "    </tr>\n",
       "    <tr>\n",
       "      <th>1714</th>\n",
       "      <td>2022-03-16 10:44</td>\n",
       "      <td>Nusrat Fateh Ali Khan</td>\n",
       "      <td>Kali Kali Zulfon Ke Phande Na</td>\n",
       "      <td>859345</td>\n",
       "      <td>859</td>\n",
       "    </tr>\n",
       "    <tr>\n",
       "      <th>1081</th>\n",
       "      <td>2022-03-08 10:10</td>\n",
       "      <td>Nusrat Fateh Ali Khan</td>\n",
       "      <td>Ye Jo Halka Halka Saroor</td>\n",
       "      <td>782444</td>\n",
       "      <td>782</td>\n",
       "    </tr>\n",
       "    <tr>\n",
       "      <th>...</th>\n",
       "      <td>...</td>\n",
       "      <td>...</td>\n",
       "      <td>...</td>\n",
       "      <td>...</td>\n",
       "      <td>...</td>\n",
       "    </tr>\n",
       "    <tr>\n",
       "      <th>5283</th>\n",
       "      <td>2022-07-26 16:57</td>\n",
       "      <td>Justin Bieber</td>\n",
       "      <td>Peaches (feat. Daniel Caesar &amp; Giveon)</td>\n",
       "      <td>23</td>\n",
       "      <td>23</td>\n",
       "    </tr>\n",
       "    <tr>\n",
       "      <th>5318</th>\n",
       "      <td>2022-07-28 06:40</td>\n",
       "      <td>Russ</td>\n",
       "      <td>Nobody Knows</td>\n",
       "      <td>23</td>\n",
       "      <td>23</td>\n",
       "    </tr>\n",
       "    <tr>\n",
       "      <th>5622</th>\n",
       "      <td>2022-08-12 04:27</td>\n",
       "      <td>Babbal Rai</td>\n",
       "      <td>Tere Layi</td>\n",
       "      <td>23</td>\n",
       "      <td>23</td>\n",
       "    </tr>\n",
       "    <tr>\n",
       "      <th>6400</th>\n",
       "      <td>2022-10-10 06:41</td>\n",
       "      <td>Taylor Swift</td>\n",
       "      <td>Lover</td>\n",
       "      <td>23</td>\n",
       "      <td>23</td>\n",
       "    </tr>\n",
       "    <tr>\n",
       "      <th>7</th>\n",
       "      <td>2021-12-21 13:54</td>\n",
       "      <td>Sippy Gill, Desi Roots</td>\n",
       "      <td>Suhe Bullan Waliye</td>\n",
       "      <td>1</td>\n",
       "      <td>1</td>\n",
       "    </tr>\n",
       "  </tbody>\n",
       "</table>\n",
       "<p>7007 rows × 5 columns</p>\n",
       "</div>"
      ],
      "text/plain": [
       "               endTime              artistName  \\\n",
       "478   2022-02-13 07:11         MEDITATION SELF   \n",
       "1718  2022-03-16 11:19   Nusrat Fateh Ali Khan   \n",
       "3292  2022-04-17 10:57           Yashal Shahid   \n",
       "1714  2022-03-16 10:44   Nusrat Fateh Ali Khan   \n",
       "1081  2022-03-08 10:10   Nusrat Fateh Ali Khan   \n",
       "...                ...                     ...   \n",
       "5283  2022-07-26 16:57           Justin Bieber   \n",
       "5318  2022-07-28 06:40                    Russ   \n",
       "5622  2022-08-12 04:27              Babbal Rai   \n",
       "6400  2022-10-10 06:41            Taylor Swift   \n",
       "7     2021-12-21 13:54  Sippy Gill, Desi Roots   \n",
       "\n",
       "                                              trackName  msPlayed  fir_three  \n",
       "478   Study Music, Concentration, Focus, Meditation,...   3243111        324  \n",
       "1718                Tumhain Dillagi Bhool Jani Paray Gi    938199        938  \n",
       "3292    Mere Humsafar (Original Score) [Female Version]    862812        862  \n",
       "1714                      Kali Kali Zulfon Ke Phande Na    859345        859  \n",
       "1081                           Ye Jo Halka Halka Saroor    782444        782  \n",
       "...                                                 ...       ...        ...  \n",
       "5283             Peaches (feat. Daniel Caesar & Giveon)        23         23  \n",
       "5318                                       Nobody Knows        23         23  \n",
       "5622                                          Tere Layi        23         23  \n",
       "6400                                              Lover        23         23  \n",
       "7                                    Suhe Bullan Waliye         1          1  \n",
       "\n",
       "[7007 rows x 5 columns]"
      ]
     },
     "execution_count": 107,
     "metadata": {},
     "output_type": "execute_result"
    }
   ],
   "source": [
    "data.sort_values(by=['msPlayed','fir_three'],ascending=False)"
   ]
  },
  {
   "cell_type": "code",
   "execution_count": 108,
   "metadata": {},
   "outputs": [
    {
     "data": {
      "text/plain": [
       "3243111"
      ]
     },
     "execution_count": 108,
     "metadata": {},
     "output_type": "execute_result"
    }
   ],
   "source": [
    "data['msPlayed'].max()"
   ]
  },
  {
   "cell_type": "code",
   "execution_count": 109,
   "metadata": {},
   "outputs": [
    {
     "data": {
      "text/plain": [
       "478"
      ]
     },
     "execution_count": 109,
     "metadata": {},
     "output_type": "execute_result"
    }
   ],
   "source": [
    "data['msPlayed'].idxmax()"
   ]
  },
  {
   "cell_type": "code",
   "execution_count": 111,
   "metadata": {},
   "outputs": [
    {
     "data": {
      "text/plain": [
       "endTime                                        2022-02-13 07:11\n",
       "artistName                                      MEDITATION SELF\n",
       "trackName     Study Music, Concentration, Focus, Meditation,...\n",
       "msPlayed                                                3243111\n",
       "fir_three                                                   324\n",
       "Name: 478, dtype: object"
      ]
     },
     "execution_count": 111,
     "metadata": {},
     "output_type": "execute_result"
    }
   ],
   "source": [
    "data.loc[478] # tell which row at 478 index"
   ]
  },
  {
   "cell_type": "code",
   "execution_count": 112,
   "metadata": {},
   "outputs": [
    {
     "data": {
      "text/plain": [
       "endTime       2022-02-13 17:22\n",
       "artistName               Akhil\n",
       "trackName            Teri Kami\n",
       "msPlayed                261538\n",
       "fir_three                  261\n",
       "Name: 504, dtype: object"
      ]
     },
     "execution_count": 112,
     "metadata": {},
     "output_type": "execute_result"
    }
   ],
   "source": [
    "data.iloc[478]# tell 478th row"
   ]
  },
  {
   "cell_type": "code",
   "execution_count": 113,
   "metadata": {},
   "outputs": [
    {
     "name": "stderr",
     "output_type": "stream",
     "text": [
      "/tmp/ipykernel_2160/2627137660.py:1: FutureWarning: The default value of numeric_only in DataFrame.corr is deprecated. In a future version, it will default to False. Select only valid columns or specify the value of numeric_only to silence this warning.\n",
      "  data.corr()\n"
     ]
    },
    {
     "data": {
      "text/html": [
       "<div>\n",
       "<style scoped>\n",
       "    .dataframe tbody tr th:only-of-type {\n",
       "        vertical-align: middle;\n",
       "    }\n",
       "\n",
       "    .dataframe tbody tr th {\n",
       "        vertical-align: top;\n",
       "    }\n",
       "\n",
       "    .dataframe thead th {\n",
       "        text-align: right;\n",
       "    }\n",
       "</style>\n",
       "<table border=\"1\" class=\"dataframe\">\n",
       "  <thead>\n",
       "    <tr style=\"text-align: right;\">\n",
       "      <th></th>\n",
       "      <th>msPlayed</th>\n",
       "      <th>fir_three</th>\n",
       "    </tr>\n",
       "  </thead>\n",
       "  <tbody>\n",
       "    <tr>\n",
       "      <th>msPlayed</th>\n",
       "      <td>1.000000</td>\n",
       "      <td>-0.246392</td>\n",
       "    </tr>\n",
       "    <tr>\n",
       "      <th>fir_three</th>\n",
       "      <td>-0.246392</td>\n",
       "      <td>1.000000</td>\n",
       "    </tr>\n",
       "  </tbody>\n",
       "</table>\n",
       "</div>"
      ],
      "text/plain": [
       "           msPlayed  fir_three\n",
       "msPlayed   1.000000  -0.246392\n",
       "fir_three -0.246392   1.000000"
      ]
     },
     "execution_count": 113,
     "metadata": {},
     "output_type": "execute_result"
    }
   ],
   "source": [
    "data.corr()"
   ]
  },
  {
   "cell_type": "code",
   "execution_count": 114,
   "metadata": {},
   "outputs": [
    {
     "data": {
      "text/plain": [
       "Ed Sheeran        557\n",
       "Taylor Swift      347\n",
       "Shawn Mendes      245\n",
       "Ellie Goulding    221\n",
       "Justin Bieber     205\n",
       "                 ... \n",
       "Jagjit Singh        1\n",
       "Jeremy Zucker       1\n",
       "Ami Mishra          1\n",
       "Boyce Avenue        1\n",
       "Danny Gokey         1\n",
       "Name: artistName, Length: 549, dtype: int64"
      ]
     },
     "execution_count": 114,
     "metadata": {},
     "output_type": "execute_result"
    }
   ],
   "source": [
    "data['artistName'].value_counts()"
   ]
  },
  {
   "cell_type": "code",
   "execution_count": 149,
   "metadata": {},
   "outputs": [],
   "source": [
    "# data['artistName'].unique()"
   ]
  },
  {
   "cell_type": "markdown",
   "metadata": {},
   "source": [
    "Replace the values"
   ]
  },
  {
   "cell_type": "code",
   "execution_count": 127,
   "metadata": {},
   "outputs": [],
   "source": [
    "new_df = pd.DataFrame(['Female','Male','Female','Male'],[100,200,100,150])\n",
    "new_df=new_df.reset_index()\n"
   ]
  },
  {
   "cell_type": "code",
   "execution_count": 128,
   "metadata": {},
   "outputs": [],
   "source": [
    "new_df.columns = [\"Salary\",'Sex']"
   ]
  },
  {
   "cell_type": "code",
   "execution_count": 129,
   "metadata": {},
   "outputs": [
    {
     "data": {
      "text/html": [
       "<div>\n",
       "<style scoped>\n",
       "    .dataframe tbody tr th:only-of-type {\n",
       "        vertical-align: middle;\n",
       "    }\n",
       "\n",
       "    .dataframe tbody tr th {\n",
       "        vertical-align: top;\n",
       "    }\n",
       "\n",
       "    .dataframe thead th {\n",
       "        text-align: right;\n",
       "    }\n",
       "</style>\n",
       "<table border=\"1\" class=\"dataframe\">\n",
       "  <thead>\n",
       "    <tr style=\"text-align: right;\">\n",
       "      <th></th>\n",
       "      <th>Salary</th>\n",
       "      <th>Sex</th>\n",
       "    </tr>\n",
       "  </thead>\n",
       "  <tbody>\n",
       "    <tr>\n",
       "      <th>0</th>\n",
       "      <td>100</td>\n",
       "      <td>Female</td>\n",
       "    </tr>\n",
       "    <tr>\n",
       "      <th>1</th>\n",
       "      <td>200</td>\n",
       "      <td>Male</td>\n",
       "    </tr>\n",
       "    <tr>\n",
       "      <th>2</th>\n",
       "      <td>100</td>\n",
       "      <td>Female</td>\n",
       "    </tr>\n",
       "    <tr>\n",
       "      <th>3</th>\n",
       "      <td>150</td>\n",
       "      <td>Male</td>\n",
       "    </tr>\n",
       "  </tbody>\n",
       "</table>\n",
       "</div>"
      ],
      "text/plain": [
       "   Salary     Sex\n",
       "0     100  Female\n",
       "1     200    Male\n",
       "2     100  Female\n",
       "3     150    Male"
      ]
     },
     "execution_count": 129,
     "metadata": {},
     "output_type": "execute_result"
    }
   ],
   "source": [
    "new_df"
   ]
  },
  {
   "cell_type": "code",
   "execution_count": 130,
   "metadata": {},
   "outputs": [
    {
     "data": {
      "text/plain": [
       "0    F\n",
       "1    M\n",
       "2    F\n",
       "3    M\n",
       "Name: Sex, dtype: object"
      ]
     },
     "execution_count": 130,
     "metadata": {},
     "output_type": "execute_result"
    }
   ],
   "source": [
    "new_df['Sex'].replace([\"Female\",\"Male\"],[\"F\",\"M\"])"
   ]
  },
  {
   "cell_type": "code",
   "execution_count": 131,
   "metadata": {},
   "outputs": [],
   "source": [
    "rep = {\"Female\":\"F\",\"Male\":\"M\"}"
   ]
  },
  {
   "cell_type": "code",
   "execution_count": 132,
   "metadata": {},
   "outputs": [
    {
     "data": {
      "text/plain": [
       "0    F\n",
       "1    M\n",
       "2    F\n",
       "3    M\n",
       "Name: Sex, dtype: object"
      ]
     },
     "execution_count": 132,
     "metadata": {},
     "output_type": "execute_result"
    }
   ],
   "source": [
    "new_df[\"Sex\"].map(rep)"
   ]
  },
  {
   "cell_type": "code",
   "execution_count": 133,
   "metadata": {},
   "outputs": [
    {
     "data": {
      "text/plain": [
       "0    False\n",
       "1    False\n",
       "2     True\n",
       "3    False\n",
       "dtype: bool"
      ]
     },
     "execution_count": 133,
     "metadata": {},
     "output_type": "execute_result"
    }
   ],
   "source": [
    "new_df.duplicated()"
   ]
  },
  {
   "cell_type": "code",
   "execution_count": 134,
   "metadata": {},
   "outputs": [
    {
     "data": {
      "text/html": [
       "<div>\n",
       "<style scoped>\n",
       "    .dataframe tbody tr th:only-of-type {\n",
       "        vertical-align: middle;\n",
       "    }\n",
       "\n",
       "    .dataframe tbody tr th {\n",
       "        vertical-align: top;\n",
       "    }\n",
       "\n",
       "    .dataframe thead th {\n",
       "        text-align: right;\n",
       "    }\n",
       "</style>\n",
       "<table border=\"1\" class=\"dataframe\">\n",
       "  <thead>\n",
       "    <tr style=\"text-align: right;\">\n",
       "      <th></th>\n",
       "      <th>Salary</th>\n",
       "      <th>Sex</th>\n",
       "    </tr>\n",
       "  </thead>\n",
       "  <tbody>\n",
       "    <tr>\n",
       "      <th>0</th>\n",
       "      <td>100</td>\n",
       "      <td>Female</td>\n",
       "    </tr>\n",
       "    <tr>\n",
       "      <th>1</th>\n",
       "      <td>200</td>\n",
       "      <td>Male</td>\n",
       "    </tr>\n",
       "    <tr>\n",
       "      <th>3</th>\n",
       "      <td>150</td>\n",
       "      <td>Male</td>\n",
       "    </tr>\n",
       "  </tbody>\n",
       "</table>\n",
       "</div>"
      ],
      "text/plain": [
       "   Salary     Sex\n",
       "0     100  Female\n",
       "1     200    Male\n",
       "3     150    Male"
      ]
     },
     "execution_count": 134,
     "metadata": {},
     "output_type": "execute_result"
    }
   ],
   "source": [
    "new_df.drop_duplicates()"
   ]
  },
  {
   "cell_type": "markdown",
   "metadata": {},
   "source": [
    "len(data['artistName'].unique())"
   ]
  },
  {
   "cell_type": "code",
   "execution_count": 136,
   "metadata": {},
   "outputs": [
    {
     "name": "stderr",
     "output_type": "stream",
     "text": [
      "/tmp/ipykernel_2160/1621511768.py:1: FutureWarning: Boolean inputs to the `inclusive` argument are deprecated in favour of `both` or `neither`.\n",
      "  data[data['fir_three'].between(500,700,inclusive=True)]\n"
     ]
    },
    {
     "data": {
      "text/html": [
       "<div>\n",
       "<style scoped>\n",
       "    .dataframe tbody tr th:only-of-type {\n",
       "        vertical-align: middle;\n",
       "    }\n",
       "\n",
       "    .dataframe tbody tr th {\n",
       "        vertical-align: top;\n",
       "    }\n",
       "\n",
       "    .dataframe thead th {\n",
       "        text-align: right;\n",
       "    }\n",
       "</style>\n",
       "<table border=\"1\" class=\"dataframe\">\n",
       "  <thead>\n",
       "    <tr style=\"text-align: right;\">\n",
       "      <th></th>\n",
       "      <th>endTime</th>\n",
       "      <th>artistName</th>\n",
       "      <th>trackName</th>\n",
       "      <th>msPlayed</th>\n",
       "      <th>fir_three</th>\n",
       "    </tr>\n",
       "  </thead>\n",
       "  <tbody>\n",
       "    <tr>\n",
       "      <th>36</th>\n",
       "      <td>2021-12-26 13:51</td>\n",
       "      <td>Jaymes Young</td>\n",
       "      <td>Infinity</td>\n",
       "      <td>5761</td>\n",
       "      <td>576</td>\n",
       "    </tr>\n",
       "    <tr>\n",
       "      <th>45</th>\n",
       "      <td>2021-12-26 13:55</td>\n",
       "      <td>Witt Lowry</td>\n",
       "      <td>Into Your Arms (feat. Ava Max)</td>\n",
       "      <td>62157</td>\n",
       "      <td>621</td>\n",
       "    </tr>\n",
       "    <tr>\n",
       "      <th>55</th>\n",
       "      <td>2021-12-26 14:21</td>\n",
       "      <td>Harrdy Sandhu</td>\n",
       "      <td>Bijlee Bijlee</td>\n",
       "      <td>57896</td>\n",
       "      <td>578</td>\n",
       "    </tr>\n",
       "    <tr>\n",
       "      <th>62</th>\n",
       "      <td>2021-12-26 14:39</td>\n",
       "      <td>Justin Bieber</td>\n",
       "      <td>Baby</td>\n",
       "      <td>60308</td>\n",
       "      <td>603</td>\n",
       "    </tr>\n",
       "    <tr>\n",
       "      <th>65</th>\n",
       "      <td>2021-12-26 14:42</td>\n",
       "      <td>Imagine Dragons</td>\n",
       "      <td>Believer</td>\n",
       "      <td>6462</td>\n",
       "      <td>646</td>\n",
       "    </tr>\n",
       "    <tr>\n",
       "      <th>...</th>\n",
       "      <td>...</td>\n",
       "      <td>...</td>\n",
       "      <td>...</td>\n",
       "      <td>...</td>\n",
       "      <td>...</td>\n",
       "    </tr>\n",
       "    <tr>\n",
       "      <th>7046</th>\n",
       "      <td>2022-12-05 07:07</td>\n",
       "      <td>Bilal Saeed</td>\n",
       "      <td>Baari</td>\n",
       "      <td>6594</td>\n",
       "      <td>659</td>\n",
       "    </tr>\n",
       "    <tr>\n",
       "      <th>7051</th>\n",
       "      <td>2022-12-06 12:28</td>\n",
       "      <td>Harvi</td>\n",
       "      <td>Kde Kde</td>\n",
       "      <td>60766</td>\n",
       "      <td>607</td>\n",
       "    </tr>\n",
       "    <tr>\n",
       "      <th>7062</th>\n",
       "      <td>2022-12-06 13:38</td>\n",
       "      <td>Shawn Mendes</td>\n",
       "      <td>There's Nothing Holdin' Me Back</td>\n",
       "      <td>61043</td>\n",
       "      <td>610</td>\n",
       "    </tr>\n",
       "    <tr>\n",
       "      <th>7063</th>\n",
       "      <td>2022-12-08 15:52</td>\n",
       "      <td>Shawn Mendes</td>\n",
       "      <td>There's Nothing Holdin' Me Back</td>\n",
       "      <td>6017</td>\n",
       "      <td>601</td>\n",
       "    </tr>\n",
       "    <tr>\n",
       "      <th>7077</th>\n",
       "      <td>2022-12-09 11:59</td>\n",
       "      <td>Farhan Saeed</td>\n",
       "      <td>Thodi Der</td>\n",
       "      <td>54822</td>\n",
       "      <td>548</td>\n",
       "    </tr>\n",
       "  </tbody>\n",
       "</table>\n",
       "<p>419 rows × 5 columns</p>\n",
       "</div>"
      ],
      "text/plain": [
       "               endTime       artistName                        trackName  \\\n",
       "36    2021-12-26 13:51     Jaymes Young                         Infinity   \n",
       "45    2021-12-26 13:55       Witt Lowry   Into Your Arms (feat. Ava Max)   \n",
       "55    2021-12-26 14:21    Harrdy Sandhu                    Bijlee Bijlee   \n",
       "62    2021-12-26 14:39    Justin Bieber                             Baby   \n",
       "65    2021-12-26 14:42  Imagine Dragons                         Believer   \n",
       "...                ...              ...                              ...   \n",
       "7046  2022-12-05 07:07      Bilal Saeed                            Baari   \n",
       "7051  2022-12-06 12:28            Harvi                          Kde Kde   \n",
       "7062  2022-12-06 13:38     Shawn Mendes  There's Nothing Holdin' Me Back   \n",
       "7063  2022-12-08 15:52     Shawn Mendes  There's Nothing Holdin' Me Back   \n",
       "7077  2022-12-09 11:59     Farhan Saeed                        Thodi Der   \n",
       "\n",
       "      msPlayed  fir_three  \n",
       "36        5761        576  \n",
       "45       62157        621  \n",
       "55       57896        578  \n",
       "62       60308        603  \n",
       "65        6462        646  \n",
       "...        ...        ...  \n",
       "7046      6594        659  \n",
       "7051     60766        607  \n",
       "7062     61043        610  \n",
       "7063      6017        601  \n",
       "7077     54822        548  \n",
       "\n",
       "[419 rows x 5 columns]"
      ]
     },
     "execution_count": 136,
     "metadata": {},
     "output_type": "execute_result"
    }
   ],
   "source": [
    "data[data['fir_three'].between(500,700,inclusive=True)]"
   ]
  },
  {
   "cell_type": "code",
   "execution_count": 143,
   "metadata": {},
   "outputs": [
    {
     "data": {
      "text/html": [
       "<div>\n",
       "<style scoped>\n",
       "    .dataframe tbody tr th:only-of-type {\n",
       "        vertical-align: middle;\n",
       "    }\n",
       "\n",
       "    .dataframe tbody tr th {\n",
       "        vertical-align: top;\n",
       "    }\n",
       "\n",
       "    .dataframe thead th {\n",
       "        text-align: right;\n",
       "    }\n",
       "</style>\n",
       "<table border=\"1\" class=\"dataframe\">\n",
       "  <thead>\n",
       "    <tr style=\"text-align: right;\">\n",
       "      <th></th>\n",
       "      <th>endTime</th>\n",
       "      <th>artistName</th>\n",
       "      <th>trackName</th>\n",
       "      <th>msPlayed</th>\n",
       "      <th>fir_three</th>\n",
       "    </tr>\n",
       "  </thead>\n",
       "  <tbody>\n",
       "    <tr>\n",
       "      <th>478</th>\n",
       "      <td>2022-02-13 07:11</td>\n",
       "      <td>MEDITATION SELF</td>\n",
       "      <td>Study Music, Concentration, Focus, Meditation,...</td>\n",
       "      <td>3243111</td>\n",
       "      <td>324</td>\n",
       "    </tr>\n",
       "    <tr>\n",
       "      <th>1718</th>\n",
       "      <td>2022-03-16 11:19</td>\n",
       "      <td>Nusrat Fateh Ali Khan</td>\n",
       "      <td>Tumhain Dillagi Bhool Jani Paray Gi</td>\n",
       "      <td>938199</td>\n",
       "      <td>938</td>\n",
       "    </tr>\n",
       "  </tbody>\n",
       "</table>\n",
       "</div>"
      ],
      "text/plain": [
       "               endTime             artistName  \\\n",
       "478   2022-02-13 07:11        MEDITATION SELF   \n",
       "1718  2022-03-16 11:19  Nusrat Fateh Ali Khan   \n",
       "\n",
       "                                              trackName  msPlayed  fir_three  \n",
       "478   Study Music, Concentration, Focus, Meditation,...   3243111        324  \n",
       "1718                Tumhain Dillagi Bhool Jani Paray Gi    938199        938  "
      ]
     },
     "execution_count": 143,
     "metadata": {},
     "output_type": "execute_result"
    }
   ],
   "source": [
    "data.nlargest(2,'msPlayed')"
   ]
  },
  {
   "cell_type": "code",
   "execution_count": 142,
   "metadata": {},
   "outputs": [
    {
     "data": {
      "text/html": [
       "<div>\n",
       "<style scoped>\n",
       "    .dataframe tbody tr th:only-of-type {\n",
       "        vertical-align: middle;\n",
       "    }\n",
       "\n",
       "    .dataframe tbody tr th {\n",
       "        vertical-align: top;\n",
       "    }\n",
       "\n",
       "    .dataframe thead th {\n",
       "        text-align: right;\n",
       "    }\n",
       "</style>\n",
       "<table border=\"1\" class=\"dataframe\">\n",
       "  <thead>\n",
       "    <tr style=\"text-align: right;\">\n",
       "      <th></th>\n",
       "      <th>endTime</th>\n",
       "      <th>artistName</th>\n",
       "      <th>trackName</th>\n",
       "      <th>msPlayed</th>\n",
       "      <th>fir_three</th>\n",
       "    </tr>\n",
       "  </thead>\n",
       "  <tbody>\n",
       "    <tr>\n",
       "      <th>478</th>\n",
       "      <td>2022-02-13 07:11</td>\n",
       "      <td>MEDITATION SELF</td>\n",
       "      <td>Study Music, Concentration, Focus, Meditation,...</td>\n",
       "      <td>3243111</td>\n",
       "      <td>324</td>\n",
       "    </tr>\n",
       "    <tr>\n",
       "      <th>1718</th>\n",
       "      <td>2022-03-16 11:19</td>\n",
       "      <td>Nusrat Fateh Ali Khan</td>\n",
       "      <td>Tumhain Dillagi Bhool Jani Paray Gi</td>\n",
       "      <td>938199</td>\n",
       "      <td>938</td>\n",
       "    </tr>\n",
       "  </tbody>\n",
       "</table>\n",
       "</div>"
      ],
      "text/plain": [
       "               endTime             artistName  \\\n",
       "478   2022-02-13 07:11        MEDITATION SELF   \n",
       "1718  2022-03-16 11:19  Nusrat Fateh Ali Khan   \n",
       "\n",
       "                                              trackName  msPlayed  fir_three  \n",
       "478   Study Music, Concentration, Focus, Meditation,...   3243111        324  \n",
       "1718                Tumhain Dillagi Bhool Jani Paray Gi    938199        938  "
      ]
     },
     "execution_count": 142,
     "metadata": {},
     "output_type": "execute_result"
    }
   ],
   "source": [
    "data.sort_values(by='msPlayed',ascending=False).head(2)"
   ]
  },
  {
   "cell_type": "code",
   "execution_count": 145,
   "metadata": {},
   "outputs": [
    {
     "data": {
      "text/html": [
       "<div>\n",
       "<style scoped>\n",
       "    .dataframe tbody tr th:only-of-type {\n",
       "        vertical-align: middle;\n",
       "    }\n",
       "\n",
       "    .dataframe tbody tr th {\n",
       "        vertical-align: top;\n",
       "    }\n",
       "\n",
       "    .dataframe thead th {\n",
       "        text-align: right;\n",
       "    }\n",
       "</style>\n",
       "<table border=\"1\" class=\"dataframe\">\n",
       "  <thead>\n",
       "    <tr style=\"text-align: right;\">\n",
       "      <th></th>\n",
       "      <th>endTime</th>\n",
       "      <th>artistName</th>\n",
       "      <th>trackName</th>\n",
       "      <th>msPlayed</th>\n",
       "      <th>fir_three</th>\n",
       "    </tr>\n",
       "  </thead>\n",
       "  <tbody>\n",
       "    <tr>\n",
       "      <th>478</th>\n",
       "      <td>2022-02-13 07:11</td>\n",
       "      <td>MEDITATION SELF</td>\n",
       "      <td>Study Music, Concentration, Focus, Meditation,...</td>\n",
       "      <td>3243111</td>\n",
       "      <td>324</td>\n",
       "    </tr>\n",
       "    <tr>\n",
       "      <th>1718</th>\n",
       "      <td>2022-03-16 11:19</td>\n",
       "      <td>Nusrat Fateh Ali Khan</td>\n",
       "      <td>Tumhain Dillagi Bhool Jani Paray Gi</td>\n",
       "      <td>938199</td>\n",
       "      <td>938</td>\n",
       "    </tr>\n",
       "  </tbody>\n",
       "</table>\n",
       "</div>"
      ],
      "text/plain": [
       "               endTime             artistName  \\\n",
       "478   2022-02-13 07:11        MEDITATION SELF   \n",
       "1718  2022-03-16 11:19  Nusrat Fateh Ali Khan   \n",
       "\n",
       "                                              trackName  msPlayed  fir_three  \n",
       "478   Study Music, Concentration, Focus, Meditation,...   3243111        324  \n",
       "1718                Tumhain Dillagi Bhool Jani Paray Gi    938199        938  "
      ]
     },
     "execution_count": 145,
     "metadata": {},
     "output_type": "execute_result"
    }
   ],
   "source": [
    "data.sort_values(by='msPlayed',ascending=False).iloc[0:2]"
   ]
  },
  {
   "cell_type": "code",
   "execution_count": 139,
   "metadata": {},
   "outputs": [
    {
     "data": {
      "text/html": [
       "<div>\n",
       "<style scoped>\n",
       "    .dataframe tbody tr th:only-of-type {\n",
       "        vertical-align: middle;\n",
       "    }\n",
       "\n",
       "    .dataframe tbody tr th {\n",
       "        vertical-align: top;\n",
       "    }\n",
       "\n",
       "    .dataframe thead th {\n",
       "        text-align: right;\n",
       "    }\n",
       "</style>\n",
       "<table border=\"1\" class=\"dataframe\">\n",
       "  <thead>\n",
       "    <tr style=\"text-align: right;\">\n",
       "      <th></th>\n",
       "      <th>endTime</th>\n",
       "      <th>artistName</th>\n",
       "      <th>trackName</th>\n",
       "      <th>msPlayed</th>\n",
       "      <th>fir_three</th>\n",
       "    </tr>\n",
       "  </thead>\n",
       "  <tbody>\n",
       "    <tr>\n",
       "      <th>7</th>\n",
       "      <td>2021-12-21 13:54</td>\n",
       "      <td>Sippy Gill, Desi Roots</td>\n",
       "      <td>Suhe Bullan Waliye</td>\n",
       "      <td>1</td>\n",
       "      <td>1</td>\n",
       "    </tr>\n",
       "    <tr>\n",
       "      <th>8</th>\n",
       "      <td>2021-12-21 13:54</td>\n",
       "      <td>Sippy Gill, Desi Roots</td>\n",
       "      <td>Suhe Bullan Waliye</td>\n",
       "      <td>23</td>\n",
       "      <td>23</td>\n",
       "    </tr>\n",
       "    <tr>\n",
       "      <th>83</th>\n",
       "      <td>2021-12-27 13:37</td>\n",
       "      <td>Justin Bieber</td>\n",
       "      <td>Peaches (feat. Daniel Caesar &amp; Giveon)</td>\n",
       "      <td>23</td>\n",
       "      <td>23</td>\n",
       "    </tr>\n",
       "    <tr>\n",
       "      <th>117</th>\n",
       "      <td>2021-12-30 16:55</td>\n",
       "      <td>Imagine Dragons</td>\n",
       "      <td>Thunder</td>\n",
       "      <td>23</td>\n",
       "      <td>23</td>\n",
       "    </tr>\n",
       "    <tr>\n",
       "      <th>445</th>\n",
       "      <td>2022-02-11 08:48</td>\n",
       "      <td>Harrdy Sandhu</td>\n",
       "      <td>Bijlee Bijlee</td>\n",
       "      <td>23</td>\n",
       "      <td>23</td>\n",
       "    </tr>\n",
       "  </tbody>\n",
       "</table>\n",
       "</div>"
      ],
      "text/plain": [
       "              endTime              artistName  \\\n",
       "7    2021-12-21 13:54  Sippy Gill, Desi Roots   \n",
       "8    2021-12-21 13:54  Sippy Gill, Desi Roots   \n",
       "83   2021-12-27 13:37           Justin Bieber   \n",
       "117  2021-12-30 16:55         Imagine Dragons   \n",
       "445  2022-02-11 08:48           Harrdy Sandhu   \n",
       "\n",
       "                                  trackName  msPlayed  fir_three  \n",
       "7                        Suhe Bullan Waliye         1          1  \n",
       "8                        Suhe Bullan Waliye        23         23  \n",
       "83   Peaches (feat. Daniel Caesar & Giveon)        23         23  \n",
       "117                                 Thunder        23         23  \n",
       "445                           Bijlee Bijlee        23         23  "
      ]
     },
     "execution_count": 139,
     "metadata": {},
     "output_type": "execute_result"
    }
   ],
   "source": [
    "data.nsmallest(5,'msPlayed')"
   ]
  },
  {
   "cell_type": "code",
   "execution_count": 141,
   "metadata": {},
   "outputs": [
    {
     "data": {
      "text/html": [
       "<div>\n",
       "<style scoped>\n",
       "    .dataframe tbody tr th:only-of-type {\n",
       "        vertical-align: middle;\n",
       "    }\n",
       "\n",
       "    .dataframe tbody tr th {\n",
       "        vertical-align: top;\n",
       "    }\n",
       "\n",
       "    .dataframe thead th {\n",
       "        text-align: right;\n",
       "    }\n",
       "</style>\n",
       "<table border=\"1\" class=\"dataframe\">\n",
       "  <thead>\n",
       "    <tr style=\"text-align: right;\">\n",
       "      <th></th>\n",
       "      <th>endTime</th>\n",
       "      <th>artistName</th>\n",
       "      <th>trackName</th>\n",
       "      <th>msPlayed</th>\n",
       "      <th>fir_three</th>\n",
       "    </tr>\n",
       "  </thead>\n",
       "  <tbody>\n",
       "    <tr>\n",
       "      <th>7</th>\n",
       "      <td>2021-12-21 13:54</td>\n",
       "      <td>Sippy Gill, Desi Roots</td>\n",
       "      <td>Suhe Bullan Waliye</td>\n",
       "      <td>1</td>\n",
       "      <td>1</td>\n",
       "    </tr>\n",
       "    <tr>\n",
       "      <th>2224</th>\n",
       "      <td>2022-03-30 06:03</td>\n",
       "      <td>Sunny</td>\n",
       "      <td>Rom Rom</td>\n",
       "      <td>23</td>\n",
       "      <td>23</td>\n",
       "    </tr>\n",
       "    <tr>\n",
       "      <th>3050</th>\n",
       "      <td>2022-04-09 09:49</td>\n",
       "      <td>Maroon 5</td>\n",
       "      <td>Memories</td>\n",
       "      <td>23</td>\n",
       "      <td>23</td>\n",
       "    </tr>\n",
       "    <tr>\n",
       "      <th>3414</th>\n",
       "      <td>2022-04-23 13:11</td>\n",
       "      <td>Taylor Swift</td>\n",
       "      <td>evermore (feat. Bon Iver)</td>\n",
       "      <td>23</td>\n",
       "      <td>23</td>\n",
       "    </tr>\n",
       "    <tr>\n",
       "      <th>3418</th>\n",
       "      <td>2022-04-23 13:11</td>\n",
       "      <td>Justin Bieber</td>\n",
       "      <td>Peaches (feat. Daniel Caesar &amp; Giveon)</td>\n",
       "      <td>23</td>\n",
       "      <td>23</td>\n",
       "    </tr>\n",
       "  </tbody>\n",
       "</table>\n",
       "</div>"
      ],
      "text/plain": [
       "               endTime              artistName  \\\n",
       "7     2021-12-21 13:54  Sippy Gill, Desi Roots   \n",
       "2224  2022-03-30 06:03                   Sunny   \n",
       "3050  2022-04-09 09:49                Maroon 5   \n",
       "3414  2022-04-23 13:11            Taylor Swift   \n",
       "3418  2022-04-23 13:11           Justin Bieber   \n",
       "\n",
       "                                   trackName  msPlayed  fir_three  \n",
       "7                         Suhe Bullan Waliye         1          1  \n",
       "2224                                 Rom Rom        23         23  \n",
       "3050                                Memories        23         23  \n",
       "3414               evermore (feat. Bon Iver)        23         23  \n",
       "3418  Peaches (feat. Daniel Caesar & Giveon)        23         23  "
      ]
     },
     "execution_count": 141,
     "metadata": {},
     "output_type": "execute_result"
    }
   ],
   "source": [
    "data.sort_values(by='msPlayed',ascending=True).head(5)"
   ]
  },
  {
   "cell_type": "code",
   "execution_count": 146,
   "metadata": {},
   "outputs": [
    {
     "data": {
      "text/html": [
       "<div>\n",
       "<style scoped>\n",
       "    .dataframe tbody tr th:only-of-type {\n",
       "        vertical-align: middle;\n",
       "    }\n",
       "\n",
       "    .dataframe tbody tr th {\n",
       "        vertical-align: top;\n",
       "    }\n",
       "\n",
       "    .dataframe thead th {\n",
       "        text-align: right;\n",
       "    }\n",
       "</style>\n",
       "<table border=\"1\" class=\"dataframe\">\n",
       "  <thead>\n",
       "    <tr style=\"text-align: right;\">\n",
       "      <th></th>\n",
       "      <th>endTime</th>\n",
       "      <th>artistName</th>\n",
       "      <th>trackName</th>\n",
       "      <th>msPlayed</th>\n",
       "      <th>fir_three</th>\n",
       "    </tr>\n",
       "  </thead>\n",
       "  <tbody>\n",
       "    <tr>\n",
       "      <th>6775</th>\n",
       "      <td>2022-11-11 10:54</td>\n",
       "      <td>Satinder Sartaaj</td>\n",
       "      <td>Udaarian</td>\n",
       "      <td>342585</td>\n",
       "      <td>342</td>\n",
       "    </tr>\n",
       "    <tr>\n",
       "      <th>5298</th>\n",
       "      <td>2022-07-26 17:50</td>\n",
       "      <td>Glass Animals</td>\n",
       "      <td>Heat Waves</td>\n",
       "      <td>238805</td>\n",
       "      <td>238</td>\n",
       "    </tr>\n",
       "    <tr>\n",
       "      <th>3850</th>\n",
       "      <td>2022-05-11 11:34</td>\n",
       "      <td>JP Saxe</td>\n",
       "      <td>Kissin' In The Cold</td>\n",
       "      <td>82000</td>\n",
       "      <td>820</td>\n",
       "    </tr>\n",
       "    <tr>\n",
       "      <th>2316</th>\n",
       "      <td>2022-03-31 17:01</td>\n",
       "      <td>Charlie Puth</td>\n",
       "      <td>Attention</td>\n",
       "      <td>159865</td>\n",
       "      <td>159</td>\n",
       "    </tr>\n",
       "    <tr>\n",
       "      <th>5843</th>\n",
       "      <td>2022-08-16 05:22</td>\n",
       "      <td>Imagine Dragons</td>\n",
       "      <td>Thunder</td>\n",
       "      <td>187146</td>\n",
       "      <td>187</td>\n",
       "    </tr>\n",
       "  </tbody>\n",
       "</table>\n",
       "</div>"
      ],
      "text/plain": [
       "               endTime        artistName            trackName  msPlayed  \\\n",
       "6775  2022-11-11 10:54  Satinder Sartaaj             Udaarian    342585   \n",
       "5298  2022-07-26 17:50     Glass Animals           Heat Waves    238805   \n",
       "3850  2022-05-11 11:34           JP Saxe  Kissin' In The Cold     82000   \n",
       "2316  2022-03-31 17:01      Charlie Puth            Attention    159865   \n",
       "5843  2022-08-16 05:22   Imagine Dragons              Thunder    187146   \n",
       "\n",
       "      fir_three  \n",
       "6775        342  \n",
       "5298        238  \n",
       "3850        820  \n",
       "2316        159  \n",
       "5843        187  "
      ]
     },
     "execution_count": 146,
     "metadata": {},
     "output_type": "execute_result"
    }
   ],
   "source": [
    "data.sample(5)"
   ]
  },
  {
   "cell_type": "code",
   "execution_count": 147,
   "metadata": {},
   "outputs": [
    {
     "data": {
      "text/html": [
       "<div>\n",
       "<style scoped>\n",
       "    .dataframe tbody tr th:only-of-type {\n",
       "        vertical-align: middle;\n",
       "    }\n",
       "\n",
       "    .dataframe tbody tr th {\n",
       "        vertical-align: top;\n",
       "    }\n",
       "\n",
       "    .dataframe thead th {\n",
       "        text-align: right;\n",
       "    }\n",
       "</style>\n",
       "<table border=\"1\" class=\"dataframe\">\n",
       "  <thead>\n",
       "    <tr style=\"text-align: right;\">\n",
       "      <th></th>\n",
       "      <th>endTime</th>\n",
       "      <th>artistName</th>\n",
       "      <th>trackName</th>\n",
       "      <th>msPlayed</th>\n",
       "      <th>fir_three</th>\n",
       "    </tr>\n",
       "  </thead>\n",
       "  <tbody>\n",
       "    <tr>\n",
       "      <th>6424</th>\n",
       "      <td>2022-10-12 04:57</td>\n",
       "      <td>Alec Benjamin</td>\n",
       "      <td>Let Me Down Slowly</td>\n",
       "      <td>169353</td>\n",
       "      <td>169</td>\n",
       "    </tr>\n",
       "    <tr>\n",
       "      <th>4313</th>\n",
       "      <td>2022-05-31 06:29</td>\n",
       "      <td>Abhay Jodhpurkar</td>\n",
       "      <td>Yeh Haseen Vadiyan (feat. Sowmya Krishnamachar...</td>\n",
       "      <td>134210</td>\n",
       "      <td>134</td>\n",
       "    </tr>\n",
       "    <tr>\n",
       "      <th>4021</th>\n",
       "      <td>2022-05-20 17:25</td>\n",
       "      <td>Ella Henderson</td>\n",
       "      <td>Ugly</td>\n",
       "      <td>213133</td>\n",
       "      <td>213</td>\n",
       "    </tr>\n",
       "    <tr>\n",
       "      <th>178</th>\n",
       "      <td>2021-12-30 19:15</td>\n",
       "      <td>Sia</td>\n",
       "      <td>Cheap Thrills</td>\n",
       "      <td>211666</td>\n",
       "      <td>211</td>\n",
       "    </tr>\n",
       "    <tr>\n",
       "      <th>5856</th>\n",
       "      <td>2022-08-16 06:12</td>\n",
       "      <td>Nabeel Shaukat Ali</td>\n",
       "      <td>Kooch</td>\n",
       "      <td>219219</td>\n",
       "      <td>219</td>\n",
       "    </tr>\n",
       "    <tr>\n",
       "      <th>...</th>\n",
       "      <td>...</td>\n",
       "      <td>...</td>\n",
       "      <td>...</td>\n",
       "      <td>...</td>\n",
       "      <td>...</td>\n",
       "    </tr>\n",
       "    <tr>\n",
       "      <th>6268</th>\n",
       "      <td>2022-09-26 04:57</td>\n",
       "      <td>Harvi</td>\n",
       "      <td>Kde Kde</td>\n",
       "      <td>200065</td>\n",
       "      <td>200</td>\n",
       "    </tr>\n",
       "    <tr>\n",
       "      <th>6932</th>\n",
       "      <td>2022-11-20 18:05</td>\n",
       "      <td>Arijit Singh</td>\n",
       "      <td>Jaan 'Nisaar (Arijit)</td>\n",
       "      <td>11445</td>\n",
       "      <td>114</td>\n",
       "    </tr>\n",
       "    <tr>\n",
       "      <th>6044</th>\n",
       "      <td>2022-08-27 12:43</td>\n",
       "      <td>Vishal Mishra</td>\n",
       "      <td>Kaise Hua (From \"Kabir Singh\")</td>\n",
       "      <td>234722</td>\n",
       "      <td>234</td>\n",
       "    </tr>\n",
       "    <tr>\n",
       "      <th>3387</th>\n",
       "      <td>2022-04-21 09:21</td>\n",
       "      <td>Shawn Mendes</td>\n",
       "      <td>Señorita</td>\n",
       "      <td>190799</td>\n",
       "      <td>190</td>\n",
       "    </tr>\n",
       "    <tr>\n",
       "      <th>998</th>\n",
       "      <td>2022-03-07 07:56</td>\n",
       "      <td>Ed Sheeran</td>\n",
       "      <td>Afterglow</td>\n",
       "      <td>185486</td>\n",
       "      <td>185</td>\n",
       "    </tr>\n",
       "  </tbody>\n",
       "</table>\n",
       "<p>701 rows × 5 columns</p>\n",
       "</div>"
      ],
      "text/plain": [
       "               endTime          artistName  \\\n",
       "6424  2022-10-12 04:57       Alec Benjamin   \n",
       "4313  2022-05-31 06:29    Abhay Jodhpurkar   \n",
       "4021  2022-05-20 17:25      Ella Henderson   \n",
       "178   2021-12-30 19:15                 Sia   \n",
       "5856  2022-08-16 06:12  Nabeel Shaukat Ali   \n",
       "...                ...                 ...   \n",
       "6268  2022-09-26 04:57               Harvi   \n",
       "6932  2022-11-20 18:05        Arijit Singh   \n",
       "6044  2022-08-27 12:43       Vishal Mishra   \n",
       "3387  2022-04-21 09:21        Shawn Mendes   \n",
       "998   2022-03-07 07:56          Ed Sheeran   \n",
       "\n",
       "                                              trackName  msPlayed  fir_three  \n",
       "6424                                 Let Me Down Slowly    169353        169  \n",
       "4313  Yeh Haseen Vadiyan (feat. Sowmya Krishnamachar...    134210        134  \n",
       "4021                                               Ugly    213133        213  \n",
       "178                                       Cheap Thrills    211666        211  \n",
       "5856                                              Kooch    219219        219  \n",
       "...                                                 ...       ...        ...  \n",
       "6268                                            Kde Kde    200065        200  \n",
       "6932                              Jaan 'Nisaar (Arijit)     11445        114  \n",
       "6044                     Kaise Hua (From \"Kabir Singh\")    234722        234  \n",
       "3387                                           Señorita    190799        190  \n",
       "998                                           Afterglow    185486        185  \n",
       "\n",
       "[701 rows x 5 columns]"
      ]
     },
     "execution_count": 147,
     "metadata": {},
     "output_type": "execute_result"
    }
   ],
   "source": [
    "data.sample(frac=0.1)"
   ]
  },
  {
   "cell_type": "code",
   "execution_count": 25,
   "metadata": {},
   "outputs": [
    {
     "data": {
      "text/plain": [
       "7109"
      ]
     },
     "execution_count": 25,
     "metadata": {},
     "output_type": "execute_result"
    }
   ],
   "source": [
    "data.shape[0]"
   ]
  },
  {
   "cell_type": "code",
   "execution_count": 16,
   "metadata": {},
   "outputs": [
    {
     "data": {
      "text/plain": [
       "1229"
      ]
     },
     "execution_count": 16,
     "metadata": {},
     "output_type": "execute_result"
    }
   ],
   "source": [
    "len(data.trackName.unique())"
   ]
  },
  {
   "cell_type": "markdown",
   "metadata": {},
   "source": [
    "- Total Songs = 1229\n",
    "- Total Artists =  553"
   ]
  },
  {
   "cell_type": "code",
   "execution_count": null,
   "metadata": {},
   "outputs": [],
   "source": []
  }
 ],
 "metadata": {
  "kernelspec": {
   "display_name": "Python 3.10.6 64-bit",
   "language": "python",
   "name": "python3"
  },
  "language_info": {
   "codemirror_mode": {
    "name": "ipython",
    "version": 3
   },
   "file_extension": ".py",
   "mimetype": "text/x-python",
   "name": "python",
   "nbconvert_exporter": "python",
   "pygments_lexer": "ipython3",
   "version": "3.10.6"
  },
  "orig_nbformat": 4,
  "vscode": {
   "interpreter": {
    "hash": "916dbcbb3f70747c44a77c7bcd40155683ae19c65e1c03b4aa3499c5328201f1"
   }
  }
 },
 "nbformat": 4,
 "nbformat_minor": 2
}
