{
 "cells": [
  {
   "cell_type": "markdown",
   "metadata": {},
   "source": [
    "## Handling the endTime column: Seperating the date and time"
   ]
  },
  {
   "cell_type": "code",
   "execution_count": 54,
   "metadata": {},
   "outputs": [],
   "source": [
    "import pandas as pd\n",
    "import numpy as np\n",
    "import matplotlib.pyplot as plt\n",
    "import tqdm\n",
    "from datetime import datetime"
   ]
  },
  {
   "cell_type": "code",
   "execution_count": 55,
   "metadata": {},
   "outputs": [],
   "source": [
    "\n",
    "df = pd.read_csv('final_data.csv')"
   ]
  },
  {
   "cell_type": "code",
   "execution_count": 56,
   "metadata": {},
   "outputs": [
    {
     "data": {
      "text/html": [
       "<div>\n",
       "<style scoped>\n",
       "    .dataframe tbody tr th:only-of-type {\n",
       "        vertical-align: middle;\n",
       "    }\n",
       "\n",
       "    .dataframe tbody tr th {\n",
       "        vertical-align: top;\n",
       "    }\n",
       "\n",
       "    .dataframe thead th {\n",
       "        text-align: right;\n",
       "    }\n",
       "</style>\n",
       "<table border=\"1\" class=\"dataframe\">\n",
       "  <thead>\n",
       "    <tr style=\"text-align: right;\">\n",
       "      <th></th>\n",
       "      <th>endTime</th>\n",
       "      <th>artistName</th>\n",
       "      <th>trackName</th>\n",
       "      <th>msPlayed</th>\n",
       "      <th>id</th>\n",
       "      <th>genre</th>\n",
       "      <th>language</th>\n",
       "    </tr>\n",
       "  </thead>\n",
       "  <tbody>\n",
       "    <tr>\n",
       "      <th>0</th>\n",
       "      <td>2021-12-16 12:22</td>\n",
       "      <td>Mithoon</td>\n",
       "      <td>Aashiqui Aa Gayi(From \"Radhe Shyam\")</td>\n",
       "      <td>90000</td>\n",
       "      <td>09UmIX92EUH9hAK4bxvHx6</td>\n",
       "      <td>['desi pop', 'filmi', 'modern bollywood', 'sufi']</td>\n",
       "      <td>Hindi</td>\n",
       "    </tr>\n",
       "    <tr>\n",
       "      <th>1</th>\n",
       "      <td>2021-12-17 17:51</td>\n",
       "      <td>Mithoon</td>\n",
       "      <td>Aashiqui Aa Gayi(From \"Radhe Shyam\")</td>\n",
       "      <td>15868</td>\n",
       "      <td>09UmIX92EUH9hAK4bxvHx6</td>\n",
       "      <td>['desi pop', 'filmi', 'modern bollywood', 'sufi']</td>\n",
       "      <td>Hindi</td>\n",
       "    </tr>\n",
       "    <tr>\n",
       "      <th>2</th>\n",
       "      <td>2022-03-24 05:43</td>\n",
       "      <td>Mithoon</td>\n",
       "      <td>Jaan Ban Gaye</td>\n",
       "      <td>211673</td>\n",
       "      <td>09UmIX92EUH9hAK4bxvHx6</td>\n",
       "      <td>['desi pop', 'filmi', 'modern bollywood', 'sufi']</td>\n",
       "      <td>Hindi</td>\n",
       "    </tr>\n",
       "    <tr>\n",
       "      <th>3</th>\n",
       "      <td>2022-05-20 17:32</td>\n",
       "      <td>Mithoon</td>\n",
       "      <td>Jaan Ban Gaye</td>\n",
       "      <td>30010</td>\n",
       "      <td>09UmIX92EUH9hAK4bxvHx6</td>\n",
       "      <td>['desi pop', 'filmi', 'modern bollywood', 'sufi']</td>\n",
       "      <td>Hindi</td>\n",
       "    </tr>\n",
       "    <tr>\n",
       "      <th>4</th>\n",
       "      <td>2022-08-27 11:27</td>\n",
       "      <td>Mithoon</td>\n",
       "      <td>Jaan Ban Gaye</td>\n",
       "      <td>211673</td>\n",
       "      <td>09UmIX92EUH9hAK4bxvHx6</td>\n",
       "      <td>['desi pop', 'filmi', 'modern bollywood', 'sufi']</td>\n",
       "      <td>Hindi</td>\n",
       "    </tr>\n",
       "    <tr>\n",
       "      <th>...</th>\n",
       "      <td>...</td>\n",
       "      <td>...</td>\n",
       "      <td>...</td>\n",
       "      <td>...</td>\n",
       "      <td>...</td>\n",
       "      <td>...</td>\n",
       "      <td>...</td>\n",
       "    </tr>\n",
       "    <tr>\n",
       "      <th>7104</th>\n",
       "      <td>2022-11-21 19:13</td>\n",
       "      <td>Zaeden</td>\n",
       "      <td>tere bina</td>\n",
       "      <td>9023</td>\n",
       "      <td>5lMNphVhMLvhFmTWiKiLA2</td>\n",
       "      <td>['desi pop', 'hindi indie', 'indian edm']</td>\n",
       "      <td>Hindi</td>\n",
       "    </tr>\n",
       "    <tr>\n",
       "      <th>7105</th>\n",
       "      <td>2022-11-30 10:51</td>\n",
       "      <td>Naseebo Lal</td>\n",
       "      <td>Tu Jhoom</td>\n",
       "      <td>397546</td>\n",
       "      <td>4sAweKU7CjDZ1bUEb6VF6a</td>\n",
       "      <td>['classic pakistani pop']</td>\n",
       "      <td>Hindi</td>\n",
       "    </tr>\n",
       "    <tr>\n",
       "      <th>7106</th>\n",
       "      <td>2022-12-01 07:43</td>\n",
       "      <td>Naseebo Lal</td>\n",
       "      <td>Tu Jhoom</td>\n",
       "      <td>43265</td>\n",
       "      <td>4sAweKU7CjDZ1bUEb6VF6a</td>\n",
       "      <td>['classic pakistani pop']</td>\n",
       "      <td>Hindi</td>\n",
       "    </tr>\n",
       "    <tr>\n",
       "      <th>7107</th>\n",
       "      <td>2022-12-08 17:16</td>\n",
       "      <td>Farhan Saeed</td>\n",
       "      <td>Thodi Der</td>\n",
       "      <td>116917</td>\n",
       "      <td>1W67L8OH9z7C3b9YJJbVYq</td>\n",
       "      <td>['modern bollywood', 'pakistani pop']</td>\n",
       "      <td>Hindi</td>\n",
       "    </tr>\n",
       "    <tr>\n",
       "      <th>7108</th>\n",
       "      <td>2022-12-09 11:59</td>\n",
       "      <td>Farhan Saeed</td>\n",
       "      <td>Thodi Der</td>\n",
       "      <td>54822</td>\n",
       "      <td>1W67L8OH9z7C3b9YJJbVYq</td>\n",
       "      <td>['modern bollywood', 'pakistani pop']</td>\n",
       "      <td>Hindi</td>\n",
       "    </tr>\n",
       "  </tbody>\n",
       "</table>\n",
       "<p>7109 rows × 7 columns</p>\n",
       "</div>"
      ],
      "text/plain": [
       "               endTime    artistName                             trackName  \\\n",
       "0     2021-12-16 12:22       Mithoon  Aashiqui Aa Gayi(From \"Radhe Shyam\")   \n",
       "1     2021-12-17 17:51       Mithoon  Aashiqui Aa Gayi(From \"Radhe Shyam\")   \n",
       "2     2022-03-24 05:43       Mithoon                         Jaan Ban Gaye   \n",
       "3     2022-05-20 17:32       Mithoon                         Jaan Ban Gaye   \n",
       "4     2022-08-27 11:27       Mithoon                         Jaan Ban Gaye   \n",
       "...                ...           ...                                   ...   \n",
       "7104  2022-11-21 19:13        Zaeden                             tere bina   \n",
       "7105  2022-11-30 10:51   Naseebo Lal                              Tu Jhoom   \n",
       "7106  2022-12-01 07:43   Naseebo Lal                              Tu Jhoom   \n",
       "7107  2022-12-08 17:16  Farhan Saeed                             Thodi Der   \n",
       "7108  2022-12-09 11:59  Farhan Saeed                             Thodi Der   \n",
       "\n",
       "      msPlayed                      id  \\\n",
       "0        90000  09UmIX92EUH9hAK4bxvHx6   \n",
       "1        15868  09UmIX92EUH9hAK4bxvHx6   \n",
       "2       211673  09UmIX92EUH9hAK4bxvHx6   \n",
       "3        30010  09UmIX92EUH9hAK4bxvHx6   \n",
       "4       211673  09UmIX92EUH9hAK4bxvHx6   \n",
       "...        ...                     ...   \n",
       "7104      9023  5lMNphVhMLvhFmTWiKiLA2   \n",
       "7105    397546  4sAweKU7CjDZ1bUEb6VF6a   \n",
       "7106     43265  4sAweKU7CjDZ1bUEb6VF6a   \n",
       "7107    116917  1W67L8OH9z7C3b9YJJbVYq   \n",
       "7108     54822  1W67L8OH9z7C3b9YJJbVYq   \n",
       "\n",
       "                                                  genre language  \n",
       "0     ['desi pop', 'filmi', 'modern bollywood', 'sufi']    Hindi  \n",
       "1     ['desi pop', 'filmi', 'modern bollywood', 'sufi']    Hindi  \n",
       "2     ['desi pop', 'filmi', 'modern bollywood', 'sufi']    Hindi  \n",
       "3     ['desi pop', 'filmi', 'modern bollywood', 'sufi']    Hindi  \n",
       "4     ['desi pop', 'filmi', 'modern bollywood', 'sufi']    Hindi  \n",
       "...                                                 ...      ...  \n",
       "7104          ['desi pop', 'hindi indie', 'indian edm']    Hindi  \n",
       "7105                          ['classic pakistani pop']    Hindi  \n",
       "7106                          ['classic pakistani pop']    Hindi  \n",
       "7107              ['modern bollywood', 'pakistani pop']    Hindi  \n",
       "7108              ['modern bollywood', 'pakistani pop']    Hindi  \n",
       "\n",
       "[7109 rows x 7 columns]"
      ]
     },
     "execution_count": 56,
     "metadata": {},
     "output_type": "execute_result"
    }
   ],
   "source": [
    "df"
   ]
  },
  {
   "cell_type": "markdown",
   "metadata": {},
   "source": [
    "Example: using datetime"
   ]
  },
  {
   "cell_type": "code",
   "execution_count": 57,
   "metadata": {},
   "outputs": [
    {
     "name": "stdout",
     "output_type": "stream",
     "text": [
      "Difference is 122 days\n"
     ]
    }
   ],
   "source": [
    "from datetime import datetime\n",
    "\n",
    "# datetime in string format\n",
    "str_dt1 = '2021/10/20 09:15:32.36980'\n",
    "str_dt2 = '2022/2/20 04:25:42.120450'\n",
    "\n",
    "# convert string to datetime\n",
    "dt1 = datetime.strptime(str_dt1, \"%Y/%m/%d %H:%M:%S.%f\")\n",
    "dt2 = datetime.strptime(str_dt2, \"%Y/%m/%d %H:%M:%S.%f\")\n",
    "\n",
    "# difference between datetime in timedelta\n",
    "delta = dt2 - dt1\n",
    "print(f'Difference is {delta.days} days')"
   ]
  },
  {
   "cell_type": "code",
   "execution_count": 58,
   "metadata": {},
   "outputs": [
    {
     "data": {
      "text/plain": [
       "datetime.date(2021, 10, 20)"
      ]
     },
     "execution_count": 58,
     "metadata": {},
     "output_type": "execute_result"
    }
   ],
   "source": [
    "dt1.date()"
   ]
  },
  {
   "cell_type": "markdown",
   "metadata": {},
   "source": [
    "Example: using pandas"
   ]
  },
  {
   "cell_type": "code",
   "execution_count": 59,
   "metadata": {},
   "outputs": [
    {
     "data": {
      "text/plain": [
       "endTime       object\n",
       "artistName    object\n",
       "trackName     object\n",
       "msPlayed       int64\n",
       "id            object\n",
       "genre         object\n",
       "language      object\n",
       "dtype: object"
      ]
     },
     "execution_count": 59,
     "metadata": {},
     "output_type": "execute_result"
    }
   ],
   "source": [
    "df.dtypes"
   ]
  },
  {
   "cell_type": "code",
   "execution_count": 60,
   "metadata": {},
   "outputs": [],
   "source": [
    "date_time=pd.to_datetime(df['endTime'])"
   ]
  },
  {
   "cell_type": "code",
   "execution_count": 61,
   "metadata": {},
   "outputs": [
    {
     "data": {
      "text/plain": [
       "datetime.date(2021, 12, 16)"
      ]
     },
     "execution_count": 61,
     "metadata": {},
     "output_type": "execute_result"
    }
   ],
   "source": [
    "date_time[0].date()"
   ]
  },
  {
   "cell_type": "code",
   "execution_count": 62,
   "metadata": {},
   "outputs": [
    {
     "data": {
      "text/plain": [
       "datetime.time(12, 22)"
      ]
     },
     "execution_count": 62,
     "metadata": {},
     "output_type": "execute_result"
    }
   ],
   "source": [
    "date_time[0].time()"
   ]
  },
  {
   "cell_type": "code",
   "execution_count": 63,
   "metadata": {},
   "outputs": [
    {
     "data": {
      "text/plain": [
       "12"
      ]
     },
     "execution_count": 63,
     "metadata": {},
     "output_type": "execute_result"
    }
   ],
   "source": [
    "date_time[0].month"
   ]
  },
  {
   "cell_type": "code",
   "execution_count": 64,
   "metadata": {},
   "outputs": [
    {
     "data": {
      "text/plain": [
       "2021"
      ]
     },
     "execution_count": 64,
     "metadata": {},
     "output_type": "execute_result"
    }
   ],
   "source": [
    "date_time[0].year       "
   ]
  },
  {
   "cell_type": "code",
   "execution_count": 65,
   "metadata": {},
   "outputs": [
    {
     "data": {
      "text/plain": [
       "50"
      ]
     },
     "execution_count": 65,
     "metadata": {},
     "output_type": "execute_result"
    }
   ],
   "source": [
    "date_time[0].week"
   ]
  },
  {
   "cell_type": "code",
   "execution_count": 66,
   "metadata": {},
   "outputs": [],
   "source": [
    "df[\"date_time\"] =  date_time"
   ]
  },
  {
   "cell_type": "code",
   "execution_count": 67,
   "metadata": {},
   "outputs": [
    {
     "data": {
      "text/html": [
       "<div>\n",
       "<style scoped>\n",
       "    .dataframe tbody tr th:only-of-type {\n",
       "        vertical-align: middle;\n",
       "    }\n",
       "\n",
       "    .dataframe tbody tr th {\n",
       "        vertical-align: top;\n",
       "    }\n",
       "\n",
       "    .dataframe thead th {\n",
       "        text-align: right;\n",
       "    }\n",
       "</style>\n",
       "<table border=\"1\" class=\"dataframe\">\n",
       "  <thead>\n",
       "    <tr style=\"text-align: right;\">\n",
       "      <th></th>\n",
       "      <th>endTime</th>\n",
       "      <th>artistName</th>\n",
       "      <th>trackName</th>\n",
       "      <th>msPlayed</th>\n",
       "      <th>id</th>\n",
       "      <th>genre</th>\n",
       "      <th>language</th>\n",
       "      <th>date_time</th>\n",
       "    </tr>\n",
       "  </thead>\n",
       "  <tbody>\n",
       "    <tr>\n",
       "      <th>0</th>\n",
       "      <td>2021-12-16 12:22</td>\n",
       "      <td>Mithoon</td>\n",
       "      <td>Aashiqui Aa Gayi(From \"Radhe Shyam\")</td>\n",
       "      <td>90000</td>\n",
       "      <td>09UmIX92EUH9hAK4bxvHx6</td>\n",
       "      <td>['desi pop', 'filmi', 'modern bollywood', 'sufi']</td>\n",
       "      <td>Hindi</td>\n",
       "      <td>2021-12-16 12:22:00</td>\n",
       "    </tr>\n",
       "    <tr>\n",
       "      <th>1</th>\n",
       "      <td>2021-12-17 17:51</td>\n",
       "      <td>Mithoon</td>\n",
       "      <td>Aashiqui Aa Gayi(From \"Radhe Shyam\")</td>\n",
       "      <td>15868</td>\n",
       "      <td>09UmIX92EUH9hAK4bxvHx6</td>\n",
       "      <td>['desi pop', 'filmi', 'modern bollywood', 'sufi']</td>\n",
       "      <td>Hindi</td>\n",
       "      <td>2021-12-17 17:51:00</td>\n",
       "    </tr>\n",
       "  </tbody>\n",
       "</table>\n",
       "</div>"
      ],
      "text/plain": [
       "            endTime artistName                             trackName  \\\n",
       "0  2021-12-16 12:22    Mithoon  Aashiqui Aa Gayi(From \"Radhe Shyam\")   \n",
       "1  2021-12-17 17:51    Mithoon  Aashiqui Aa Gayi(From \"Radhe Shyam\")   \n",
       "\n",
       "   msPlayed                      id  \\\n",
       "0     90000  09UmIX92EUH9hAK4bxvHx6   \n",
       "1     15868  09UmIX92EUH9hAK4bxvHx6   \n",
       "\n",
       "                                               genre language  \\\n",
       "0  ['desi pop', 'filmi', 'modern bollywood', 'sufi']    Hindi   \n",
       "1  ['desi pop', 'filmi', 'modern bollywood', 'sufi']    Hindi   \n",
       "\n",
       "            date_time  \n",
       "0 2021-12-16 12:22:00  \n",
       "1 2021-12-17 17:51:00  "
      ]
     },
     "execution_count": 67,
     "metadata": {},
     "output_type": "execute_result"
    }
   ],
   "source": [
    "df.head(2)"
   ]
  },
  {
   "cell_type": "code",
   "execution_count": 68,
   "metadata": {},
   "outputs": [],
   "source": [
    "df['date']=df['date_time'].dt.date"
   ]
  },
  {
   "cell_type": "code",
   "execution_count": 69,
   "metadata": {},
   "outputs": [],
   "source": [
    "df['month']=df['date_time'].dt.month"
   ]
  },
  {
   "cell_type": "code",
   "execution_count": 70,
   "metadata": {},
   "outputs": [],
   "source": [
    "df['year']=df['date_time'].dt.year"
   ]
  },
  {
   "cell_type": "code",
   "execution_count": 71,
   "metadata": {},
   "outputs": [
    {
     "name": "stderr",
     "output_type": "stream",
     "text": [
      "/tmp/ipykernel_11398/3811373960.py:1: FutureWarning: Series.dt.weekofyear and Series.dt.week have been deprecated. Please use Series.dt.isocalendar().week instead.\n",
      "  df['week'] = df['date_time'].dt.week\n"
     ]
    }
   ],
   "source": [
    "df['week'] = df['date_time'].dt.week"
   ]
  },
  {
   "cell_type": "code",
   "execution_count": 72,
   "metadata": {},
   "outputs": [
    {
     "data": {
      "text/html": [
       "<div>\n",
       "<style scoped>\n",
       "    .dataframe tbody tr th:only-of-type {\n",
       "        vertical-align: middle;\n",
       "    }\n",
       "\n",
       "    .dataframe tbody tr th {\n",
       "        vertical-align: top;\n",
       "    }\n",
       "\n",
       "    .dataframe thead th {\n",
       "        text-align: right;\n",
       "    }\n",
       "</style>\n",
       "<table border=\"1\" class=\"dataframe\">\n",
       "  <thead>\n",
       "    <tr style=\"text-align: right;\">\n",
       "      <th></th>\n",
       "      <th>endTime</th>\n",
       "      <th>artistName</th>\n",
       "      <th>trackName</th>\n",
       "      <th>msPlayed</th>\n",
       "      <th>id</th>\n",
       "      <th>genre</th>\n",
       "      <th>language</th>\n",
       "      <th>date_time</th>\n",
       "      <th>date</th>\n",
       "      <th>month</th>\n",
       "      <th>year</th>\n",
       "      <th>week</th>\n",
       "    </tr>\n",
       "  </thead>\n",
       "  <tbody>\n",
       "    <tr>\n",
       "      <th>0</th>\n",
       "      <td>2021-12-16 12:22</td>\n",
       "      <td>Mithoon</td>\n",
       "      <td>Aashiqui Aa Gayi(From \"Radhe Shyam\")</td>\n",
       "      <td>90000</td>\n",
       "      <td>09UmIX92EUH9hAK4bxvHx6</td>\n",
       "      <td>['desi pop', 'filmi', 'modern bollywood', 'sufi']</td>\n",
       "      <td>Hindi</td>\n",
       "      <td>2021-12-16 12:22:00</td>\n",
       "      <td>2021-12-16</td>\n",
       "      <td>12</td>\n",
       "      <td>2021</td>\n",
       "      <td>50</td>\n",
       "    </tr>\n",
       "    <tr>\n",
       "      <th>1</th>\n",
       "      <td>2021-12-17 17:51</td>\n",
       "      <td>Mithoon</td>\n",
       "      <td>Aashiqui Aa Gayi(From \"Radhe Shyam\")</td>\n",
       "      <td>15868</td>\n",
       "      <td>09UmIX92EUH9hAK4bxvHx6</td>\n",
       "      <td>['desi pop', 'filmi', 'modern bollywood', 'sufi']</td>\n",
       "      <td>Hindi</td>\n",
       "      <td>2021-12-17 17:51:00</td>\n",
       "      <td>2021-12-17</td>\n",
       "      <td>12</td>\n",
       "      <td>2021</td>\n",
       "      <td>50</td>\n",
       "    </tr>\n",
       "    <tr>\n",
       "      <th>2</th>\n",
       "      <td>2022-03-24 05:43</td>\n",
       "      <td>Mithoon</td>\n",
       "      <td>Jaan Ban Gaye</td>\n",
       "      <td>211673</td>\n",
       "      <td>09UmIX92EUH9hAK4bxvHx6</td>\n",
       "      <td>['desi pop', 'filmi', 'modern bollywood', 'sufi']</td>\n",
       "      <td>Hindi</td>\n",
       "      <td>2022-03-24 05:43:00</td>\n",
       "      <td>2022-03-24</td>\n",
       "      <td>3</td>\n",
       "      <td>2022</td>\n",
       "      <td>12</td>\n",
       "    </tr>\n",
       "    <tr>\n",
       "      <th>3</th>\n",
       "      <td>2022-05-20 17:32</td>\n",
       "      <td>Mithoon</td>\n",
       "      <td>Jaan Ban Gaye</td>\n",
       "      <td>30010</td>\n",
       "      <td>09UmIX92EUH9hAK4bxvHx6</td>\n",
       "      <td>['desi pop', 'filmi', 'modern bollywood', 'sufi']</td>\n",
       "      <td>Hindi</td>\n",
       "      <td>2022-05-20 17:32:00</td>\n",
       "      <td>2022-05-20</td>\n",
       "      <td>5</td>\n",
       "      <td>2022</td>\n",
       "      <td>20</td>\n",
       "    </tr>\n",
       "    <tr>\n",
       "      <th>4</th>\n",
       "      <td>2022-08-27 11:27</td>\n",
       "      <td>Mithoon</td>\n",
       "      <td>Jaan Ban Gaye</td>\n",
       "      <td>211673</td>\n",
       "      <td>09UmIX92EUH9hAK4bxvHx6</td>\n",
       "      <td>['desi pop', 'filmi', 'modern bollywood', 'sufi']</td>\n",
       "      <td>Hindi</td>\n",
       "      <td>2022-08-27 11:27:00</td>\n",
       "      <td>2022-08-27</td>\n",
       "      <td>8</td>\n",
       "      <td>2022</td>\n",
       "      <td>34</td>\n",
       "    </tr>\n",
       "    <tr>\n",
       "      <th>5</th>\n",
       "      <td>2022-11-07 04:28</td>\n",
       "      <td>Mithoon</td>\n",
       "      <td>Jaan Ban Gaye</td>\n",
       "      <td>211673</td>\n",
       "      <td>09UmIX92EUH9hAK4bxvHx6</td>\n",
       "      <td>['desi pop', 'filmi', 'modern bollywood', 'sufi']</td>\n",
       "      <td>Hindi</td>\n",
       "      <td>2022-11-07 04:28:00</td>\n",
       "      <td>2022-11-07</td>\n",
       "      <td>11</td>\n",
       "      <td>2022</td>\n",
       "      <td>45</td>\n",
       "    </tr>\n",
       "    <tr>\n",
       "      <th>6</th>\n",
       "      <td>2022-11-18 12:51</td>\n",
       "      <td>Mithoon</td>\n",
       "      <td>Darkhaast (feat. Arijit Singh, Sunidhi Chauhan)</td>\n",
       "      <td>29751</td>\n",
       "      <td>09UmIX92EUH9hAK4bxvHx6</td>\n",
       "      <td>['desi pop', 'filmi', 'modern bollywood', 'sufi']</td>\n",
       "      <td>Hindi</td>\n",
       "      <td>2022-11-18 12:51:00</td>\n",
       "      <td>2022-11-18</td>\n",
       "      <td>11</td>\n",
       "      <td>2022</td>\n",
       "      <td>46</td>\n",
       "    </tr>\n",
       "    <tr>\n",
       "      <th>7</th>\n",
       "      <td>2022-11-18 13:02</td>\n",
       "      <td>Mithoon</td>\n",
       "      <td>Darkhaast (feat. Arijit Singh, Sunidhi Chauhan)</td>\n",
       "      <td>374205</td>\n",
       "      <td>09UmIX92EUH9hAK4bxvHx6</td>\n",
       "      <td>['desi pop', 'filmi', 'modern bollywood', 'sufi']</td>\n",
       "      <td>Hindi</td>\n",
       "      <td>2022-11-18 13:02:00</td>\n",
       "      <td>2022-11-18</td>\n",
       "      <td>11</td>\n",
       "      <td>2022</td>\n",
       "      <td>46</td>\n",
       "    </tr>\n",
       "    <tr>\n",
       "      <th>8</th>\n",
       "      <td>2022-11-18 13:17</td>\n",
       "      <td>Mithoon</td>\n",
       "      <td>Darkhaast (feat. Arijit Singh, Sunidhi Chauhan)</td>\n",
       "      <td>8799</td>\n",
       "      <td>09UmIX92EUH9hAK4bxvHx6</td>\n",
       "      <td>['desi pop', 'filmi', 'modern bollywood', 'sufi']</td>\n",
       "      <td>Hindi</td>\n",
       "      <td>2022-11-18 13:17:00</td>\n",
       "      <td>2022-11-18</td>\n",
       "      <td>11</td>\n",
       "      <td>2022</td>\n",
       "      <td>46</td>\n",
       "    </tr>\n",
       "    <tr>\n",
       "      <th>9</th>\n",
       "      <td>2022-11-20 18:06</td>\n",
       "      <td>Mithoon</td>\n",
       "      <td>Jaan Ban Gaye</td>\n",
       "      <td>27208</td>\n",
       "      <td>09UmIX92EUH9hAK4bxvHx6</td>\n",
       "      <td>['desi pop', 'filmi', 'modern bollywood', 'sufi']</td>\n",
       "      <td>Hindi</td>\n",
       "      <td>2022-11-20 18:06:00</td>\n",
       "      <td>2022-11-20</td>\n",
       "      <td>11</td>\n",
       "      <td>2022</td>\n",
       "      <td>46</td>\n",
       "    </tr>\n",
       "  </tbody>\n",
       "</table>\n",
       "</div>"
      ],
      "text/plain": [
       "            endTime artistName  \\\n",
       "0  2021-12-16 12:22    Mithoon   \n",
       "1  2021-12-17 17:51    Mithoon   \n",
       "2  2022-03-24 05:43    Mithoon   \n",
       "3  2022-05-20 17:32    Mithoon   \n",
       "4  2022-08-27 11:27    Mithoon   \n",
       "5  2022-11-07 04:28    Mithoon   \n",
       "6  2022-11-18 12:51    Mithoon   \n",
       "7  2022-11-18 13:02    Mithoon   \n",
       "8  2022-11-18 13:17    Mithoon   \n",
       "9  2022-11-20 18:06    Mithoon   \n",
       "\n",
       "                                         trackName  msPlayed  \\\n",
       "0             Aashiqui Aa Gayi(From \"Radhe Shyam\")     90000   \n",
       "1             Aashiqui Aa Gayi(From \"Radhe Shyam\")     15868   \n",
       "2                                    Jaan Ban Gaye    211673   \n",
       "3                                    Jaan Ban Gaye     30010   \n",
       "4                                    Jaan Ban Gaye    211673   \n",
       "5                                    Jaan Ban Gaye    211673   \n",
       "6  Darkhaast (feat. Arijit Singh, Sunidhi Chauhan)     29751   \n",
       "7  Darkhaast (feat. Arijit Singh, Sunidhi Chauhan)    374205   \n",
       "8  Darkhaast (feat. Arijit Singh, Sunidhi Chauhan)      8799   \n",
       "9                                    Jaan Ban Gaye     27208   \n",
       "\n",
       "                       id                                              genre  \\\n",
       "0  09UmIX92EUH9hAK4bxvHx6  ['desi pop', 'filmi', 'modern bollywood', 'sufi']   \n",
       "1  09UmIX92EUH9hAK4bxvHx6  ['desi pop', 'filmi', 'modern bollywood', 'sufi']   \n",
       "2  09UmIX92EUH9hAK4bxvHx6  ['desi pop', 'filmi', 'modern bollywood', 'sufi']   \n",
       "3  09UmIX92EUH9hAK4bxvHx6  ['desi pop', 'filmi', 'modern bollywood', 'sufi']   \n",
       "4  09UmIX92EUH9hAK4bxvHx6  ['desi pop', 'filmi', 'modern bollywood', 'sufi']   \n",
       "5  09UmIX92EUH9hAK4bxvHx6  ['desi pop', 'filmi', 'modern bollywood', 'sufi']   \n",
       "6  09UmIX92EUH9hAK4bxvHx6  ['desi pop', 'filmi', 'modern bollywood', 'sufi']   \n",
       "7  09UmIX92EUH9hAK4bxvHx6  ['desi pop', 'filmi', 'modern bollywood', 'sufi']   \n",
       "8  09UmIX92EUH9hAK4bxvHx6  ['desi pop', 'filmi', 'modern bollywood', 'sufi']   \n",
       "9  09UmIX92EUH9hAK4bxvHx6  ['desi pop', 'filmi', 'modern bollywood', 'sufi']   \n",
       "\n",
       "  language           date_time        date  month  year  week  \n",
       "0    Hindi 2021-12-16 12:22:00  2021-12-16     12  2021    50  \n",
       "1    Hindi 2021-12-17 17:51:00  2021-12-17     12  2021    50  \n",
       "2    Hindi 2022-03-24 05:43:00  2022-03-24      3  2022    12  \n",
       "3    Hindi 2022-05-20 17:32:00  2022-05-20      5  2022    20  \n",
       "4    Hindi 2022-08-27 11:27:00  2022-08-27      8  2022    34  \n",
       "5    Hindi 2022-11-07 04:28:00  2022-11-07     11  2022    45  \n",
       "6    Hindi 2022-11-18 12:51:00  2022-11-18     11  2022    46  \n",
       "7    Hindi 2022-11-18 13:02:00  2022-11-18     11  2022    46  \n",
       "8    Hindi 2022-11-18 13:17:00  2022-11-18     11  2022    46  \n",
       "9    Hindi 2022-11-20 18:06:00  2022-11-20     11  2022    46  "
      ]
     },
     "execution_count": 72,
     "metadata": {},
     "output_type": "execute_result"
    }
   ],
   "source": [
    "df.head(10)"
   ]
  },
  {
   "cell_type": "code",
   "execution_count": 73,
   "metadata": {},
   "outputs": [
    {
     "data": {
      "text/plain": [
       "3     1683\n",
       "4     1266\n",
       "7      733\n",
       "8      732\n",
       "5      721\n",
       "11     503\n",
       "6      299\n",
       "12     278\n",
       "2      257\n",
       "9      253\n",
       "1      215\n",
       "10     169\n",
       "Name: month, dtype: int64"
      ]
     },
     "execution_count": 73,
     "metadata": {},
     "output_type": "execute_result"
    }
   ],
   "source": [
    "df['month'].value_counts()"
   ]
  },
  {
   "cell_type": "code",
   "execution_count": 74,
   "metadata": {},
   "outputs": [
    {
     "data": {
      "text/plain": [
       "2022    6914\n",
       "2021     195\n",
       "Name: year, dtype: int64"
      ]
     },
     "execution_count": 74,
     "metadata": {},
     "output_type": "execute_result"
    }
   ],
   "source": [
    "df['year'].value_counts()"
   ]
  },
  {
   "cell_type": "code",
   "execution_count": 75,
   "metadata": {},
   "outputs": [],
   "source": [
    "df['minutes']=(df['msPlayed']/1000)/60"
   ]
  },
  {
   "cell_type": "code",
   "execution_count": 76,
   "metadata": {},
   "outputs": [
    {
     "data": {
      "text/html": [
       "<div>\n",
       "<style scoped>\n",
       "    .dataframe tbody tr th:only-of-type {\n",
       "        vertical-align: middle;\n",
       "    }\n",
       "\n",
       "    .dataframe tbody tr th {\n",
       "        vertical-align: top;\n",
       "    }\n",
       "\n",
       "    .dataframe thead th {\n",
       "        text-align: right;\n",
       "    }\n",
       "</style>\n",
       "<table border=\"1\" class=\"dataframe\">\n",
       "  <thead>\n",
       "    <tr style=\"text-align: right;\">\n",
       "      <th></th>\n",
       "      <th>endTime</th>\n",
       "      <th>artistName</th>\n",
       "      <th>trackName</th>\n",
       "      <th>msPlayed</th>\n",
       "      <th>id</th>\n",
       "      <th>genre</th>\n",
       "      <th>language</th>\n",
       "      <th>date_time</th>\n",
       "      <th>date</th>\n",
       "      <th>month</th>\n",
       "      <th>year</th>\n",
       "      <th>week</th>\n",
       "      <th>minutes</th>\n",
       "    </tr>\n",
       "  </thead>\n",
       "  <tbody>\n",
       "    <tr>\n",
       "      <th>0</th>\n",
       "      <td>2021-12-16 12:22</td>\n",
       "      <td>Mithoon</td>\n",
       "      <td>Aashiqui Aa Gayi(From \"Radhe Shyam\")</td>\n",
       "      <td>90000</td>\n",
       "      <td>09UmIX92EUH9hAK4bxvHx6</td>\n",
       "      <td>['desi pop', 'filmi', 'modern bollywood', 'sufi']</td>\n",
       "      <td>Hindi</td>\n",
       "      <td>2021-12-16 12:22:00</td>\n",
       "      <td>2021-12-16</td>\n",
       "      <td>12</td>\n",
       "      <td>2021</td>\n",
       "      <td>50</td>\n",
       "      <td>1.500000</td>\n",
       "    </tr>\n",
       "    <tr>\n",
       "      <th>1</th>\n",
       "      <td>2021-12-17 17:51</td>\n",
       "      <td>Mithoon</td>\n",
       "      <td>Aashiqui Aa Gayi(From \"Radhe Shyam\")</td>\n",
       "      <td>15868</td>\n",
       "      <td>09UmIX92EUH9hAK4bxvHx6</td>\n",
       "      <td>['desi pop', 'filmi', 'modern bollywood', 'sufi']</td>\n",
       "      <td>Hindi</td>\n",
       "      <td>2021-12-17 17:51:00</td>\n",
       "      <td>2021-12-17</td>\n",
       "      <td>12</td>\n",
       "      <td>2021</td>\n",
       "      <td>50</td>\n",
       "      <td>0.264467</td>\n",
       "    </tr>\n",
       "  </tbody>\n",
       "</table>\n",
       "</div>"
      ],
      "text/plain": [
       "            endTime artistName                             trackName  \\\n",
       "0  2021-12-16 12:22    Mithoon  Aashiqui Aa Gayi(From \"Radhe Shyam\")   \n",
       "1  2021-12-17 17:51    Mithoon  Aashiqui Aa Gayi(From \"Radhe Shyam\")   \n",
       "\n",
       "   msPlayed                      id  \\\n",
       "0     90000  09UmIX92EUH9hAK4bxvHx6   \n",
       "1     15868  09UmIX92EUH9hAK4bxvHx6   \n",
       "\n",
       "                                               genre language  \\\n",
       "0  ['desi pop', 'filmi', 'modern bollywood', 'sufi']    Hindi   \n",
       "1  ['desi pop', 'filmi', 'modern bollywood', 'sufi']    Hindi   \n",
       "\n",
       "            date_time        date  month  year  week   minutes  \n",
       "0 2021-12-16 12:22:00  2021-12-16     12  2021    50  1.500000  \n",
       "1 2021-12-17 17:51:00  2021-12-17     12  2021    50  0.264467  "
      ]
     },
     "execution_count": 76,
     "metadata": {},
     "output_type": "execute_result"
    }
   ],
   "source": [
    "df.head(2)"
   ]
  },
  {
   "cell_type": "code",
   "execution_count": 77,
   "metadata": {},
   "outputs": [
    {
     "data": {
      "text/plain": [
       "False"
      ]
     },
     "execution_count": 77,
     "metadata": {},
     "output_type": "execute_result"
    }
   ],
   "source": [
    "df['date'][0]=='2021-12-01'"
   ]
  },
  {
   "cell_type": "code",
   "execution_count": 78,
   "metadata": {},
   "outputs": [
    {
     "data": {
      "text/plain": [
       "datetime.date(2021, 12, 16)"
      ]
     },
     "execution_count": 78,
     "metadata": {},
     "output_type": "execute_result"
    }
   ],
   "source": [
    "df['date'][0]"
   ]
  },
  {
   "cell_type": "code",
   "execution_count": 79,
   "metadata": {},
   "outputs": [
    {
     "data": {
      "text/plain": [
       "datetime.date"
      ]
     },
     "execution_count": 79,
     "metadata": {},
     "output_type": "execute_result"
    }
   ],
   "source": [
    "type(df['date'][0])"
   ]
  },
  {
   "cell_type": "code",
   "execution_count": 80,
   "metadata": {},
   "outputs": [
    {
     "data": {
      "text/plain": [
       "datetime.date(2021, 12, 6)"
      ]
     },
     "execution_count": 80,
     "metadata": {},
     "output_type": "execute_result"
    }
   ],
   "source": [
    "datetime(2021,12,6).date()"
   ]
  },
  {
   "cell_type": "code",
   "execution_count": 81,
   "metadata": {},
   "outputs": [
    {
     "data": {
      "text/plain": [
       "datetime.date"
      ]
     },
     "execution_count": 81,
     "metadata": {},
     "output_type": "execute_result"
    }
   ],
   "source": [
    "type(datetime(2021,12,16).date())"
   ]
  },
  {
   "cell_type": "code",
   "execution_count": 82,
   "metadata": {},
   "outputs": [
    {
     "data": {
      "text/plain": [
       "True"
      ]
     },
     "execution_count": 82,
     "metadata": {},
     "output_type": "execute_result"
    }
   ],
   "source": [
    "df['date'][0]==datetime(2021,12,16).date()"
   ]
  },
  {
   "cell_type": "markdown",
   "metadata": {},
   "source": [
    "Year=2021"
   ]
  },
  {
   "cell_type": "code",
   "execution_count": 83,
   "metadata": {},
   "outputs": [
    {
     "data": {
      "text/plain": [
       "195"
      ]
     },
     "execution_count": 83,
     "metadata": {},
     "output_type": "execute_result"
    }
   ],
   "source": [
    "len(df[(df['year']==2021) & (df['month']==12)])"
   ]
  },
  {
   "cell_type": "code",
   "execution_count": 84,
   "metadata": {},
   "outputs": [
    {
     "data": {
      "text/plain": [
       "195"
      ]
     },
     "execution_count": 84,
     "metadata": {},
     "output_type": "execute_result"
    }
   ],
   "source": [
    "len(df[df['year']==2021])"
   ]
  },
  {
   "cell_type": "code",
   "execution_count": 85,
   "metadata": {},
   "outputs": [],
   "source": [
    "year_2021=df[(df['year']==2021) & (df['month']==12)]"
   ]
  },
  {
   "cell_type": "code",
   "execution_count": 86,
   "metadata": {},
   "outputs": [
    {
     "data": {
      "text/plain": [
       "52    115\n",
       "51     73\n",
       "50      7\n",
       "Name: week, dtype: int64"
      ]
     },
     "execution_count": 86,
     "metadata": {},
     "output_type": "execute_result"
    }
   ],
   "source": [
    "year_2021['week'].value_counts()"
   ]
  },
  {
   "cell_type": "code",
   "execution_count": 87,
   "metadata": {},
   "outputs": [
    {
     "data": {
      "text/html": [
       "<div>\n",
       "<style scoped>\n",
       "    .dataframe tbody tr th:only-of-type {\n",
       "        vertical-align: middle;\n",
       "    }\n",
       "\n",
       "    .dataframe tbody tr th {\n",
       "        vertical-align: top;\n",
       "    }\n",
       "\n",
       "    .dataframe thead th {\n",
       "        text-align: right;\n",
       "    }\n",
       "</style>\n",
       "<table border=\"1\" class=\"dataframe\">\n",
       "  <thead>\n",
       "    <tr style=\"text-align: right;\">\n",
       "      <th></th>\n",
       "      <th>endTime</th>\n",
       "      <th>artistName</th>\n",
       "      <th>trackName</th>\n",
       "      <th>msPlayed</th>\n",
       "      <th>id</th>\n",
       "      <th>genre</th>\n",
       "      <th>language</th>\n",
       "      <th>date_time</th>\n",
       "      <th>date</th>\n",
       "      <th>month</th>\n",
       "      <th>year</th>\n",
       "      <th>week</th>\n",
       "      <th>minutes</th>\n",
       "    </tr>\n",
       "  </thead>\n",
       "  <tbody>\n",
       "    <tr>\n",
       "      <th>0</th>\n",
       "      <td>2021-12-16 12:22</td>\n",
       "      <td>Mithoon</td>\n",
       "      <td>Aashiqui Aa Gayi(From \"Radhe Shyam\")</td>\n",
       "      <td>90000</td>\n",
       "      <td>09UmIX92EUH9hAK4bxvHx6</td>\n",
       "      <td>['desi pop', 'filmi', 'modern bollywood', 'sufi']</td>\n",
       "      <td>Hindi</td>\n",
       "      <td>2021-12-16 12:22:00</td>\n",
       "      <td>2021-12-16</td>\n",
       "      <td>12</td>\n",
       "      <td>2021</td>\n",
       "      <td>50</td>\n",
       "      <td>1.500000</td>\n",
       "    </tr>\n",
       "    <tr>\n",
       "      <th>1</th>\n",
       "      <td>2021-12-17 17:51</td>\n",
       "      <td>Mithoon</td>\n",
       "      <td>Aashiqui Aa Gayi(From \"Radhe Shyam\")</td>\n",
       "      <td>15868</td>\n",
       "      <td>09UmIX92EUH9hAK4bxvHx6</td>\n",
       "      <td>['desi pop', 'filmi', 'modern bollywood', 'sufi']</td>\n",
       "      <td>Hindi</td>\n",
       "      <td>2021-12-17 17:51:00</td>\n",
       "      <td>2021-12-17</td>\n",
       "      <td>12</td>\n",
       "      <td>2021</td>\n",
       "      <td>50</td>\n",
       "      <td>0.264467</td>\n",
       "    </tr>\n",
       "    <tr>\n",
       "      <th>14</th>\n",
       "      <td>2021-12-17 17:58</td>\n",
       "      <td>Sanam</td>\n",
       "      <td>Aap Ki Nazron Ne Samjha</td>\n",
       "      <td>186737</td>\n",
       "      <td>7o7doCwqft91WC690aglWC</td>\n",
       "      <td>['desi pop', 'modern bollywood']</td>\n",
       "      <td>Hindi</td>\n",
       "      <td>2021-12-17 17:58:00</td>\n",
       "      <td>2021-12-17</td>\n",
       "      <td>12</td>\n",
       "      <td>2021</td>\n",
       "      <td>50</td>\n",
       "      <td>3.112283</td>\n",
       "    </tr>\n",
       "    <tr>\n",
       "      <th>15</th>\n",
       "      <td>2021-12-17 18:01</td>\n",
       "      <td>Sanam</td>\n",
       "      <td>Aap Ki Nazron Ne Samjha</td>\n",
       "      <td>186737</td>\n",
       "      <td>7o7doCwqft91WC690aglWC</td>\n",
       "      <td>['desi pop', 'modern bollywood']</td>\n",
       "      <td>Hindi</td>\n",
       "      <td>2021-12-17 18:01:00</td>\n",
       "      <td>2021-12-17</td>\n",
       "      <td>12</td>\n",
       "      <td>2021</td>\n",
       "      <td>50</td>\n",
       "      <td>3.112283</td>\n",
       "    </tr>\n",
       "    <tr>\n",
       "      <th>16</th>\n",
       "      <td>2021-12-17 18:05</td>\n",
       "      <td>Sanam</td>\n",
       "      <td>Aap Ki Nazron Ne Samjha</td>\n",
       "      <td>164350</td>\n",
       "      <td>7o7doCwqft91WC690aglWC</td>\n",
       "      <td>['desi pop', 'modern bollywood']</td>\n",
       "      <td>Hindi</td>\n",
       "      <td>2021-12-17 18:05:00</td>\n",
       "      <td>2021-12-17</td>\n",
       "      <td>12</td>\n",
       "      <td>2021</td>\n",
       "      <td>50</td>\n",
       "      <td>2.739167</td>\n",
       "    </tr>\n",
       "    <tr>\n",
       "      <th>51</th>\n",
       "      <td>2021-12-17 18:07</td>\n",
       "      <td>Sippy Gill, Desi Roots</td>\n",
       "      <td>Suhe Bullan Waliye</td>\n",
       "      <td>162857</td>\n",
       "      <td>3YoYru7MdcyhImg7mUHFic</td>\n",
       "      <td>['desi pop', 'punjabi pop']</td>\n",
       "      <td>Punjabi</td>\n",
       "      <td>2021-12-17 18:07:00</td>\n",
       "      <td>2021-12-17</td>\n",
       "      <td>12</td>\n",
       "      <td>2021</td>\n",
       "      <td>50</td>\n",
       "      <td>2.714283</td>\n",
       "    </tr>\n",
       "    <tr>\n",
       "      <th>52</th>\n",
       "      <td>2021-12-17 18:08</td>\n",
       "      <td>Sippy Gill, Desi Roots</td>\n",
       "      <td>Suhe Bullan Waliye</td>\n",
       "      <td>34787</td>\n",
       "      <td>3YoYru7MdcyhImg7mUHFic</td>\n",
       "      <td>['desi pop', 'punjabi pop']</td>\n",
       "      <td>Punjabi</td>\n",
       "      <td>2021-12-17 18:08:00</td>\n",
       "      <td>2021-12-17</td>\n",
       "      <td>12</td>\n",
       "      <td>2021</td>\n",
       "      <td>50</td>\n",
       "      <td>0.579783</td>\n",
       "    </tr>\n",
       "  </tbody>\n",
       "</table>\n",
       "</div>"
      ],
      "text/plain": [
       "             endTime              artistName  \\\n",
       "0   2021-12-16 12:22                 Mithoon   \n",
       "1   2021-12-17 17:51                 Mithoon   \n",
       "14  2021-12-17 17:58                   Sanam   \n",
       "15  2021-12-17 18:01                   Sanam   \n",
       "16  2021-12-17 18:05                   Sanam   \n",
       "51  2021-12-17 18:07  Sippy Gill, Desi Roots   \n",
       "52  2021-12-17 18:08  Sippy Gill, Desi Roots   \n",
       "\n",
       "                               trackName  msPlayed                      id  \\\n",
       "0   Aashiqui Aa Gayi(From \"Radhe Shyam\")     90000  09UmIX92EUH9hAK4bxvHx6   \n",
       "1   Aashiqui Aa Gayi(From \"Radhe Shyam\")     15868  09UmIX92EUH9hAK4bxvHx6   \n",
       "14               Aap Ki Nazron Ne Samjha    186737  7o7doCwqft91WC690aglWC   \n",
       "15               Aap Ki Nazron Ne Samjha    186737  7o7doCwqft91WC690aglWC   \n",
       "16               Aap Ki Nazron Ne Samjha    164350  7o7doCwqft91WC690aglWC   \n",
       "51                    Suhe Bullan Waliye    162857  3YoYru7MdcyhImg7mUHFic   \n",
       "52                    Suhe Bullan Waliye     34787  3YoYru7MdcyhImg7mUHFic   \n",
       "\n",
       "                                                genre language  \\\n",
       "0   ['desi pop', 'filmi', 'modern bollywood', 'sufi']    Hindi   \n",
       "1   ['desi pop', 'filmi', 'modern bollywood', 'sufi']    Hindi   \n",
       "14                   ['desi pop', 'modern bollywood']    Hindi   \n",
       "15                   ['desi pop', 'modern bollywood']    Hindi   \n",
       "16                   ['desi pop', 'modern bollywood']    Hindi   \n",
       "51                        ['desi pop', 'punjabi pop']  Punjabi   \n",
       "52                        ['desi pop', 'punjabi pop']  Punjabi   \n",
       "\n",
       "             date_time        date  month  year  week   minutes  \n",
       "0  2021-12-16 12:22:00  2021-12-16     12  2021    50  1.500000  \n",
       "1  2021-12-17 17:51:00  2021-12-17     12  2021    50  0.264467  \n",
       "14 2021-12-17 17:58:00  2021-12-17     12  2021    50  3.112283  \n",
       "15 2021-12-17 18:01:00  2021-12-17     12  2021    50  3.112283  \n",
       "16 2021-12-17 18:05:00  2021-12-17     12  2021    50  2.739167  \n",
       "51 2021-12-17 18:07:00  2021-12-17     12  2021    50  2.714283  \n",
       "52 2021-12-17 18:08:00  2021-12-17     12  2021    50  0.579783  "
      ]
     },
     "execution_count": 87,
     "metadata": {},
     "output_type": "execute_result"
    }
   ],
   "source": [
    "year_2021[year_2021['week']==50]"
   ]
  },
  {
   "cell_type": "markdown",
   "metadata": {},
   "source": [
    "#### 5th week of the year 2021"
   ]
  },
  {
   "cell_type": "code",
   "execution_count": 88,
   "metadata": {},
   "outputs": [
    {
     "data": {
      "text/plain": [
       "14.022266666666665"
      ]
     },
     "execution_count": 88,
     "metadata": {},
     "output_type": "execute_result"
    }
   ],
   "source": [
    "year_2021[year_2021['week']==50]['minutes'].sum()"
   ]
  },
  {
   "cell_type": "code",
   "execution_count": 89,
   "metadata": {},
   "outputs": [
    {
     "data": {
      "text/plain": [
       "10.7282"
      ]
     },
     "execution_count": 89,
     "metadata": {},
     "output_type": "execute_result"
    }
   ],
   "source": [
    "hindi_song_time=year_2021[(year_2021['week']==50)&(year_2021['language']=='Hindi')]['minutes'].sum()\n",
    "hindi_song_time"
   ]
  },
  {
   "cell_type": "code",
   "execution_count": 90,
   "metadata": {},
   "outputs": [
    {
     "data": {
      "text/plain": [
       "3.2940666666666667"
      ]
     },
     "execution_count": 90,
     "metadata": {},
     "output_type": "execute_result"
    }
   ],
   "source": [
    "punjabi_song_time=year_2021[(year_2021['week']==50)&(year_2021['language']=='Punjabi')]['minutes'].sum()\n",
    "punjabi_song_time"
   ]
  },
  {
   "cell_type": "code",
   "execution_count": 91,
   "metadata": {},
   "outputs": [],
   "source": [
    "time_in_minute = [hindi_song_time,punjabi_song_time]"
   ]
  },
  {
   "cell_type": "code",
   "execution_count": 92,
   "metadata": {},
   "outputs": [
    {
     "data": {
      "text/plain": [
       "Hindi      5\n",
       "Punjabi    2\n",
       "Name: language, dtype: int64"
      ]
     },
     "execution_count": 92,
     "metadata": {},
     "output_type": "execute_result"
    }
   ],
   "source": [
    "year_2021[year_2021['week']==50]['language'].value_counts()"
   ]
  },
  {
   "cell_type": "code",
   "execution_count": 93,
   "metadata": {},
   "outputs": [
    {
     "data": {
      "image/png": "[encoded data removed]",
      "text/plain": [
       "<Figure size 640x480 with 1 Axes>"
      ]
     },
     "metadata": {},
     "output_type": "display_data"
    }
   ],
   "source": [
    "plt.bar(year_2021[year_2021['week']==50]['language'].value_counts().index,year_2021[year_2021['week']==50]['language'].value_counts(),width=0.5)\n",
    "plt.title('Language wise listening in week 50 in year 2021')\n",
    "plt.xlabel('Language')\n",
    "plt.ylabel('Count');"
   ]
  },
  {
   "cell_type": "code",
   "execution_count": 94,
   "metadata": {},
   "outputs": [
    {
     "data": {
      "image/png": "[encoded data removed]",
      "text/plain": [
       "<Figure size 640x480 with 1 Axes>"
      ]
     },
     "metadata": {},
     "output_type": "display_data"
    }
   ],
   "source": [
    "plt.bar(year_2021[year_2021['week']==50]['language'].value_counts().index,time_in_minute,width=0.5)\n",
    "plt.title('Language wise listening in week 50 in year 2021')\n",
    "plt.xlabel('Language')\n",
    "plt.ylabel('Time in minutes');"
   ]
  },
  {
   "cell_type": "markdown",
   "metadata": {},
   "source": [
    "#### 52th week of the year 2021"
   ]
  },
  {
   "cell_type": "code",
   "execution_count": 97,
   "metadata": {},
   "outputs": [],
   "source": [
    "drop_axis = ['endTime','date_time','msPlayed','id','genre']"
   ]
  },
  {
   "cell_type": "code",
   "execution_count": 98,
   "metadata": {},
   "outputs": [],
   "source": [
    "final_visualization_data = df.drop(drop_axis,axis=1)"
   ]
  },
  {
   "cell_type": "code",
   "execution_count": 100,
   "metadata": {},
   "outputs": [],
   "source": [
    "final_visualization_data.to_csv('final_visualization_data.csv',index=False)"
   ]
  },
  {
   "cell_type": "code",
   "execution_count": null,
   "metadata": {},
   "outputs": [],
   "source": []
  },
  {
   "cell_type": "code",
   "execution_count": null,
   "metadata": {},
   "outputs": [],
   "source": []
  },
  {
   "cell_type": "code",
   "execution_count": null,
   "metadata": {},
   "outputs": [],
   "source": []
  },
  {
   "cell_type": "code",
   "execution_count": null,
   "metadata": {},
   "outputs": [],
   "source": []
  },
  {
   "cell_type": "code",
   "execution_count": null,
   "metadata": {},
   "outputs": [],
   "source": []
  },
  {
   "cell_type": "code",
   "execution_count": null,
   "metadata": {},
   "outputs": [],
   "source": []
  },
  {
   "cell_type": "code",
   "execution_count": null,
   "metadata": {},
   "outputs": [],
   "source": []
  },
  {
   "cell_type": "code",
   "execution_count": null,
   "metadata": {},
   "outputs": [],
   "source": []
  },
  {
   "cell_type": "code",
   "execution_count": null,
   "metadata": {},
   "outputs": [],
   "source": []
  },
  {
   "cell_type": "code",
   "execution_count": null,
   "metadata": {},
   "outputs": [],
   "source": []
  },
  {
   "cell_type": "code",
   "execution_count": null,
   "metadata": {},
   "outputs": [],
   "source": []
  },
  {
   "cell_type": "code",
   "execution_count": null,
   "metadata": {},
   "outputs": [],
   "source": []
  },
  {
   "cell_type": "code",
   "execution_count": null,
   "metadata": {},
   "outputs": [],
   "source": []
  },
  {
   "cell_type": "code",
   "execution_count": null,
   "metadata": {},
   "outputs": [],
   "source": []
  },
  {
   "cell_type": "code",
   "execution_count": null,
   "metadata": {},
   "outputs": [],
   "source": []
  },
  {
   "cell_type": "code",
   "execution_count": null,
   "metadata": {},
   "outputs": [],
   "source": []
  },
  {
   "cell_type": "code",
   "execution_count": null,
   "metadata": {},
   "outputs": [],
   "source": []
  },
  {
   "cell_type": "code",
   "execution_count": null,
   "metadata": {},
   "outputs": [],
   "source": []
  },
  {
   "cell_type": "code",
   "execution_count": null,
   "metadata": {},
   "outputs": [],
   "source": []
  },
  {
   "cell_type": "code",
   "execution_count": null,
   "metadata": {},
   "outputs": [],
   "source": []
  },
  {
   "cell_type": "code",
   "execution_count": null,
   "metadata": {},
   "outputs": [],
   "source": []
  }
 ],
 "metadata": {
  "kernelspec": {
   "display_name": "Python 3.10.6 64-bit",
   "language": "python",
   "name": "python3"
  },
  "language_info": {
   "codemirror_mode": {
    "name": "ipython",
    "version": 3
   },
   "file_extension": ".py",
   "mimetype": "text/x-python",
   "name": "python",
   "nbconvert_exporter": "python",
   "pygments_lexer": "ipython3",
   "version": "3.10.6"
  },
  "orig_nbformat": 4,
  "vscode": {
   "interpreter": {
    "hash": "916dbcbb3f70747c44a77c7bcd40155683ae19c65e1c03b4aa3499c5328201f1"
   }
  }
 },
 "nbformat": 4,
 "nbformat_minor": 2
}
