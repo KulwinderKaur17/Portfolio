{
 "cells": [
  {
   "cell_type": "code",
   "execution_count": 3,
   "metadata": {},
   "outputs": [],
   "source": [
    "import json\n",
    "import pandas as pd\n",
    "import os\n",
    "import numpy as np"
   ]
  },
  {
   "cell_type": "code",
   "execution_count": null,
   "metadata": {},
   "outputs": [],
   "source": [
    "#Authorizing 1st API\n",
    "# Use this to get restricted access to the API\n",
    "import spotipy\n",
    "from spotipy.oauth2 import SpotifyClientCredentials\n",
    "client_id = input(\"Enter your client id: \")\n",
    "client_secret = input(\"Enter your client secret: \")\n",
    "auth_manager = SpotifyClientCredentials(client_id=client_id, client_secret=client_secret)\n",
    "sp = spotipy.Spotify(auth_manager=auth_manager)"
   ]
  },
  {
   "cell_type": "code",
   "execution_count": 7,
   "metadata": {},
   "outputs": [],
   "source": [
    "#Authorizing 2st API\n",
    "# Use this to get full access to the API\n",
    "#You'll need to copy the link from the redirect url\n",
    "import spotipy\n",
    "from spotipy.oauth2 import SpotifyClientCredentials\n",
    "client_id = input(\"Enter your client id: \")\n",
    "client_secret = input(\"Enter your client secret: \")\n",
    "token = spotipy.util.prompt_for_user_token(client_id= client_id, client_secret= client_secret, redirect_uri='http://mysite.com/callback/')\n",
    "sp = spotipy.Spotify(auth=token)"
   ]
  },
  {
   "cell_type": "markdown",
   "metadata": {},
   "source": [
    "### A function to get the details of a song in a playlist"
   ]
  },
  {
   "cell_type": "code",
   "execution_count": 2,
   "metadata": {},
   "outputs": [],
   "source": [
    "def get_json_data(playlist_uri):\n",
    "    \"\"\"\n",
    "    The functionassumes that you already have the `sp` object\n",
    "    return a list of names and audio_features\n",
    "    \"\"\"\n",
    "    data = sp.playlist_items(playlist_id=playlist_uri)\n",
    "    uri = [data['items'][i]['track']['uri'] for i in range(len(data['items']))]\n",
    "    name = [data['items'][i]['track']['name'] for i in range(len(data['items']))]\n",
    "    audio_features = [sp.audio_features(uri[i]) for i in range(len(uri))]\n",
    "    return name, audio_features"
   ]
  },
  {
   "cell_type": "code",
   "execution_count": 27,
   "metadata": {},
   "outputs": [],
   "source": [
    "def get_dataframe(playlist_uri):\n",
    "    \"\"\"\n",
    "    The function assumes that you already have the `sp` object\n",
    "    it takes playlist_uri and returns a dataframe\n",
    "    \"\"\"\n",
    "    uri = []\n",
    "    name = []\n",
    "    i=0\n",
    "    j=0\n",
    "    while True:\n",
    "        print(\"On page: \", j+1)\n",
    "        data = sp.playlist_items(playlist_id=playlist_uri, offset=i)\n",
    "        if data['items']:\n",
    "            for d in data['items']:\n",
    "                uri.append(d['track']['uri'])\n",
    "                name.append(d['track']['name'])\n",
    "            i+=100\n",
    "            j+=1\n",
    "        else:\n",
    "            break\n",
    "    audio_features = [sp.audio_features(uri[i]) for i in range(len(uri))]\n",
    "    Dancebility = []\n",
    "    Energy = []\n",
    "    Key = []\n",
    "    Loudness = []\n",
    "    Mode = []\n",
    "    Speechiness = []\n",
    "    Acousticness = []\n",
    "    Instrumentalness = []\n",
    "    Liveness = []\n",
    "    Valence = []\n",
    "    Tempo = []\n",
    "    Name = []\n",
    "    for i in range(len(audio_features)):\n",
    "        if audio_features[i][0] is None:\n",
    "            pass\n",
    "        else:\n",
    "            # print(i)\n",
    "            Name.append(name[i])\n",
    "            Dancebility.append(audio_features[i][0]['danceability'])\n",
    "            Energy.append(audio_features[i][0]['energy'])\n",
    "            Key.append(audio_features[i][0]['key'])\n",
    "            Loudness.append(audio_features[i][0]['loudness'])\n",
    "            Mode.append(audio_features[i][0]['mode'])\n",
    "            Speechiness.append(audio_features[i][0]['speechiness'])\n",
    "            Acousticness.append(audio_features[i][0]['acousticness'])\n",
    "            Instrumentalness.append(audio_features[i][0]['instrumentalness'])\n",
    "            Liveness.append(audio_features[i][0]['liveness'])\n",
    "            Valence.append(audio_features[i][0]['valence'])\n",
    "            Tempo.append(audio_features[i][0]['tempo'])\n",
    "    columns = ['name', 'danceability', 'energy', 'key', 'loudness', 'mode', 'speechiness', 'acousticness', 'instrumentalness', 'liveness', 'valence', 'tempo']\n",
    "    df = pd.DataFrame([Name, Dancebility, Energy, Key, Loudness, Mode, Speechiness, Acousticness, Instrumentalness, Liveness, Valence, Tempo]).T\n",
    "    df.columns = columns\n",
    "    return df\n"
   ]
  },
  {
   "cell_type": "code",
   "execution_count": null,
   "metadata": {},
   "outputs": [],
   "source": []
  }
 ],
 "metadata": {
  "kernelspec": {
   "display_name": "Python 3.10.6 64-bit",
   "language": "python",
   "name": "python3"
  },
  "language_info": {
   "codemirror_mode": {
    "name": "ipython",
    "version": 3
   },
   "file_extension": ".py",
   "mimetype": "text/x-python",
   "name": "python",
   "nbconvert_exporter": "python",
   "pygments_lexer": "ipython3",
   "version": "3.10.6"
  },
  "orig_nbformat": 4,
  "vscode": {
   "interpreter": {
    "hash": "916dbcbb3f70747c44a77c7bcd40155683ae19c65e1c03b4aa3499c5328201f1"
   }
  }
 },
 "nbformat": 4,
 "nbformat_minor": 2
}
