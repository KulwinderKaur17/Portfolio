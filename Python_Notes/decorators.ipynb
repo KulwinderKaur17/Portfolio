{
 "cells": [
  {
   "cell_type": "markdown",
   "metadata": {},
   "source": [
    "## Without Using Decorators"
   ]
  },
  {
   "cell_type": "code",
   "execution_count": 1,
   "metadata": {},
   "outputs": [],
   "source": [
    "def st():\n",
    "    a = \"Kulwinder Kaur\"\n",
    "    return a"
   ]
  },
  {
   "cell_type": "code",
   "execution_count": 2,
   "metadata": {},
   "outputs": [],
   "source": [
    "def upper_str(func):\n",
    "    def inner():\n",
    "        str1 = func()\n",
    "        return str1.upper()\n",
    "    return inner"
   ]
  },
  {
   "cell_type": "code",
   "execution_count": 6,
   "metadata": {},
   "outputs": [
    {
     "name": "stdout",
     "output_type": "stream",
     "text": [
      "KULWINDER KAUR\n"
     ]
    }
   ],
   "source": [
    "a = upper_str(st)\n",
    "print(a())"
   ]
  },
  {
   "cell_type": "markdown",
   "metadata": {},
   "source": [
    "## Using Decorators"
   ]
  },
  {
   "cell_type": "markdown",
   "metadata": {},
   "source": [
    "Decorators hide data, since we execute st() function, but we get \"st._name__\" is \"inner\""
   ]
  },
  {
   "cell_type": "code",
   "execution_count": 21,
   "metadata": {},
   "outputs": [
    {
     "name": "stdout",
     "output_type": "stream",
     "text": [
      "inner\n"
     ]
    }
   ],
   "source": [
    "def upper_str(func):\n",
    "    def inner():\n",
    "        str1 = func()\n",
    "        return str1.upper()\n",
    "    return inner\n",
    "@upper_str #decorator\n",
    "def st():\n",
    "    a = \"Kulwinder Kaur\"\n",
    "    return a\n",
    "print(st.__name__)"
   ]
  },
  {
   "cell_type": "markdown",
   "metadata": {},
   "source": [
    "Using Decorators (return function refernce)"
   ]
  },
  {
   "cell_type": "code",
   "execution_count": 7,
   "metadata": {},
   "outputs": [],
   "source": [
    "def upper_str(func):\n",
    "    def inner():\n",
    "        str1 = func()\n",
    "        return str1.upper()\n",
    "    return inner\n",
    "@upper_str #decorator\n",
    "def st():\n",
    "    a = \"Kulwinder Kaur\"\n",
    "    return a"
   ]
  },
  {
   "cell_type": "code",
   "execution_count": 9,
   "metadata": {},
   "outputs": [
    {
     "name": "stdout",
     "output_type": "stream",
     "text": [
      "KULWINDER KAUR\n"
     ]
    }
   ],
   "source": [
    "print(st())"
   ]
  },
  {
   "cell_type": "markdown",
   "metadata": {},
   "source": [
    "Using Decorators (return function)"
   ]
  },
  {
   "cell_type": "code",
   "execution_count": 18,
   "metadata": {},
   "outputs": [],
   "source": [
    "def upper_str(func):\n",
    "    def inner():\n",
    "        str1 = func()\n",
    "        return str1.upper()\n",
    "    return inner()\n",
    "@upper_str #decorator\n",
    "def st():\n",
    "    a = \"Kulwinder Kaur\"\n",
    "    return a"
   ]
  },
  {
   "cell_type": "code",
   "execution_count": 19,
   "metadata": {},
   "outputs": [
    {
     "ename": "TypeError",
     "evalue": "'str' object is not callable",
     "output_type": "error",
     "traceback": [
      "\u001b[0;31m---------------------------------------------------------------------------\u001b[0m",
      "\u001b[0;31mTypeError\u001b[0m                                 Traceback (most recent call last)",
      "Cell \u001b[0;32mIn[19], line 1\u001b[0m\n\u001b[0;32m----> 1\u001b[0m \u001b[39mprint\u001b[39m(st())\n",
      "\u001b[0;31mTypeError\u001b[0m: 'str' object is not callable"
     ]
    }
   ],
   "source": [
    "print(st())"
   ]
  },
  {
   "cell_type": "code",
   "execution_count": 20,
   "metadata": {},
   "outputs": [
    {
     "name": "stdout",
     "output_type": "stream",
     "text": [
      "KULWINDER KAUR\n"
     ]
    }
   ],
   "source": [
    "print(st)"
   ]
  },
  {
   "cell_type": "markdown",
   "metadata": {},
   "source": [
    "Another example of decorator, first we get ZeroDivisionError and then we use decorator to handle it."
   ]
  },
  {
   "cell_type": "code",
   "execution_count": 11,
   "metadata": {},
   "outputs": [
    {
     "ename": "ZeroDivisionError",
     "evalue": "division by zero",
     "output_type": "error",
     "traceback": [
      "\u001b[0;31m---------------------------------------------------------------------------\u001b[0m",
      "\u001b[0;31mZeroDivisionError\u001b[0m                         Traceback (most recent call last)",
      "Cell \u001b[0;32mIn[11], line 1\u001b[0m\n\u001b[0;32m----> 1\u001b[0m div(\u001b[39m3\u001b[39;49m,\u001b[39m0\u001b[39;49m)\n",
      "Cell \u001b[0;32mIn[10], line 2\u001b[0m, in \u001b[0;36mdiv\u001b[0;34m(a, b)\u001b[0m\n\u001b[1;32m      1\u001b[0m \u001b[39mdef\u001b[39;00m \u001b[39mdiv\u001b[39m(a,b):\n\u001b[0;32m----> 2\u001b[0m     \u001b[39mprint\u001b[39m(a\u001b[39m/\u001b[39;49mb)\n",
      "\u001b[0;31mZeroDivisionError\u001b[0m: division by zero"
     ]
    }
   ],
   "source": [
    "div(3,0)"
   ]
  },
  {
   "cell_type": "code",
   "execution_count": 12,
   "metadata": {},
   "outputs": [],
   "source": [
    "def div_decorator(func):\n",
    "    def inner(a,b):\n",
    "        if b==0:\n",
    "            return \"Give Valid Input\"\n",
    "        return func(a,b)\n",
    "    return inner"
   ]
  },
  {
   "cell_type": "code",
   "execution_count": 15,
   "metadata": {},
   "outputs": [],
   "source": [
    "@ div_decorator\n",
    "def div(a,b):\n",
    "    print(a/b)"
   ]
  },
  {
   "cell_type": "code",
   "execution_count": 16,
   "metadata": {},
   "outputs": [
    {
     "data": {
      "text/plain": [
       "'Give Valid Input'"
      ]
     },
     "execution_count": 16,
     "metadata": {},
     "output_type": "execute_result"
    }
   ],
   "source": [
    "div(3,0)\n"
   ]
  },
  {
   "cell_type": "code",
   "execution_count": 17,
   "metadata": {},
   "outputs": [
    {
     "name": "stdout",
     "output_type": "stream",
     "text": [
      "2.0\n"
     ]
    }
   ],
   "source": [
    "div(2,1)"
   ]
  },
  {
   "cell_type": "markdown",
   "metadata": {},
   "source": [
    "Multiple Decorators"
   ]
  },
  {
   "cell_type": "code",
   "execution_count": null,
   "metadata": {},
   "outputs": [],
   "source": [
    "def st():\n",
    "    a = \"Kulwinder Kaur\"\n",
    "    return a"
   ]
  },
  {
   "cell_type": "code",
   "execution_count": 13,
   "metadata": {},
   "outputs": [
    {
     "name": "stdout",
     "output_type": "stream",
     "text": [
      "['KULWINDER', 'KAUR']\n"
     ]
    }
   ],
   "source": [
    "def upper_str(func):\n",
    "    def inner():\n",
    "        str1 = func()\n",
    "        return str1.upper()\n",
    "    return inner\n",
    "def st_split(func):\n",
    "    def wrapper():\n",
    "        str1 = func()\n",
    "        return str1.split()\n",
    "    return wrapper\n",
    "@st_split\n",
    "@upper_str # Here first upper_str will be executed and then st_split\n",
    "def st():\n",
    "    a = \"Kulwinder Kaur\"\n",
    "    return a\n",
    "\n",
    "print(st())"
   ]
  },
  {
   "cell_type": "code",
   "execution_count": 12,
   "metadata": {},
   "outputs": [
    {
     "ename": "AttributeError",
     "evalue": "'list' object has no attribute 'upper'",
     "output_type": "error",
     "traceback": [
      "\u001b[0;31m---------------------------------------------------------------------------\u001b[0m",
      "\u001b[0;31mAttributeError\u001b[0m                            Traceback (most recent call last)",
      "Cell \u001b[0;32mIn[12], line 17\u001b[0m\n\u001b[1;32m     14\u001b[0m     a \u001b[39m=\u001b[39m \u001b[39m\"\u001b[39m\u001b[39mKulwinder Kaur\u001b[39m\u001b[39m\"\u001b[39m\n\u001b[1;32m     15\u001b[0m     \u001b[39mreturn\u001b[39;00m a\n\u001b[0;32m---> 17\u001b[0m \u001b[39mprint\u001b[39m(st())\n",
      "Cell \u001b[0;32mIn[12], line 4\u001b[0m, in \u001b[0;36mupper_str.<locals>.inner\u001b[0;34m()\u001b[0m\n\u001b[1;32m      2\u001b[0m \u001b[39mdef\u001b[39;00m \u001b[39minner\u001b[39m():\n\u001b[1;32m      3\u001b[0m     str1 \u001b[39m=\u001b[39m func()\n\u001b[0;32m----> 4\u001b[0m     \u001b[39mreturn\u001b[39;00m str1\u001b[39m.\u001b[39;49mupper()\n",
      "\u001b[0;31mAttributeError\u001b[0m: 'list' object has no attribute 'upper'"
     ]
    }
   ],
   "source": [
    "def upper_str(func):\n",
    "    def inner():\n",
    "        str1 = func()\n",
    "        return str1.upper()\n",
    "    return inner\n",
    "def st_split(func):\n",
    "    def wrapper():\n",
    "        str1 = func()\n",
    "        return str1.split()\n",
    "    return wrapper\n",
    "@upper_str\n",
    "@st_split\n",
    "def st():\n",
    "    a = \"Kulwinder Kaur\"\n",
    "    return a\n",
    "\n",
    "print(st())"
   ]
  },
  {
   "cell_type": "markdown",
   "metadata": {},
   "source": [
    "Take parametrs in decorator function"
   ]
  },
  {
   "cell_type": "code",
   "execution_count": 10,
   "metadata": {},
   "outputs": [
    {
     "name": "stdout",
     "output_type": "stream",
     "text": [
      "Hello Kulwinder Kaur\n"
     ]
    }
   ],
   "source": [
    "def outer(expression):\n",
    "    def middle(func):   # line 2 to 6 is decorator function\n",
    "        def inner():\n",
    "            return func() + expression  \n",
    "        return inner\n",
    "    return middle\n",
    "\n",
    "@outer(\"Kulwinder Kaur\")\n",
    "def st():\n",
    "    return \"Hello \"\n",
    "\n",
    "print(st())  "
   ]
  },
  {
   "cell_type": "code",
   "execution_count": 14,
   "metadata": {},
   "outputs": [
    {
     "name": "stdout",
     "output_type": "stream",
     "text": [
      "HELLO Kulwinder Kaur\n"
     ]
    }
   ],
   "source": [
    "def outer(expression):\n",
    "    def middle(func):\n",
    "        def inner():\n",
    "            return func() + expression  \n",
    "        return inner\n",
    "    return middle\n",
    "\n",
    "@outer(\"Kulwinder Kaur\")\n",
    "@upper_str\n",
    "def st():\n",
    "    return \"Hello \"\n",
    "\n",
    "print(st())  "
   ]
  },
  {
   "cell_type": "markdown",
   "metadata": {},
   "source": [
    "ccc"
   ]
  },
  {
   "cell_type": "code",
   "execution_count": 19,
   "metadata": {},
   "outputs": [
    {
     "name": "stdout",
     "output_type": "stream",
     "text": [
      "3.0\n",
      "Give Valid Input\n"
     ]
    }
   ],
   "source": [
    "def div_decorator(func):\n",
    "    def inner(*args):\n",
    "        lt=[]\n",
    "        lt = args[1:]\n",
    "        for i in lt:\n",
    "            if i==0:\n",
    "                return \"Give Valid Input\"\n",
    "        return func(*args)\n",
    "    return inner\n",
    "\n",
    "@div_decorator\n",
    "def div1(a,b):\n",
    "    return (a/b)\n",
    "@div_decorator\n",
    "def div2(a,b,c):\n",
    "    return (a/b/c)\n",
    "\n",
    "print(div1(3,1))             \n",
    "print(div2(3,0,1))"
   ]
  },
  {
   "cell_type": "markdown",
   "metadata": {},
   "source": [
    "## Class Decorators"
   ]
  },
  {
   "cell_type": "markdown",
   "metadata": {},
   "source": [
    "Decorators hide data, since we execute st() function, but we get \"st._name__\" is \"inner\""
   ]
  },
  {
   "cell_type": "code",
   "execution_count": 1,
   "metadata": {},
   "outputs": [
    {
     "name": "stdout",
     "output_type": "stream",
     "text": [
      "inner\n"
     ]
    }
   ],
   "source": [
    "def upper_str(func):\n",
    "    def inner():\n",
    "        str1 = func()\n",
    "        return str1.upper()\n",
    "    return inner\n",
    "@upper_str #decorator\n",
    "def st():\n",
    "    a = \"Kulwinder Kaur\"\n",
    "    return a\n",
    "print(st.__name__)"
   ]
  },
  {
   "cell_type": "code",
   "execution_count": 2,
   "metadata": {},
   "outputs": [
    {
     "name": "stdout",
     "output_type": "stream",
     "text": [
      "st\n"
     ]
    }
   ],
   "source": [
    "import functools\n",
    "def upper_str(func):\n",
    "    @functools.wraps(func)\n",
    "    def inner():\n",
    "        str1 = func()\n",
    "        return str1.upper()\n",
    "    return inner\n",
    "@upper_str #decorator\n",
    "def st():\n",
    "    a = \"Kulwinder Kaur\"\n",
    "    return a\n",
    "print(st.__name__)"
   ]
  },
  {
   "cell_type": "markdown",
   "metadata": {},
   "source": [
    "we can apply decorator to method also"
   ]
  },
  {
   "cell_type": "code",
   "execution_count": null,
   "metadata": {},
   "outputs": [],
   "source": []
  },
  {
   "cell_type": "code",
   "execution_count": null,
   "metadata": {},
   "outputs": [],
   "source": []
  },
  {
   "cell_type": "code",
   "execution_count": null,
   "metadata": {},
   "outputs": [],
   "source": []
  }
 ],
 "metadata": {
  "kernelspec": {
   "display_name": "Python 3.10.6 64-bit",
   "language": "python",
   "name": "python3"
  },
  "language_info": {
   "codemirror_mode": {
    "name": "ipython",
    "version": 3
   },
   "file_extension": ".py",
   "mimetype": "text/x-python",
   "name": "python",
   "nbconvert_exporter": "python",
   "pygments_lexer": "ipython3",
   "version": "3.10.6"
  },
  "orig_nbformat": 4,
  "vscode": {
   "interpreter": {
    "hash": "916dbcbb3f70747c44a77c7bcd40155683ae19c65e1c03b4aa3499c5328201f1"
   }
  }
 },
 "nbformat": 4,
 "nbformat_minor": 2
}
