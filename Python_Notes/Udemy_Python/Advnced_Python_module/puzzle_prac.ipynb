{
 "cells": [
  {
   "cell_type": "markdown",
   "metadata": {},
   "source": [
    "## Step 1 Unzip the instruction folder"
   ]
  },
  {
   "cell_type": "code",
   "execution_count": 2,
   "metadata": {},
   "outputs": [],
   "source": [
    "import shutil"
   ]
  },
  {
   "cell_type": "code",
   "execution_count": 68,
   "metadata": {},
   "outputs": [
    {
     "data": {
      "text/plain": [
       "'/home/kulwinder/Desktop/Portfolio/Python_Notes/Udemy_Python/Advnced_Python_module'"
      ]
     },
     "execution_count": 68,
     "metadata": {},
     "output_type": "execute_result"
    }
   ],
   "source": [
    "pwd"
   ]
  },
  {
   "cell_type": "code",
   "execution_count": 4,
   "metadata": {},
   "outputs": [],
   "source": [
    "directory_to_zip='/home/kulwinder/Desktop/Portfolio/Python_Notes/Udemy_Python/Advnced_Python_module/unzip_me_for_instructions.zip'"
   ]
  },
  {
   "cell_type": "code",
   "execution_count": 7,
   "metadata": {},
   "outputs": [],
   "source": [
    "# Extracting a zip archive\n",
    "# Notice how the parameter/argument order is slightly different here\n",
    "shutil.unpack_archive(\"unzip_me_for_instructions.zip\",'final_instructions','zip')"
   ]
  },
  {
   "cell_type": "markdown",
   "metadata": {},
   "source": [
    "Good work on unzipping the file!\n",
    "You should now see 5 folders, each with a lot of random .txt files.\n",
    "Within one of these text files is a telephone number formated ###-###-#### \n",
    "Use the Python os module and regular expressions to iterate through each file, open it, and search for a telephone number.\n",
    "Good luck!"
   ]
  },
  {
   "cell_type": "code",
   "execution_count": 11,
   "metadata": {},
   "outputs": [],
   "source": [
    "import os\n",
    "import re"
   ]
  },
  {
   "cell_type": "code",
   "execution_count": 12,
   "metadata": {},
   "outputs": [
    {
     "data": {
      "text/plain": [
       "['Four', 'One', 'Five', 'Instructions.txt', 'Two', 'Three']"
      ]
     },
     "execution_count": 12,
     "metadata": {},
     "output_type": "execute_result"
    }
   ],
   "source": [
    "os.listdir('final_instructions/extracted_content/')"
   ]
  },
  {
   "cell_type": "code",
   "execution_count": 14,
   "metadata": {},
   "outputs": [],
   "source": [
    "pattern = r'\\d{3}-\\d{3}-\\d{4}'"
   ]
  },
  {
   "cell_type": "markdown",
   "metadata": {},
   "source": [
    "If we open the file using open(), we have to close it manually.\n",
    "otherwise we can't read the file again.\n",
    "\n",
    "but withopen() we can read the file again it close the file automatically."
   ]
  },
  {
   "cell_type": "code",
   "execution_count": 19,
   "metadata": {},
   "outputs": [
    {
     "name": "stdout",
     "output_type": "stream",
     "text": [
      "Good work on unzipping the file!\n",
      "You should now see 5 folders, each with a lot of random .txt files.\n",
      "Within one of these text files is a telephone number formated ###-###-#### \n",
      "Use the Python os module and regular expressions to iterate through each file, open it, and search for a telephone number.\n",
      "Good luck!\n"
     ]
    }
   ],
   "source": [
    "file  = open('final_instructions/extracted_content/Instructions.txt','r')   \n",
    "text = file.read()\n",
    "print(text)"
   ]
  },
  {
   "cell_type": "code",
   "execution_count": 39,
   "metadata": {},
   "outputs": [
    {
     "name": "stdout",
     "output_type": "stream",
     "text": [
      "JEHBLZPUPSP.txt\n",
      "HDOHZHFSTTK.txt\n",
      "KNBSKDREHQU.txt\n",
      "PTOBBCJYURJ.txt\n",
      "PLYCGPVEAWO.txt\n",
      "HFUTPPAXDIS.txt\n",
      "PQNVCVJINAR.txt\n",
      "HMNZTLIFGPD.txt\n",
      "JQUOBKFUACN.txt\n",
      "KTXDHIOKAUI.txt\n",
      "HRQFTHKVJTL.txt\n",
      "JLTXKIGCWDL.txt\n",
      "LFEATJAAYDC.txt\n",
      "KCXGNQCZBLO.txt\n",
      "PHWAVPEKAER.txt\n",
      "JTHSNBNPQSE.txt\n",
      "KFIUZFERLET.txt\n",
      "LHODFIKVTQA.txt\n",
      "HVUTZEVMSBW.txt\n",
      "LDGOCUQJNNS.txt\n",
      "JDLRVFCXYLU.txt\n",
      "KMMLGJOWLGI.txt\n",
      "PDJMSMNKIRM.txt\n",
      "LPNDVDXPZIG.txt\n",
      "LIFDHOFKWOI.txt\n"
     ]
    }
   ],
   "source": [
    "for file in os.listdir('final_instructions/extracted_content/One'):\n",
    "    print(file)"
   ]
  },
  {
   "cell_type": "code",
   "execution_count": 43,
   "metadata": {},
   "outputs": [
    {
     "name": "stdout",
     "output_type": "stream",
     "text": [
      "Rhoncusmaecenas tellus voluptua nisised, viverra parturient tortor nullamauris iaculis diam consectetuer nihil.Fames eu.Magnis inceptos tortorcurabitur.Viverra lacinia fusce porttitor nullam.Nibh gubergren.Elitvivamus tempor curabitur duimauris placerat, feugiat porttitor liberoduis.Quis nostrud platea sollicitudin rutrum.Lacus telluspraesent eirmod.Quisaenean eos nequeetiam habitant leo nam, antesuspendisse parturient ultrices porta magna assum rutrum.Gubergren luptatum montes sociis in dignissim.Conguenulla enimsed pellentesque wisi imperdiet telluspraesent volutpat, metus sadipscing magnis fames ligula stet zzril.Habitant duo possim sollicitudin tincidunt qui fames, cum nequeetiam zzril clita nulla sagittis adipiscing nullasuspendisse.Magnis variuscras interdum vivamus, ridiculus muspellentesque purus faucibus integer mazim.Parturient vel.Wisi donec maurisaenean tempor semvestibulum et, aliquip blandit senectus nonumy sociis arcu taciti amet liberoduis.Urnapraesent risus magnapraesent vestibulumnulla dolores, nam enimaliquam mattis pulvinarvestibulum felis bibendum fermentum netus faucibusvestibulum.Exerci aliquyam sodales orci integer conguenulla sagittis urna, imperdiet vivamus vestibulum taciti nullam a purus.Mauris platea.Telluspraesent feliscras maecenas.Sagittis nullamauris tincidunt hac, esse neque ex possim himenaeos nonumy nulla tristique.Urna penatibus.Liberoduis nullamauris taciti parturient, sadipscing ut ultriciespellentesque.Leopraesent pellentesque antesuspendisse.Possim sagittis ipsum porttitor mi semper.Fermentum vel varius faucibus exerci, pulvinar velit semper condimentum nullam aptent ipsum adipiscing enimsed dictumst.Ultrices malesuadanullam varius ullamcorper nunc sociis.Malesuadanullam quis bibendumin cras.Possim consetetur.Zzril cras, assum feugiat metusdonec cubilia nonummy sem.Lectusnullam enimnulla elementum.Muspellentesque orci soluta, volutpat rutrum per nequeetiam sollicitudin sanctus.Accusam gravida senectus aliquip variuscras, eirmod quam fringilla ametduis fusce.Dolores, dui autem facilisisproin esse magna sea.Autem parturient soluta, sodalessed libero sedfusce cum lacus augue.Liber fusce soluta option litora consetetur, faucibus metus mollis penatibus potenti justocras.Amet eleifend fames leo.Leo soluta nullasuspendisse, consequatduis magnapraesent laoreetphasellus malesuadanullam.Magna nascetur malesuadanullam sapien tempor litora, vitae aptent nunccurabitur tellus metus id.A nisi variuscras mauris wisi sadipscing, nisl cras exerci nonumy mipellentesque interdum.Suscipit nunc nulla auctormauris magnis variuscras, sea imperdiet sed netus aliquammauris dolores malesuadanullam cras consecteturpraesent.Vivamus eum vero justocras laoreet, eirmod egestas interdumdonec habitant iusto sociis mauris faucibusvestibulum nec lobortis.Rhoncusmaecenas ametduis gubergren facilisicurabitur netus enim, convallis ultricies ad facilisis tortorvestibulum etiam primis iaculis vivamus.Tortorcurabitur vivamus nisl liber.Diaminteger per laoreetphasellus donec, eratproin fusce ipsumcurabitur vulputate.Sagittis accumsannulla enimaliquam odio liberoduis conguenulla, porttitor phasellus inceptos facilisis ornare purus sedfusce tation.Accumsan viverra lorem malesuadanullam diam.Elementum dolores velit autem ultrices voluptua, facilisisat phasellus sem proin hac labore dapibusnam rhoncus.Montes gubergren facilisis quis ante temporsuspendisse mollis, taciti elitduis nullasuspendisse amet gravida risusdonec himenaeos.Aliquyam mazim himenaeos dictumst soluta vero fusce, mauris sea at facilisicurabitur adipiscing.Quisque tristique vehicula phasellus.\n"
     ]
    }
   ],
   "source": [
    "with open('final_instructions/extracted_content/One/LIFDHOFKWOI.txt','r') as f:\n",
    "    print(f.read())\n"
   ]
  },
  {
   "cell_type": "code",
   "execution_count": 61,
   "metadata": {},
   "outputs": [
    {
     "name": "stdout",
     "output_type": "stream",
     "text": [
      "234-657-5432\n"
     ]
    }
   ],
   "source": [
    "pattern = r'\\d{3}-\\d{3}-\\d{4}'\n",
    "text = \"jhy234-657-5432\"\n",
    "phone = re.search(pattern,text)\n",
    "print(phone.group())"
   ]
  },
  {
   "cell_type": "markdown",
   "metadata": {},
   "source": [
    "We get error here because we not get phone in text so we can;t use group method"
   ]
  },
  {
   "cell_type": "code",
   "execution_count": 59,
   "metadata": {},
   "outputs": [
    {
     "ename": "AttributeError",
     "evalue": "'NoneType' object has no attribute 'group'",
     "output_type": "error",
     "traceback": [
      "\u001b[0;31m---------------------------------------------------------------------------\u001b[0m",
      "\u001b[0;31mAttributeError\u001b[0m                            Traceback (most recent call last)",
      "Cell \u001b[0;32mIn[59], line 4\u001b[0m\n\u001b[1;32m      2\u001b[0m text \u001b[39m=\u001b[39m \u001b[39m\"\u001b[39m\u001b[39mjhy234-657-542\u001b[39m\u001b[39m\"\u001b[39m\n\u001b[1;32m      3\u001b[0m phone \u001b[39m=\u001b[39m re\u001b[39m.\u001b[39msearch(pattern,text)\n\u001b[0;32m----> 4\u001b[0m \u001b[39mprint\u001b[39m(phone\u001b[39m.\u001b[39;49mgroup())\n",
      "\u001b[0;31mAttributeError\u001b[0m: 'NoneType' object has no attribute 'group'"
     ]
    }
   ],
   "source": [
    "pattern = r'\\d{3}-\\d{3}-\\d{4}'\n",
    "text = \"jhy234-657-542\"\n",
    "phone = re.search(pattern,text)\n",
    "print(phone.group())"
   ]
  },
  {
   "cell_type": "code",
   "execution_count": 63,
   "metadata": {},
   "outputs": [
    {
     "data": {
      "text/plain": [
       "False"
      ]
     },
     "execution_count": 63,
     "metadata": {},
     "output_type": "execute_result"
    }
   ],
   "source": [
    "None == False"
   ]
  },
  {
   "cell_type": "markdown",
   "metadata": {},
   "source": [
    "Here we not get ant output because we not get any phone number in text"
   ]
  },
  {
   "cell_type": "code",
   "execution_count": 64,
   "metadata": {},
   "outputs": [],
   "source": [
    "for file in os.listdir('final_instructions/extracted_content/One'):\n",
    "    with open(os.path.join('final_instructions/extracted_content/One', file),'r') as f:\n",
    "        text = f.read()\n",
    "        # print(text)\n",
    "        if re.search(pattern,text) is None:\n",
    "            pass\n",
    "        else:\n",
    "            print(re.search(pattern,text).group())"
   ]
  },
  {
   "cell_type": "code",
   "execution_count": 67,
   "metadata": {},
   "outputs": [
    {
     "name": "stdout",
     "output_type": "stream",
     "text": [
      "719-266-2837\n"
     ]
    }
   ],
   "source": [
    "for file in os.listdir('final_instructions/extracted_content/Four'):\n",
    "    with open(os.path.join('final_instructions/extracted_content/Four', file),'r') as f:\n",
    "        text = f.read()\n",
    "        # print(text)\n",
    "        if re.search(pattern,text) is None:\n",
    "            pass\n",
    "        else:\n",
    "            print(re.search(pattern,text).group())"
   ]
  },
  {
   "cell_type": "markdown",
   "metadata": {},
   "source": [
    "## Using glob to find files"
   ]
  },
  {
   "cell_type": "code",
   "execution_count": 70,
   "metadata": {},
   "outputs": [],
   "source": [
    "import glob"
   ]
  },
  {
   "cell_type": "code",
   "execution_count": 71,
   "metadata": {},
   "outputs": [
    {
     "data": {
      "text/plain": [
       "'/home/kulwinder/Desktop/Portfolio/Python_Notes/Udemy_Python/Advnced_Python_module'"
      ]
     },
     "execution_count": 71,
     "metadata": {},
     "output_type": "execute_result"
    }
   ],
   "source": [
    "pwd"
   ]
  },
  {
   "cell_type": "code",
   "execution_count": 75,
   "metadata": {},
   "outputs": [],
   "source": [
    "dir = '/home/kulwinder/Desktop/Portfolio/Python_Notes/Udemy_Python/Advnced_Python_module/final_instructions/extracted_content/'"
   ]
  },
  {
   "cell_type": "code",
   "execution_count": 78,
   "metadata": {},
   "outputs": [
    {
     "name": "stdout",
     "output_type": "stream",
     "text": [
      "/home/kulwinder/Desktop/Portfolio/Python_Notes/Udemy_Python/Advnced_Python_module/final_instructions/extracted_content/Instructions.txt\n"
     ]
    }
   ],
   "source": [
    "for files in glob.glob('/home/kulwinder/Desktop/Portfolio/Python_Notes/Udemy_Python/Advnced_Python_module/final_instructions/extracted_content/*.txt'):\n",
    "    print(files)"
   ]
  },
  {
   "cell_type": "code",
   "execution_count": 100,
   "metadata": {},
   "outputs": [
    {
     "name": "stdout",
     "output_type": "stream",
     "text": [
      "/home/kulwinder/Desktop/Portfolio/Python_Notes/Udemy_Python/Advnced_Python_module/final_instructions/extracted_content/Four/EPRNUHRSESC.txt\n",
      "/home/kulwinder/Desktop/Portfolio/Python_Notes/Udemy_Python/Advnced_Python_module/final_instructions/extracted_content/Four/EMTGPSXQEJX.txt\n",
      "/home/kulwinder/Desktop/Portfolio/Python_Notes/Udemy_Python/Advnced_Python_module/final_instructions/extracted_content/Four/TJFMLJODVAD.txt\n",
      "/home/kulwinder/Desktop/Portfolio/Python_Notes/Udemy_Python/Advnced_Python_module/final_instructions/extracted_content/Four/QCWCFLKNZMN.txt\n",
      "/home/kulwinder/Desktop/Portfolio/Python_Notes/Udemy_Python/Advnced_Python_module/final_instructions/extracted_content/Four/TAKNAVDMZKV.txt\n",
      "/home/kulwinder/Desktop/Portfolio/Python_Notes/Udemy_Python/Advnced_Python_module/final_instructions/extracted_content/Four/WFSKPTXPFCH.txt\n",
      "/home/kulwinder/Desktop/Portfolio/Python_Notes/Udemy_Python/Advnced_Python_module/final_instructions/extracted_content/Four/EXVQSVBQQQH.txt\n",
      "/home/kulwinder/Desktop/Portfolio/Python_Notes/Udemy_Python/Advnced_Python_module/final_instructions/extracted_content/Four/THPNEGKTJWI.txt\n",
      "/home/kulwinder/Desktop/Portfolio/Python_Notes/Udemy_Python/Advnced_Python_module/final_instructions/extracted_content/Four/QTDYYIFPHAU.txt\n",
      "/home/kulwinder/Desktop/Portfolio/Python_Notes/Udemy_Python/Advnced_Python_module/final_instructions/extracted_content/Four/WXDJDOGZEHN.txt\n",
      "/home/kulwinder/Desktop/Portfolio/Python_Notes/Udemy_Python/Advnced_Python_module/final_instructions/extracted_content/Four/QVNJULGXNUM.txt\n",
      "/home/kulwinder/Desktop/Portfolio/Python_Notes/Udemy_Python/Advnced_Python_module/final_instructions/extracted_content/Four/WNJISWPEBRS.txt\n",
      "/home/kulwinder/Desktop/Portfolio/Python_Notes/Udemy_Python/Advnced_Python_module/final_instructions/extracted_content/Four/WHTOHQUWXIN.txt\n",
      "/home/kulwinder/Desktop/Portfolio/Python_Notes/Udemy_Python/Advnced_Python_module/final_instructions/extracted_content/Four/REAXWSOIQDY.txt\n",
      "/home/kulwinder/Desktop/Portfolio/Python_Notes/Udemy_Python/Advnced_Python_module/final_instructions/extracted_content/Four/ROICPTWKXDX.txt\n",
      "/home/kulwinder/Desktop/Portfolio/Python_Notes/Udemy_Python/Advnced_Python_module/final_instructions/extracted_content/Four/QCTCKDIBBVG.txt\n",
      "/home/kulwinder/Desktop/Portfolio/Python_Notes/Udemy_Python/Advnced_Python_module/final_instructions/extracted_content/Four/RXDARIDGKBF.txt\n",
      "/home/kulwinder/Desktop/Portfolio/Python_Notes/Udemy_Python/Advnced_Python_module/final_instructions/extracted_content/Four/ESDIZXHYCVY.txt\n",
      "/home/kulwinder/Desktop/Portfolio/Python_Notes/Udemy_Python/Advnced_Python_module/final_instructions/extracted_content/Four/QDDETWBHJYC.txt\n",
      "/home/kulwinder/Desktop/Portfolio/Python_Notes/Udemy_Python/Advnced_Python_module/final_instructions/extracted_content/Four/ECIOBYCDVFI.txt\n",
      "/home/kulwinder/Desktop/Portfolio/Python_Notes/Udemy_Python/Advnced_Python_module/final_instructions/extracted_content/Four/TKCZSFQNJTX.txt\n",
      "/home/kulwinder/Desktop/Portfolio/Python_Notes/Udemy_Python/Advnced_Python_module/final_instructions/extracted_content/Four/WYDLGSGGXKV.txt\n",
      "/home/kulwinder/Desktop/Portfolio/Python_Notes/Udemy_Python/Advnced_Python_module/final_instructions/extracted_content/Four/RSXOTNGKBML.txt\n",
      "/home/kulwinder/Desktop/Portfolio/Python_Notes/Udemy_Python/Advnced_Python_module/final_instructions/extracted_content/Four/TWUOYFCCYBQ.txt\n",
      "/home/kulwinder/Desktop/Portfolio/Python_Notes/Udemy_Python/Advnced_Python_module/final_instructions/extracted_content/Four/RYNXFYXMKHG.txt\n",
      "/home/kulwinder/Desktop/Portfolio/Python_Notes/Udemy_Python/Advnced_Python_module/final_instructions/extracted_content/One/JEHBLZPUPSP.txt\n",
      "/home/kulwinder/Desktop/Portfolio/Python_Notes/Udemy_Python/Advnced_Python_module/final_instructions/extracted_content/One/HDOHZHFSTTK.txt\n",
      "/home/kulwinder/Desktop/Portfolio/Python_Notes/Udemy_Python/Advnced_Python_module/final_instructions/extracted_content/One/KNBSKDREHQU.txt\n",
      "/home/kulwinder/Desktop/Portfolio/Python_Notes/Udemy_Python/Advnced_Python_module/final_instructions/extracted_content/One/PTOBBCJYURJ.txt\n",
      "/home/kulwinder/Desktop/Portfolio/Python_Notes/Udemy_Python/Advnced_Python_module/final_instructions/extracted_content/One/PLYCGPVEAWO.txt\n",
      "/home/kulwinder/Desktop/Portfolio/Python_Notes/Udemy_Python/Advnced_Python_module/final_instructions/extracted_content/One/HFUTPPAXDIS.txt\n",
      "/home/kulwinder/Desktop/Portfolio/Python_Notes/Udemy_Python/Advnced_Python_module/final_instructions/extracted_content/One/PQNVCVJINAR.txt\n",
      "/home/kulwinder/Desktop/Portfolio/Python_Notes/Udemy_Python/Advnced_Python_module/final_instructions/extracted_content/One/HMNZTLIFGPD.txt\n",
      "/home/kulwinder/Desktop/Portfolio/Python_Notes/Udemy_Python/Advnced_Python_module/final_instructions/extracted_content/One/JQUOBKFUACN.txt\n",
      "/home/kulwinder/Desktop/Portfolio/Python_Notes/Udemy_Python/Advnced_Python_module/final_instructions/extracted_content/One/KTXDHIOKAUI.txt\n",
      "/home/kulwinder/Desktop/Portfolio/Python_Notes/Udemy_Python/Advnced_Python_module/final_instructions/extracted_content/One/HRQFTHKVJTL.txt\n",
      "/home/kulwinder/Desktop/Portfolio/Python_Notes/Udemy_Python/Advnced_Python_module/final_instructions/extracted_content/One/JLTXKIGCWDL.txt\n",
      "/home/kulwinder/Desktop/Portfolio/Python_Notes/Udemy_Python/Advnced_Python_module/final_instructions/extracted_content/One/LFEATJAAYDC.txt\n",
      "/home/kulwinder/Desktop/Portfolio/Python_Notes/Udemy_Python/Advnced_Python_module/final_instructions/extracted_content/One/KCXGNQCZBLO.txt\n",
      "/home/kulwinder/Desktop/Portfolio/Python_Notes/Udemy_Python/Advnced_Python_module/final_instructions/extracted_content/One/PHWAVPEKAER.txt\n",
      "/home/kulwinder/Desktop/Portfolio/Python_Notes/Udemy_Python/Advnced_Python_module/final_instructions/extracted_content/One/JTHSNBNPQSE.txt\n",
      "/home/kulwinder/Desktop/Portfolio/Python_Notes/Udemy_Python/Advnced_Python_module/final_instructions/extracted_content/One/KFIUZFERLET.txt\n",
      "/home/kulwinder/Desktop/Portfolio/Python_Notes/Udemy_Python/Advnced_Python_module/final_instructions/extracted_content/One/LHODFIKVTQA.txt\n",
      "/home/kulwinder/Desktop/Portfolio/Python_Notes/Udemy_Python/Advnced_Python_module/final_instructions/extracted_content/One/HVUTZEVMSBW.txt\n",
      "/home/kulwinder/Desktop/Portfolio/Python_Notes/Udemy_Python/Advnced_Python_module/final_instructions/extracted_content/One/LDGOCUQJNNS.txt\n",
      "/home/kulwinder/Desktop/Portfolio/Python_Notes/Udemy_Python/Advnced_Python_module/final_instructions/extracted_content/One/JDLRVFCXYLU.txt\n",
      "/home/kulwinder/Desktop/Portfolio/Python_Notes/Udemy_Python/Advnced_Python_module/final_instructions/extracted_content/One/KMMLGJOWLGI.txt\n",
      "/home/kulwinder/Desktop/Portfolio/Python_Notes/Udemy_Python/Advnced_Python_module/final_instructions/extracted_content/One/PDJMSMNKIRM.txt\n",
      "/home/kulwinder/Desktop/Portfolio/Python_Notes/Udemy_Python/Advnced_Python_module/final_instructions/extracted_content/One/LPNDVDXPZIG.txt\n",
      "/home/kulwinder/Desktop/Portfolio/Python_Notes/Udemy_Python/Advnced_Python_module/final_instructions/extracted_content/One/LIFDHOFKWOI.txt\n",
      "/home/kulwinder/Desktop/Portfolio/Python_Notes/Udemy_Python/Advnced_Python_module/final_instructions/extracted_content/Five/EAAOEPSAWMQ.txt\n",
      "/home/kulwinder/Desktop/Portfolio/Python_Notes/Udemy_Python/Advnced_Python_module/final_instructions/extracted_content/Five/ARLKFCWIAJE.txt\n",
      "/home/kulwinder/Desktop/Portfolio/Python_Notes/Udemy_Python/Advnced_Python_module/final_instructions/extracted_content/Five/ESIZWBHMGDP.txt\n",
      "/home/kulwinder/Desktop/Portfolio/Python_Notes/Udemy_Python/Advnced_Python_module/final_instructions/extracted_content/Five/BTYWAHLHKBM.txt\n",
      "/home/kulwinder/Desktop/Portfolio/Python_Notes/Udemy_Python/Advnced_Python_module/final_instructions/extracted_content/Five/AQKATDFGXTS.txt\n",
      "/home/kulwinder/Desktop/Portfolio/Python_Notes/Udemy_Python/Advnced_Python_module/final_instructions/extracted_content/Five/BSKJDRNEZQM.txt\n",
      "/home/kulwinder/Desktop/Portfolio/Python_Notes/Udemy_Python/Advnced_Python_module/final_instructions/extracted_content/Five/AXJGVPVEFAS.txt\n",
      "/home/kulwinder/Desktop/Portfolio/Python_Notes/Udemy_Python/Advnced_Python_module/final_instructions/extracted_content/Five/APJKSRITGGX.txt\n",
      "/home/kulwinder/Desktop/Portfolio/Python_Notes/Udemy_Python/Advnced_Python_module/final_instructions/extracted_content/Five/BVBURZZCAPR.txt\n",
      "/home/kulwinder/Desktop/Portfolio/Python_Notes/Udemy_Python/Advnced_Python_module/final_instructions/extracted_content/Five/DYOPIIVMZOO.txt\n",
      "/home/kulwinder/Desktop/Portfolio/Python_Notes/Udemy_Python/Advnced_Python_module/final_instructions/extracted_content/Five/DZUWWXYIAEL.txt\n",
      "/home/kulwinder/Desktop/Portfolio/Python_Notes/Udemy_Python/Advnced_Python_module/final_instructions/extracted_content/Five/BNUQEHCFRTG.txt\n",
      "/home/kulwinder/Desktop/Portfolio/Python_Notes/Udemy_Python/Advnced_Python_module/final_instructions/extracted_content/Five/AEITMYIRQLP.txt\n",
      "/home/kulwinder/Desktop/Portfolio/Python_Notes/Udemy_Python/Advnced_Python_module/final_instructions/extracted_content/Five/BUGKBZWRRVI.txt\n",
      "/home/kulwinder/Desktop/Portfolio/Python_Notes/Udemy_Python/Advnced_Python_module/final_instructions/extracted_content/Five/DHZBAAYEADM.txt\n",
      "/home/kulwinder/Desktop/Portfolio/Python_Notes/Udemy_Python/Advnced_Python_module/final_instructions/extracted_content/Five/DDLASODUVPX.txt\n",
      "/home/kulwinder/Desktop/Portfolio/Python_Notes/Udemy_Python/Advnced_Python_module/final_instructions/extracted_content/Five/EIPWXMQZJKU.txt\n",
      "/home/kulwinder/Desktop/Portfolio/Python_Notes/Udemy_Python/Advnced_Python_module/final_instructions/extracted_content/Five/EYTCGIOYWIW.txt\n",
      "/home/kulwinder/Desktop/Portfolio/Python_Notes/Udemy_Python/Advnced_Python_module/final_instructions/extracted_content/Five/CRFSDGYFSHA.txt\n",
      "/home/kulwinder/Desktop/Portfolio/Python_Notes/Udemy_Python/Advnced_Python_module/final_instructions/extracted_content/Five/COMGMZBJAYE.txt\n",
      "/home/kulwinder/Desktop/Portfolio/Python_Notes/Udemy_Python/Advnced_Python_module/final_instructions/extracted_content/Five/DQPZQLBCJYP.txt\n",
      "/home/kulwinder/Desktop/Portfolio/Python_Notes/Udemy_Python/Advnced_Python_module/final_instructions/extracted_content/Five/CSCLFZCDYYC.txt\n",
      "/home/kulwinder/Desktop/Portfolio/Python_Notes/Udemy_Python/Advnced_Python_module/final_instructions/extracted_content/Five/CXBVCTRBBIE.txt\n",
      "/home/kulwinder/Desktop/Portfolio/Python_Notes/Udemy_Python/Advnced_Python_module/final_instructions/extracted_content/Five/ETCUEXWNBCF.txt\n",
      "/home/kulwinder/Desktop/Portfolio/Python_Notes/Udemy_Python/Advnced_Python_module/final_instructions/extracted_content/Five/CAHBEVSVDDN.txt\n",
      "/home/kulwinder/Desktop/Portfolio/Python_Notes/Udemy_Python/Advnced_Python_module/final_instructions/extracted_content/Two/GQTJJORZBXY.txt\n",
      "/home/kulwinder/Desktop/Portfolio/Python_Notes/Udemy_Python/Advnced_Python_module/final_instructions/extracted_content/Two/SOFUJYXTIMK.txt\n",
      "/home/kulwinder/Desktop/Portfolio/Python_Notes/Udemy_Python/Advnced_Python_module/final_instructions/extracted_content/Two/SJMJLDGPBSJ.txt\n",
      "/home/kulwinder/Desktop/Portfolio/Python_Notes/Udemy_Python/Advnced_Python_module/final_instructions/extracted_content/Two/OHZOUOSFJQC.txt\n",
      "/home/kulwinder/Desktop/Portfolio/Python_Notes/Udemy_Python/Advnced_Python_module/final_instructions/extracted_content/Two/OKWFOOYTXFU.txt\n",
      "/home/kulwinder/Desktop/Portfolio/Python_Notes/Udemy_Python/Advnced_Python_module/final_instructions/extracted_content/Two/LULTNYAQEJG.txt\n",
      "/home/kulwinder/Desktop/Portfolio/Python_Notes/Udemy_Python/Advnced_Python_module/final_instructions/extracted_content/Two/HTOHSTYXTCO.txt\n",
      "/home/kulwinder/Desktop/Portfolio/Python_Notes/Udemy_Python/Advnced_Python_module/final_instructions/extracted_content/Two/SWOFXREEHWA.txt\n",
      "/home/kulwinder/Desktop/Portfolio/Python_Notes/Udemy_Python/Advnced_Python_module/final_instructions/extracted_content/Two/LVMBINRBJXL.txt\n",
      "/home/kulwinder/Desktop/Portfolio/Python_Notes/Udemy_Python/Advnced_Python_module/final_instructions/extracted_content/Two/GKQBQRCTNNK.txt\n",
      "/home/kulwinder/Desktop/Portfolio/Python_Notes/Udemy_Python/Advnced_Python_module/final_instructions/extracted_content/Two/HMZXPBOPRAE.txt\n",
      "/home/kulwinder/Desktop/Portfolio/Python_Notes/Udemy_Python/Advnced_Python_module/final_instructions/extracted_content/Two/OIHMLGMWTHL.txt\n",
      "/home/kulwinder/Desktop/Portfolio/Python_Notes/Udemy_Python/Advnced_Python_module/final_instructions/extracted_content/Two/OYMAGXAGWHJ.txt\n",
      "/home/kulwinder/Desktop/Portfolio/Python_Notes/Udemy_Python/Advnced_Python_module/final_instructions/extracted_content/Two/HMUTDOVNYTV.txt\n",
      "/home/kulwinder/Desktop/Portfolio/Python_Notes/Udemy_Python/Advnced_Python_module/final_instructions/extracted_content/Two/GXYSEPAFRTP.txt\n",
      "/home/kulwinder/Desktop/Portfolio/Python_Notes/Udemy_Python/Advnced_Python_module/final_instructions/extracted_content/Two/LCJZYDHBFRM.txt\n",
      "/home/kulwinder/Desktop/Portfolio/Python_Notes/Udemy_Python/Advnced_Python_module/final_instructions/extracted_content/Two/SPDZYGDHEWO.txt\n",
      "/home/kulwinder/Desktop/Portfolio/Python_Notes/Udemy_Python/Advnced_Python_module/final_instructions/extracted_content/Two/HARDNJGDRBC.txt\n",
      "/home/kulwinder/Desktop/Portfolio/Python_Notes/Udemy_Python/Advnced_Python_module/final_instructions/extracted_content/Two/GMMQQUBMJNR.txt\n",
      "/home/kulwinder/Desktop/Portfolio/Python_Notes/Udemy_Python/Advnced_Python_module/final_instructions/extracted_content/Two/OMWIMVRCMYM.txt\n",
      "/home/kulwinder/Desktop/Portfolio/Python_Notes/Udemy_Python/Advnced_Python_module/final_instructions/extracted_content/Two/LSQSTGPIGIY.txt\n",
      "/home/kulwinder/Desktop/Portfolio/Python_Notes/Udemy_Python/Advnced_Python_module/final_instructions/extracted_content/Two/LYZEQCVYNEZ.txt\n",
      "/home/kulwinder/Desktop/Portfolio/Python_Notes/Udemy_Python/Advnced_Python_module/final_instructions/extracted_content/Two/HEORIXOTANT.txt\n",
      "/home/kulwinder/Desktop/Portfolio/Python_Notes/Udemy_Python/Advnced_Python_module/final_instructions/extracted_content/Two/SIKFPPLCJDN.txt\n",
      "/home/kulwinder/Desktop/Portfolio/Python_Notes/Udemy_Python/Advnced_Python_module/final_instructions/extracted_content/Two/GTOTCIWMDBY.txt\n",
      "/home/kulwinder/Desktop/Portfolio/Python_Notes/Udemy_Python/Advnced_Python_module/final_instructions/extracted_content/Three/YCESZHJDBXH.txt\n",
      "/home/kulwinder/Desktop/Portfolio/Python_Notes/Udemy_Python/Advnced_Python_module/final_instructions/extracted_content/Three/XAJMCPEWFNI.txt\n",
      "/home/kulwinder/Desktop/Portfolio/Python_Notes/Udemy_Python/Advnced_Python_module/final_instructions/extracted_content/Three/ZKQJXAYKPVD.txt\n",
      "/home/kulwinder/Desktop/Portfolio/Python_Notes/Udemy_Python/Advnced_Python_module/final_instructions/extracted_content/Three/ZXIBJMPROKW.txt\n",
      "/home/kulwinder/Desktop/Portfolio/Python_Notes/Udemy_Python/Advnced_Python_module/final_instructions/extracted_content/Three/XJCWENFFGHB.txt\n",
      "/home/kulwinder/Desktop/Portfolio/Python_Notes/Udemy_Python/Advnced_Python_module/final_instructions/extracted_content/Three/VVKGWLRMHLU.txt\n",
      "/home/kulwinder/Desktop/Portfolio/Python_Notes/Udemy_Python/Advnced_Python_module/final_instructions/extracted_content/Three/YQBIUHSUEVW.txt\n",
      "/home/kulwinder/Desktop/Portfolio/Python_Notes/Udemy_Python/Advnced_Python_module/final_instructions/extracted_content/Three/VSXFSTABZDY.txt\n",
      "/home/kulwinder/Desktop/Portfolio/Python_Notes/Udemy_Python/Advnced_Python_module/final_instructions/extracted_content/Three/VVHFVZUNLOO.txt\n",
      "/home/kulwinder/Desktop/Portfolio/Python_Notes/Udemy_Python/Advnced_Python_module/final_instructions/extracted_content/Three/ZOWVXWPOGWP.txt\n",
      "/home/kulwinder/Desktop/Portfolio/Python_Notes/Udemy_Python/Advnced_Python_module/final_instructions/extracted_content/Three/YQRNCMNFFHW.txt\n",
      "/home/kulwinder/Desktop/Portfolio/Python_Notes/Udemy_Python/Advnced_Python_module/final_instructions/extracted_content/Three/ZEZKKRBIZEB.txt\n",
      "/home/kulwinder/Desktop/Portfolio/Python_Notes/Udemy_Python/Advnced_Python_module/final_instructions/extracted_content/Three/YDQFMWXOUMW.txt\n",
      "/home/kulwinder/Desktop/Portfolio/Python_Notes/Udemy_Python/Advnced_Python_module/final_instructions/extracted_content/Three/XFHJOTNPEJG.txt\n",
      "/home/kulwinder/Desktop/Portfolio/Python_Notes/Udemy_Python/Advnced_Python_module/final_instructions/extracted_content/Three/VAQIJTDOFUJ.txt\n",
      "/home/kulwinder/Desktop/Portfolio/Python_Notes/Udemy_Python/Advnced_Python_module/final_instructions/extracted_content/Three/XVMPVSVYKFR.txt\n",
      "/home/kulwinder/Desktop/Portfolio/Python_Notes/Udemy_Python/Advnced_Python_module/final_instructions/extracted_content/Three/ZXEZRQXZNPG.txt\n",
      "/home/kulwinder/Desktop/Portfolio/Python_Notes/Udemy_Python/Advnced_Python_module/final_instructions/extracted_content/Three/YYIZGBTQHZP.txt\n",
      "/home/kulwinder/Desktop/Portfolio/Python_Notes/Udemy_Python/Advnced_Python_module/final_instructions/extracted_content/Three/XHZPVUQTXIO.txt\n",
      "/home/kulwinder/Desktop/Portfolio/Python_Notes/Udemy_Python/Advnced_Python_module/final_instructions/extracted_content/Three/VCFJCGJFBIH.txt\n"
     ]
    }
   ],
   "source": [
    "for files in glob.glob('/home/kulwinder/Desktop/Portfolio/Python_Notes/Udemy_Python/Advnced_Python_module/final_instructions/extracted_content/*/*.txt'):\n",
    "    print(files)"
   ]
  },
  {
   "cell_type": "code",
   "execution_count": 85,
   "metadata": {},
   "outputs": [
    {
     "name": "stdout",
     "output_type": "stream",
     "text": [
      "/home/kulwinder/Desktop/Portfolio/Python_Notes/Udemy_Python/Advnced_Python_module\n"
     ]
    }
   ],
   "source": [
    "!pwd"
   ]
  },
  {
   "cell_type": "code",
   "execution_count": 86,
   "metadata": {},
   "outputs": [
    {
     "name": "stdout",
     "output_type": "stream",
     "text": [
      "final_instructions/extracted_content/Instructions.txt\n"
     ]
    }
   ],
   "source": [
    "for file_path in glob.glob('final_instructions/extracted_content/*.txt'):\n",
    "    print(file_path)"
   ]
  },
  {
   "cell_type": "code",
   "execution_count": 89,
   "metadata": {},
   "outputs": [
    {
     "name": "stdout",
     "output_type": "stream",
     "text": [
      "719-266-2837\n"
     ]
    }
   ],
   "source": [
    "for file_path in glob.glob('final_instructions/extracted_content/*/*.txt'):\n",
    "    with open(file_path,'r') as f:\n",
    "        text = f.read()\n",
    "        # print(text)\n",
    "        if re.search(pattern,text) is None:\n",
    "            pass\n",
    "        else:\n",
    "            print(re.search(pattern,text).group())\n",
    "            break\n",
    "        "
   ]
  },
  {
   "cell_type": "markdown",
   "metadata": {},
   "source": [
    "## Using os to find files"
   ]
  },
  {
   "cell_type": "markdown",
   "metadata": {},
   "source": [
    "Using os.walk() we can get all the files in the directory"
   ]
  },
  {
   "cell_type": "code",
   "execution_count": 98,
   "metadata": {},
   "outputs": [],
   "source": [
    "dirpath=\"/home/kulwinder/Desktop/Portfolio/Python_Notes/Udemy_Python/Advnced_Python_module\""
   ]
  },
  {
   "cell_type": "code",
   "execution_count": 110,
   "metadata": {},
   "outputs": [
    {
     "name": "stdout",
     "output_type": "stream",
     "text": [
      "final_instructions\n",
      "final_instructions/extracted_content\n",
      "719-266-2837\n",
      "final_instructions/extracted_content/Four\n",
      "719-266-2837\n",
      "final_instructions/extracted_content/One\n",
      "719-266-2837\n",
      "final_instructions/extracted_content/Five\n",
      "719-266-2837\n",
      "final_instructions/extracted_content/Two\n",
      "719-266-2837\n",
      "final_instructions/extracted_content/Three\n",
      "719-266-2837\n",
      "6\n"
     ]
    }
   ],
   "source": [
    "i=0\n",
    "for folder , sub_folders , files in os.walk(\"final_instructions\"): \n",
    "    print(folder)\n",
    "    for filename in files:\n",
    "        i+=1\n",
    "        fname = os.path.join(folder,filename)\n",
    "        if fname.endswith('.txt'):\n",
    "            with open(file_path,'r') as f:\n",
    "                text = f.read()\n",
    "                # print(text)\n",
    "                if re.search(pattern,text) is None:\n",
    "                    pass\n",
    "                else:\n",
    "                    print(re.search(pattern,text).group())\n",
    "                    break\n",
    "print(i)    "
   ]
  },
  {
   "cell_type": "code",
   "execution_count": 111,
   "metadata": {},
   "outputs": [
    {
     "name": "stdout",
     "output_type": "stream",
     "text": [
      "121\n"
     ]
    }
   ],
   "source": [
    "i = 0\n",
    "for folder , sub_folders , files in os.walk(\"final_instructions\"): \n",
    "  for filename in files:\n",
    "    i+=1\n",
    "    fname = os.path.join(folder,filename)\n",
    "    if fname.endswith('.txt'):\n",
    "      # print(fname)\n",
    "      pass\n",
    "print(i)"
   ]
  },
  {
   "cell_type": "code",
   "execution_count": 90,
   "metadata": {},
   "outputs": [
    {
     "name": "stdout",
     "output_type": "stream",
     "text": [
      "Currently looking at folder: final_instructions\n",
      "\n",
      "\n",
      "THE SUBFOLDERS ARE: \n",
      "\t Subfolder: extracted_content\n",
      "\n",
      "\n",
      "THE FILES ARE: \n",
      "\n",
      "\n",
      "Currently looking at folder: final_instructions/extracted_content\n",
      "\n",
      "\n",
      "THE SUBFOLDERS ARE: \n",
      "\t Subfolder: Four\n",
      "\t Subfolder: One\n",
      "\t Subfolder: Five\n",
      "\t Subfolder: Two\n",
      "\t Subfolder: Three\n",
      "\n",
      "\n",
      "THE FILES ARE: \n",
      "\t File: Instructions.txt\n",
      "\n",
      "\n",
      "Currently looking at folder: final_instructions/extracted_content/Four\n",
      "\n",
      "\n",
      "THE SUBFOLDERS ARE: \n",
      "\n",
      "\n",
      "THE FILES ARE: \n",
      "\t File: EPRNUHRSESC.txt\n",
      "\t File: EMTGPSXQEJX.txt\n",
      "\t File: TJFMLJODVAD.txt\n",
      "\t File: QCWCFLKNZMN.txt\n",
      "\t File: TAKNAVDMZKV.txt\n",
      "\t File: WFSKPTXPFCH.txt\n",
      "\t File: EXVQSVBQQQH.txt\n",
      "\t File: THPNEGKTJWI.txt\n",
      "\t File: QTDYYIFPHAU.txt\n",
      "\t File: WXDJDOGZEHN.txt\n",
      "\t File: QVNJULGXNUM.txt\n",
      "\t File: WNJISWPEBRS.txt\n",
      "\t File: WHTOHQUWXIN.txt\n",
      "\t File: REAXWSOIQDY.txt\n",
      "\t File: ROICPTWKXDX.txt\n",
      "\t File: QCTCKDIBBVG.txt\n",
      "\t File: RXDARIDGKBF.txt\n",
      "\t File: ESDIZXHYCVY.txt\n",
      "\t File: QDDETWBHJYC.txt\n",
      "\t File: ECIOBYCDVFI.txt\n",
      "\t File: TKCZSFQNJTX.txt\n",
      "\t File: WYDLGSGGXKV.txt\n",
      "\t File: RSXOTNGKBML.txt\n",
      "\t File: TWUOYFCCYBQ.txt\n",
      "\t File: RYNXFYXMKHG.txt\n",
      "\n",
      "\n",
      "Currently looking at folder: final_instructions/extracted_content/One\n",
      "\n",
      "\n",
      "THE SUBFOLDERS ARE: \n",
      "\n",
      "\n",
      "THE FILES ARE: \n",
      "\t File: JEHBLZPUPSP.txt\n",
      "\t File: HDOHZHFSTTK.txt\n",
      "\t File: KNBSKDREHQU.txt\n",
      "\t File: PTOBBCJYURJ.txt\n",
      "\t File: PLYCGPVEAWO.txt\n",
      "\t File: HFUTPPAXDIS.txt\n",
      "\t File: PQNVCVJINAR.txt\n",
      "\t File: HMNZTLIFGPD.txt\n",
      "\t File: JQUOBKFUACN.txt\n",
      "\t File: KTXDHIOKAUI.txt\n",
      "\t File: HRQFTHKVJTL.txt\n",
      "\t File: JLTXKIGCWDL.txt\n",
      "\t File: LFEATJAAYDC.txt\n",
      "\t File: KCXGNQCZBLO.txt\n",
      "\t File: PHWAVPEKAER.txt\n",
      "\t File: JTHSNBNPQSE.txt\n",
      "\t File: KFIUZFERLET.txt\n",
      "\t File: LHODFIKVTQA.txt\n",
      "\t File: HVUTZEVMSBW.txt\n",
      "\t File: LDGOCUQJNNS.txt\n",
      "\t File: JDLRVFCXYLU.txt\n",
      "\t File: KMMLGJOWLGI.txt\n",
      "\t File: PDJMSMNKIRM.txt\n",
      "\t File: LPNDVDXPZIG.txt\n",
      "\t File: LIFDHOFKWOI.txt\n",
      "\n",
      "\n",
      "Currently looking at folder: final_instructions/extracted_content/Five\n",
      "\n",
      "\n",
      "THE SUBFOLDERS ARE: \n",
      "\n",
      "\n",
      "THE FILES ARE: \n",
      "\t File: EAAOEPSAWMQ.txt\n",
      "\t File: ARLKFCWIAJE.txt\n",
      "\t File: ESIZWBHMGDP.txt\n",
      "\t File: BTYWAHLHKBM.txt\n",
      "\t File: AQKATDFGXTS.txt\n",
      "\t File: BSKJDRNEZQM.txt\n",
      "\t File: AXJGVPVEFAS.txt\n",
      "\t File: APJKSRITGGX.txt\n",
      "\t File: BVBURZZCAPR.txt\n",
      "\t File: DYOPIIVMZOO.txt\n",
      "\t File: DZUWWXYIAEL.txt\n",
      "\t File: BNUQEHCFRTG.txt\n",
      "\t File: AEITMYIRQLP.txt\n",
      "\t File: BUGKBZWRRVI.txt\n",
      "\t File: DHZBAAYEADM.txt\n",
      "\t File: DDLASODUVPX.txt\n",
      "\t File: EIPWXMQZJKU.txt\n",
      "\t File: EYTCGIOYWIW.txt\n",
      "\t File: CRFSDGYFSHA.txt\n",
      "\t File: COMGMZBJAYE.txt\n",
      "\t File: DQPZQLBCJYP.txt\n",
      "\t File: CSCLFZCDYYC.txt\n",
      "\t File: CXBVCTRBBIE.txt\n",
      "\t File: ETCUEXWNBCF.txt\n",
      "\t File: CAHBEVSVDDN.txt\n",
      "\n",
      "\n",
      "Currently looking at folder: final_instructions/extracted_content/Two\n",
      "\n",
      "\n",
      "THE SUBFOLDERS ARE: \n",
      "\n",
      "\n",
      "THE FILES ARE: \n",
      "\t File: GQTJJORZBXY.txt\n",
      "\t File: SOFUJYXTIMK.txt\n",
      "\t File: SJMJLDGPBSJ.txt\n",
      "\t File: OHZOUOSFJQC.txt\n",
      "\t File: OKWFOOYTXFU.txt\n",
      "\t File: LULTNYAQEJG.txt\n",
      "\t File: HTOHSTYXTCO.txt\n",
      "\t File: SWOFXREEHWA.txt\n",
      "\t File: LVMBINRBJXL.txt\n",
      "\t File: GKQBQRCTNNK.txt\n",
      "\t File: HMZXPBOPRAE.txt\n",
      "\t File: OIHMLGMWTHL.txt\n",
      "\t File: OYMAGXAGWHJ.txt\n",
      "\t File: HMUTDOVNYTV.txt\n",
      "\t File: GXYSEPAFRTP.txt\n",
      "\t File: LCJZYDHBFRM.txt\n",
      "\t File: SPDZYGDHEWO.txt\n",
      "\t File: HARDNJGDRBC.txt\n",
      "\t File: GMMQQUBMJNR.txt\n",
      "\t File: OMWIMVRCMYM.txt\n",
      "\t File: LSQSTGPIGIY.txt\n",
      "\t File: LYZEQCVYNEZ.txt\n",
      "\t File: HEORIXOTANT.txt\n",
      "\t File: SIKFPPLCJDN.txt\n",
      "\t File: GTOTCIWMDBY.txt\n",
      "\n",
      "\n",
      "Currently looking at folder: final_instructions/extracted_content/Three\n",
      "\n",
      "\n",
      "THE SUBFOLDERS ARE: \n",
      "\n",
      "\n",
      "THE FILES ARE: \n",
      "\t File: YCESZHJDBXH.txt\n",
      "\t File: XAJMCPEWFNI.txt\n",
      "\t File: ZKQJXAYKPVD.txt\n",
      "\t File: ZXIBJMPROKW.txt\n",
      "\t File: XJCWENFFGHB.txt\n",
      "\t File: VVKGWLRMHLU.txt\n",
      "\t File: YQBIUHSUEVW.txt\n",
      "\t File: VSXFSTABZDY.txt\n",
      "\t File: VVHFVZUNLOO.txt\n",
      "\t File: ZOWVXWPOGWP.txt\n",
      "\t File: YQRNCMNFFHW.txt\n",
      "\t File: ZEZKKRBIZEB.txt\n",
      "\t File: YDQFMWXOUMW.txt\n",
      "\t File: XFHJOTNPEJG.txt\n",
      "\t File: VAQIJTDOFUJ.txt\n",
      "\t File: XVMPVSVYKFR.txt\n",
      "\t File: ZXEZRQXZNPG.txt\n",
      "\t File: YYIZGBTQHZP.txt\n",
      "\t File: XHZPVUQTXIO.txt\n",
      "\t File: VCFJCGJFBIH.txt\n",
      "\n",
      "\n"
     ]
    }
   ],
   "source": [
    "for folder , sub_folders , files in os.walk(\"final_instructions\"): #tuple unpacking\n",
    "    \n",
    "    print(\"Currently looking at folder: \"+ folder)\n",
    "    print('\\n')\n",
    "    print(\"THE SUBFOLDERS ARE: \")\n",
    "    for sub_fold in sub_folders:\n",
    "        print(\"\\t Subfolder: \"+sub_fold )\n",
    "    \n",
    "    print('\\n')\n",
    "    \n",
    "    print(\"THE FILES ARE: \")\n",
    "    for f in files:\n",
    "        print(\"\\t File: \"+f)\n",
    "    print('\\n')"
   ]
  },
  {
   "cell_type": "code",
   "execution_count": null,
   "metadata": {},
   "outputs": [],
   "source": []
  },
  {
   "cell_type": "code",
   "execution_count": null,
   "metadata": {},
   "outputs": [],
   "source": []
  }
 ],
 "metadata": {
  "kernelspec": {
   "display_name": "Python 3.10.6 64-bit",
   "language": "python",
   "name": "python3"
  },
  "language_info": {
   "codemirror_mode": {
    "name": "ipython",
    "version": 3
   },
   "file_extension": ".py",
   "mimetype": "text/x-python",
   "name": "python",
   "nbconvert_exporter": "python",
   "pygments_lexer": "ipython3",
   "version": "3.10.6"
  },
  "orig_nbformat": 4,
  "vscode": {
   "interpreter": {
    "hash": "916dbcbb3f70747c44a77c7bcd40155683ae19c65e1c03b4aa3499c5328201f1"
   }
  }
 },
 "nbformat": 4,
 "nbformat_minor": 2
}
