{
 "cells": [
  {
   "cell_type": "markdown",
   "metadata": {},
   "source": [
    "# Local Scope and Variable "
   ]
  },
  {
   "cell_type": "code",
   "execution_count": 6,
   "metadata": {},
   "outputs": [
    {
     "name": "stdout",
     "output_type": "stream",
     "text": [
      "x is inside the function:  13\n"
     ]
    }
   ],
   "source": [
    "def func():\n",
    "    x = 13\n",
    "    print(\"x is inside the function: \", x)\n",
    "func()"
   ]
  },
  {
   "cell_type": "code",
   "execution_count": 4,
   "metadata": {},
   "outputs": [
    {
     "name": "stdout",
     "output_type": "stream",
     "text": [
      "x is inside the function:  13\n"
     ]
    },
    {
     "ename": "NameError",
     "evalue": "name 'x' is not defined",
     "output_type": "error",
     "traceback": [
      "\u001b[0;31m---------------------------------------------------------------------------\u001b[0m",
      "\u001b[0;31mNameError\u001b[0m                                 Traceback (most recent call last)",
      "Cell \u001b[0;32mIn[4], line 5\u001b[0m\n\u001b[1;32m      3\u001b[0m     \u001b[39mprint\u001b[39m(\u001b[39m\"\u001b[39m\u001b[39mx is inside the function: \u001b[39m\u001b[39m\"\u001b[39m, x)\n\u001b[1;32m      4\u001b[0m func()\n\u001b[0;32m----> 5\u001b[0m \u001b[39mprint\u001b[39m(\u001b[39m\"\u001b[39m\u001b[39mx is outside the function: \u001b[39m\u001b[39m\"\u001b[39m, x)\n",
      "\u001b[0;31mNameError\u001b[0m: name 'x' is not defined"
     ]
    }
   ],
   "source": [
    "def func():\n",
    "    x = 13\n",
    "    print(\"x is inside the function: \", x)\n",
    "func()\n",
    "print(\"x is outside the function: \", x)"
   ]
  },
  {
   "cell_type": "markdown",
   "metadata": {},
   "source": [
    "# Global Scope and Variable"
   ]
  },
  {
   "cell_type": "code",
   "execution_count": 11,
   "metadata": {},
   "outputs": [
    {
     "name": "stdout",
     "output_type": "stream",
     "text": [
      "x is inside the function:  5\n",
      "x is outside the function:  13\n"
     ]
    }
   ],
   "source": [
    "x = 13 # global variable\n",
    "def func():\n",
    "    x = 5 # local variable\n",
    "    print(\"x is inside the function: \", x)\n",
    "func()\n",
    "print(\"x is outside the function: \", x)\n"
   ]
  },
  {
   "cell_type": "code",
   "execution_count": 16,
   "metadata": {},
   "outputs": [
    {
     "name": "stdout",
     "output_type": "stream",
     "text": [
      "x is inside the function:  3\n",
      "y is inside the function:  5\n",
      "y outside the function:  1\n"
     ]
    }
   ],
   "source": [
    "y = 1 # global variable\n",
    "def func():\n",
    "    x=3 # local variable\n",
    "    y = 5 # local variable\n",
    "    print(\"x is inside the function: \", x)\n",
    "    print(\"y is inside the function: \", y)      \n",
    "func()\n",
    "print('y outside the function: ', y)    "
   ]
  },
  {
   "cell_type": "code",
   "execution_count": 12,
   "metadata": {},
   "outputs": [
    {
     "name": "stdout",
     "output_type": "stream",
     "text": [
      "x is inside the function:  13\n",
      "x is outside the function:  13\n"
     ]
    }
   ],
   "source": [
    "x = 13 # global variable\n",
    "def func():\n",
    "    print(\"x is inside the function: \", x)\n",
    "func()\n",
    "print(\"x is outside the function: \", x)"
   ]
  },
  {
   "cell_type": "code",
   "execution_count": 13,
   "metadata": {},
   "outputs": [
    {
     "name": "stdout",
     "output_type": "stream",
     "text": [
      "x is outside the function:  13\n"
     ]
    },
    {
     "ename": "UnboundLocalError",
     "evalue": "local variable 'x' referenced before assignment",
     "output_type": "error",
     "traceback": [
      "\u001b[0;31m---------------------------------------------------------------------------\u001b[0m",
      "\u001b[0;31mUnboundLocalError\u001b[0m                         Traceback (most recent call last)",
      "Cell \u001b[0;32mIn[13], line 6\u001b[0m\n\u001b[1;32m      4\u001b[0m     \u001b[39mprint\u001b[39m(\u001b[39m\"\u001b[39m\u001b[39mx is inside the function: \u001b[39m\u001b[39m\"\u001b[39m, x)\n\u001b[1;32m      5\u001b[0m \u001b[39mprint\u001b[39m(\u001b[39m\"\u001b[39m\u001b[39mx is outside the function: \u001b[39m\u001b[39m\"\u001b[39m, x)\n\u001b[0;32m----> 6\u001b[0m func()\n",
      "Cell \u001b[0;32mIn[13], line 3\u001b[0m, in \u001b[0;36mfunc\u001b[0;34m()\u001b[0m\n\u001b[1;32m      2\u001b[0m \u001b[39mdef\u001b[39;00m \u001b[39mfunc\u001b[39m():\n\u001b[0;32m----> 3\u001b[0m     x \u001b[39m=\u001b[39m x\u001b[39m+\u001b[39m\u001b[39m1\u001b[39m \u001b[39m# local variable\u001b[39;00m\n\u001b[1;32m      4\u001b[0m     \u001b[39mprint\u001b[39m(\u001b[39m\"\u001b[39m\u001b[39mx is inside the function: \u001b[39m\u001b[39m\"\u001b[39m, x)\n",
      "\u001b[0;31mUnboundLocalError\u001b[0m: local variable 'x' referenced before assignment"
     ]
    }
   ],
   "source": [
    "x = 13 # global variable\n",
    "def func():\n",
    "    x = x+1 # local variable\n",
    "    print(\"x is inside the function: \", x)\n",
    "print(\"x is outside the function: \", x)\n",
    "func()"
   ]
  },
  {
   "cell_type": "code",
   "execution_count": 14,
   "metadata": {},
   "outputs": [
    {
     "name": "stdout",
     "output_type": "stream",
     "text": [
      "x is outside the function:  13\n",
      "x is inside the function:  14\n"
     ]
    }
   ],
   "source": [
    "x = 13 # global variable\n",
    "def func():\n",
    "    global x\n",
    "    x = x+1 # local variable\n",
    "    print(\"x is inside the function: \", x)\n",
    "print(\"x is outside the function: \", x)\n",
    "func()"
   ]
  },
  {
   "cell_type": "code",
   "execution_count": 15,
   "metadata": {},
   "outputs": [
    {
     "name": "stdout",
     "output_type": "stream",
     "text": [
      "x is inside the function:  14\n",
      "x is outside the function:  14\n"
     ]
    }
   ],
   "source": [
    "x = 13 # global variable\n",
    "def func():\n",
    "    global x\n",
    "    x = x+1 # local variable\n",
    "    print(\"x is inside the function: \", x)\n",
    "func()\n",
    "print(\"x is outside the function: \", x)"
   ]
  },
  {
   "cell_type": "markdown",
   "metadata": {},
   "source": [
    "# Enclosing Scope and Variable"
   ]
  },
  {
   "cell_type": "code",
   "execution_count": 34,
   "metadata": {},
   "outputs": [
    {
     "name": "stdout",
     "output_type": "stream",
     "text": [
      "y is inside the outer function:  1\n"
     ]
    }
   ],
   "source": [
    "y=1 # global variable\n",
    "def outer():  # --> enclosing function\n",
    "    z=10 # Non-local variable for inner function\n",
    "    def inner(): # --> Nested function\n",
    "        x=3  # local variable\n",
    "        y = 5 # local variable\n",
    "        print(\"y is inside the inner function: \", y)\n",
    "    print(\"y is inside the outer function: \", y)\n",
    "\n",
    "\n",
    "outer()"
   ]
  },
  {
   "cell_type": "code",
   "execution_count": 35,
   "metadata": {},
   "outputs": [
    {
     "name": "stdout",
     "output_type": "stream",
     "text": [
      "y is inside the outer function:  1\n",
      "y is inside the inner function:  5\n"
     ]
    }
   ],
   "source": [
    "y=1 # global variable\n",
    "def outer():  # --> enclosing function\n",
    "    z=10 # Non-local variable for inner function\n",
    "    def inner(): # --> Nested function\n",
    "        x=3  # local variable\n",
    "        y = 5 # local variable\n",
    "        print(\"y is inside the inner function: \", y)\n",
    "    print(\"y is inside the outer function: \", y)\n",
    "    inner()\n",
    "\n",
    "outer()"
   ]
  },
  {
   "cell_type": "code",
   "execution_count": 21,
   "metadata": {},
   "outputs": [],
   "source": [
    "y=1 # global variable\n",
    "def outer():  # --> enclosing function\n",
    "    z=10 # Non-local variable for inner function\n",
    "    def inner(): # --> Nested function\n",
    "        x=3  # local variable\n",
    "        y = 5 # local variable\n",
    "        print(\"y is inside the inner function: \", y)\n",
    "        print(\"z is inside the inner function: \", z)\n",
    "    print(\"y is inside the outer function: \", y)\n",
    "    inner()\n"
   ]
  },
  {
   "cell_type": "code",
   "execution_count": 22,
   "metadata": {},
   "outputs": [
    {
     "name": "stdout",
     "output_type": "stream",
     "text": [
      "y is inside the outer function:  1\n",
      "y is inside the inner function:  5\n",
      "z is inside the inner function:  10\n"
     ]
    }
   ],
   "source": [
    "outer()"
   ]
  },
  {
   "cell_type": "code",
   "execution_count": 36,
   "metadata": {},
   "outputs": [
    {
     "name": "stdout",
     "output_type": "stream",
     "text": [
      "y is outside the outer function:  1\n",
      "y is inside the outer function:  1\n",
      "y is inside the inner function:  5\n",
      "z is inside the inner function:  10\n"
     ]
    }
   ],
   "source": [
    "y=1 # global variable\n",
    "def outer():  # --> enclosing function\n",
    "    z=10 # Non-local variable for inner function\n",
    "    def inner(): # --> Nested function\n",
    "        x=3  # local variable\n",
    "        y = 5 # local variable\n",
    "        print(\"y is inside the inner function: \", y)\n",
    "        print(\"z is inside the inner function: \", z)\n",
    "    print(\"y is inside the outer function: \", y)\n",
    "    inner()\n",
    "print(\"y is outside the outer function: \", y)\n",
    "outer()"
   ]
  },
  {
   "cell_type": "code",
   "execution_count": 25,
   "metadata": {},
   "outputs": [],
   "source": [
    "y=1 # global variable\n",
    "def outer():  # --> enclosing function\n",
    "    z=10 # Non-local variable for inner function\n",
    "    def inner(): # --> Nested function\n",
    "        x=3  # local variable\n",
    "        y = 5 # local variable\n",
    "        z=z+10\n",
    "        print(\"y is inside the inner function: \", y)\n",
    "        print(\"z is inside the inner function: \", z)\n",
    "    print(\"y is inside the outer function: \", y)\n",
    "    inner()\n",
    "\n"
   ]
  },
  {
   "cell_type": "code",
   "execution_count": 26,
   "metadata": {},
   "outputs": [
    {
     "name": "stdout",
     "output_type": "stream",
     "text": [
      "y is inside the outer function:  1\n"
     ]
    },
    {
     "ename": "UnboundLocalError",
     "evalue": "local variable 'z' referenced before assignment",
     "output_type": "error",
     "traceback": [
      "\u001b[0;31m---------------------------------------------------------------------------\u001b[0m",
      "\u001b[0;31mUnboundLocalError\u001b[0m                         Traceback (most recent call last)",
      "Cell \u001b[0;32mIn[26], line 1\u001b[0m\n\u001b[0;32m----> 1\u001b[0m outer()\n",
      "Cell \u001b[0;32mIn[25], line 11\u001b[0m, in \u001b[0;36mouter\u001b[0;34m()\u001b[0m\n\u001b[1;32m      9\u001b[0m     \u001b[39mprint\u001b[39m(\u001b[39m\"\u001b[39m\u001b[39mz is inside the inner function: \u001b[39m\u001b[39m\"\u001b[39m, z)\n\u001b[1;32m     10\u001b[0m \u001b[39mprint\u001b[39m(\u001b[39m\"\u001b[39m\u001b[39my is inside the outer function: \u001b[39m\u001b[39m\"\u001b[39m, y)\n\u001b[0;32m---> 11\u001b[0m inner()\n",
      "Cell \u001b[0;32mIn[25], line 7\u001b[0m, in \u001b[0;36mouter.<locals>.inner\u001b[0;34m()\u001b[0m\n\u001b[1;32m      5\u001b[0m x\u001b[39m=\u001b[39m\u001b[39m3\u001b[39m  \u001b[39m# local variable\u001b[39;00m\n\u001b[1;32m      6\u001b[0m y \u001b[39m=\u001b[39m \u001b[39m5\u001b[39m \u001b[39m# local variable\u001b[39;00m\n\u001b[0;32m----> 7\u001b[0m z\u001b[39m=\u001b[39mz\u001b[39m+\u001b[39m\u001b[39m10\u001b[39m\n\u001b[1;32m      8\u001b[0m \u001b[39mprint\u001b[39m(\u001b[39m\"\u001b[39m\u001b[39my is inside the inner function: \u001b[39m\u001b[39m\"\u001b[39m, y)\n\u001b[1;32m      9\u001b[0m \u001b[39mprint\u001b[39m(\u001b[39m\"\u001b[39m\u001b[39mz is inside the inner function: \u001b[39m\u001b[39m\"\u001b[39m, z)\n",
      "\u001b[0;31mUnboundLocalError\u001b[0m: local variable 'z' referenced before assignment"
     ]
    }
   ],
   "source": [
    "outer()"
   ]
  },
  {
   "cell_type": "code",
   "execution_count": 27,
   "metadata": {},
   "outputs": [],
   "source": [
    "y=1 # global variable\n",
    "def outer():  # --> enclosing function\n",
    "    z=10 # Non-local variable for inner function\n",
    "    def inner(): # --> Nested function\n",
    "        nonlocal z\n",
    "        x=3  # local variable\n",
    "        y = 5 # local variable\n",
    "        z=z+10\n",
    "        print(\"y is inside the inner function: \", y)\n",
    "        print(\"z is inside the inner function: \", z)\n",
    "    print(\"y is inside the outer function: \", y)\n",
    "    inner()\n"
   ]
  },
  {
   "cell_type": "code",
   "execution_count": 28,
   "metadata": {},
   "outputs": [
    {
     "name": "stdout",
     "output_type": "stream",
     "text": [
      "y is inside the outer function:  1\n",
      "y is inside the inner function:  5\n",
      "z is inside the inner function:  20\n"
     ]
    }
   ],
   "source": [
    "outer()"
   ]
  },
  {
   "cell_type": "code",
   "execution_count": 39,
   "metadata": {},
   "outputs": [
    {
     "ename": "SyntaxError",
     "evalue": "no binding for nonlocal 'z' found (1703761579.py, line 7)",
     "output_type": "error",
     "traceback": [
      "\u001b[0;36m  Cell \u001b[0;32mIn[39], line 7\u001b[0;36m\u001b[0m\n\u001b[0;31m    nonlocal z\u001b[0m\n\u001b[0m    ^\u001b[0m\n\u001b[0;31mSyntaxError\u001b[0m\u001b[0;31m:\u001b[0m no binding for nonlocal 'z' found\n"
     ]
    }
   ],
   "source": [
    "y=1 # global variable\n",
    "z=1000 # global variable\n",
    "def outer():  # --> enclosing function\n",
    "    global z\n",
    "    z= z+1000 # Non-local variable for inner function\n",
    "    def inner(): # --> Nested function\n",
    "        nonlocal z\n",
    "        x=3  # local variable\n",
    "        y = 5 # local variable\n",
    "        z=z+1000\n",
    "        print(\"y is inside the inner function: \", y)\n",
    "        print(\"z is inside the inner function: \", z)\n",
    "    print(\"y is inside the outer function: \", y)\n",
    "    inner()\n"
   ]
  },
  {
   "cell_type": "markdown",
   "metadata": {},
   "source": [
    "# LEGB Rule"
   ]
  },
  {
   "cell_type": "code",
   "execution_count": 41,
   "metadata": {},
   "outputs": [
    {
     "name": "stdout",
     "output_type": "stream",
     "text": [
      "y is outside the outer function:  1\n",
      "y is inside the outer function:  12\n",
      "x is inside the inner function:  3\n",
      "y is inside the inner function:  5\n",
      "z is inside the inner function:  10\n"
     ]
    }
   ],
   "source": [
    "\n",
    "y=1 # global variable\n",
    "def outer():  # --> enclosing function\n",
    "    z=10 # Non-local variable for inner function\n",
    "    y = 12\n",
    "    def inner(): # --> Nested function\n",
    "        nonlocal z\n",
    "        x=3  # local variable\n",
    "        y = 5 # local variable\n",
    "        print(\"x is inside the inner function: \", x)\n",
    "        print(\"y is inside the inner function: \", y)\n",
    "        print(\"z is inside the inner function: \", z)\n",
    "    print(\"y is inside the outer function: \", y)\n",
    "    inner()\n",
    "print(\"y is outside the outer function: \", y)    \n",
    "outer() "
   ]
  },
  {
   "cell_type": "code",
   "execution_count": 52,
   "metadata": {},
   "outputs": [
    {
     "name": "stdout",
     "output_type": "stream",
     "text": [
      "y is inside the outer function:  12\n",
      "z is inside the outer function:  10\n",
      "x is inside the inner function:  3\n",
      "y is inside the inner function:  5\n",
      "z is inside the inner function:  15\n",
      "y is outside the outer function:  1\n"
     ]
    }
   ],
   "source": [
    "y=1 # global variable\n",
    "def outer():  # --> enclosing function\n",
    "    z=10 # Non-local variable for inner function\n",
    "    y = 12\n",
    "    def inner(): # --> Nested function\n",
    "        nonlocal z\n",
    "        x=3  # local variable\n",
    "        y = 5 # local variable\n",
    "        z = z+5\n",
    "        print(\"x is inside the inner function: \", x)\n",
    "        print(\"y is inside the inner function: \", y)\n",
    "        print(\"z is inside the inner function: \", z)\n",
    "    print(\"y is inside the outer function: \", y)\n",
    "    print(\"z is inside the outer function: \", z)\n",
    "    inner()   \n",
    "outer()\n",
    "print(\"y is outside the outer function: \", y) \n"
   ]
  },
  {
   "cell_type": "code",
   "execution_count": 48,
   "metadata": {},
   "outputs": [],
   "source": [
    "del x"
   ]
  },
  {
   "cell_type": "code",
   "execution_count": 49,
   "metadata": {},
   "outputs": [
    {
     "name": "stdout",
     "output_type": "stream",
     "text": [
      "y is outside the outer function:  1\n",
      "y is inside the outer function:  12\n",
      "x is inside the inner function:  3\n",
      "y is inside the inner function:  5\n",
      "z is inside the inner function:  10\n"
     ]
    },
    {
     "ename": "NameError",
     "evalue": "name 'x' is not defined",
     "output_type": "error",
     "traceback": [
      "\u001b[0;31m---------------------------------------------------------------------------\u001b[0m",
      "\u001b[0;31mNameError\u001b[0m                                 Traceback (most recent call last)",
      "Cell \u001b[0;32mIn[49], line 16\u001b[0m\n\u001b[1;32m     14\u001b[0m \u001b[39mprint\u001b[39m(\u001b[39m\"\u001b[39m\u001b[39my is outside the outer function: \u001b[39m\u001b[39m\"\u001b[39m, y)    \n\u001b[1;32m     15\u001b[0m outer()\n\u001b[0;32m---> 16\u001b[0m \u001b[39mprint\u001b[39m(\u001b[39m\"\u001b[39m\u001b[39mx is inside the outer function: \u001b[39m\u001b[39m\"\u001b[39m, x)\n",
      "\u001b[0;31mNameError\u001b[0m: name 'x' is not defined"
     ]
    }
   ],
   "source": [
    "\n",
    "y=1 # global variable\n",
    "def outer():  # --> enclosing function\n",
    "    z=10 # Non-local variable for inner function\n",
    "    y = 12\n",
    "    def inner(): # --> Nested function\n",
    "        nonlocal z\n",
    "        x=3  # local variable\n",
    "        y = 5 # local variable\n",
    "        print(\"x is inside the inner function: \", x)\n",
    "        print(\"y is inside the inner function: \", y)\n",
    "        print(\"z is inside the inner function: \", z)\n",
    "    print(\"y is inside the outer function: \", y)\n",
    "    inner()\n",
    "print(\"y is outside the outer function: \", y)    \n",
    "outer()\n",
    "print(\"x is inside the outer function: \", x)"
   ]
  },
  {
   "cell_type": "code",
   "execution_count": null,
   "metadata": {},
   "outputs": [],
   "source": [
    "\n",
    "\n",
    "\n"
   ]
  }
 ],
 "metadata": {
  "kernelspec": {
   "display_name": "Python 3.10.6 64-bit",
   "language": "python",
   "name": "python3"
  },
  "language_info": {
   "codemirror_mode": {
    "name": "ipython",
    "version": 3
   },
   "file_extension": ".py",
   "mimetype": "text/x-python",
   "name": "python",
   "nbconvert_exporter": "python",
   "pygments_lexer": "ipython3",
   "version": "3.10.6"
  },
  "orig_nbformat": 4,
  "vscode": {
   "interpreter": {
    "hash": "916dbcbb3f70747c44a77c7bcd40155683ae19c65e1c03b4aa3499c5328201f1"
   }
  }
 },
 "nbformat": 4,
 "nbformat_minor": 2
}
