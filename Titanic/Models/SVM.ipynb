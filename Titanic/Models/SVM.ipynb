{
 "cells": [
  {
   "cell_type": "code",
   "execution_count": 1,
   "metadata": {},
   "outputs": [],
   "source": [
    "import pandas as pd\n",
    "import numpy as np\n",
    "import matplotlib.pyplot as plt\n",
    "import seaborn as sns"
   ]
  },
  {
   "cell_type": "code",
   "execution_count": 2,
   "metadata": {},
   "outputs": [],
   "source": [
    "train = pd.read_csv(r'..\\data\\final_train_data.csv')"
   ]
  },
  {
   "cell_type": "code",
   "execution_count": 3,
   "metadata": {},
   "outputs": [],
   "source": [
    "test = pd.read_csv(r'..\\data\\final_test_data.csv')"
   ]
  },
  {
   "cell_type": "code",
   "execution_count": 4,
   "metadata": {},
   "outputs": [
    {
     "data": {
      "text/plain": [
       "(891, 41)"
      ]
     },
     "execution_count": 4,
     "metadata": {},
     "output_type": "execute_result"
    }
   ],
   "source": [
    "train.shape"
   ]
  },
  {
   "cell_type": "code",
   "execution_count": 5,
   "metadata": {},
   "outputs": [
    {
     "data": {
      "text/plain": [
       "(418, 40)"
      ]
     },
     "execution_count": 5,
     "metadata": {},
     "output_type": "execute_result"
    }
   ],
   "source": [
    "test.shape"
   ]
  },
  {
   "cell_type": "markdown",
   "metadata": {},
   "source": [
    "## `Splitting into X_train and Y_train and  Scaling`"
   ]
  },
  {
   "cell_type": "markdown",
   "metadata": {},
   "source": [
    "### Training Data"
   ]
  },
  {
   "cell_type": "code",
   "execution_count": 6,
   "metadata": {},
   "outputs": [],
   "source": [
    "X= train.drop(labels='Survived',axis=1)"
   ]
  },
  {
   "cell_type": "code",
   "execution_count": 7,
   "metadata": {},
   "outputs": [
    {
     "data": {
      "text/plain": [
       "(891, 40)"
      ]
     },
     "execution_count": 7,
     "metadata": {},
     "output_type": "execute_result"
    }
   ],
   "source": [
    "X.shape"
   ]
  },
  {
   "cell_type": "code",
   "execution_count": 8,
   "metadata": {},
   "outputs": [],
   "source": [
    "y= train['Survived']"
   ]
  },
  {
   "cell_type": "code",
   "execution_count": 9,
   "metadata": {},
   "outputs": [],
   "source": [
    "from sklearn.model_selection import train_test_split\n",
    "from sklearn.preprocessing import StandardScaler"
   ]
  },
  {
   "cell_type": "code",
   "execution_count": 10,
   "metadata": {},
   "outputs": [],
   "source": [
    "X_train, X_test, y_train, y_test = train_test_split(X, y, test_size=0.2, random_state=101)"
   ]
  },
  {
   "cell_type": "code",
   "execution_count": 11,
   "metadata": {},
   "outputs": [],
   "source": [
    "scaler = StandardScaler()\n",
    "scaled_X_train = scaler.fit_transform(X_train)\n",
    "scaled_X_test = scaler.transform(X_test)"
   ]
  },
  {
   "cell_type": "markdown",
   "metadata": {},
   "source": [
    "### Test Data"
   ]
  },
  {
   "cell_type": "code",
   "execution_count": 12,
   "metadata": {},
   "outputs": [],
   "source": [
    "scaled_test = scaler.transform(test)"
   ]
  },
  {
   "cell_type": "markdown",
   "metadata": {},
   "source": [
    "## `Apply SVC model`\n"
   ]
  },
  {
   "cell_type": "code",
   "execution_count": 13,
   "metadata": {},
   "outputs": [],
   "source": [
    "# X= scaled_X_train \n",
    "# y = y_train "
   ]
  },
  {
   "cell_type": "code",
   "execution_count": 14,
   "metadata": {},
   "outputs": [
    {
     "data": {
      "text/html": [
       "<style>#sk-container-id-1 {color: black;background-color: white;}#sk-container-id-1 pre{padding: 0;}#sk-container-id-1 div.sk-toggleable {background-color: white;}#sk-container-id-1 label.sk-toggleable__label {cursor: pointer;display: block;width: 100%;margin-bottom: 0;padding: 0.3em;box-sizing: border-box;text-align: center;}#sk-container-id-1 label.sk-toggleable__label-arrow:before {content: \"▸\";float: left;margin-right: 0.25em;color: #696969;}#sk-container-id-1 label.sk-toggleable__label-arrow:hover:before {color: black;}#sk-container-id-1 div.sk-estimator:hover label.sk-toggleable__label-arrow:before {color: black;}#sk-container-id-1 div.sk-toggleable__content {max-height: 0;max-width: 0;overflow: hidden;text-align: left;background-color: #f0f8ff;}#sk-container-id-1 div.sk-toggleable__content pre {margin: 0.2em;color: black;border-radius: 0.25em;background-color: #f0f8ff;}#sk-container-id-1 input.sk-toggleable__control:checked~div.sk-toggleable__content {max-height: 200px;max-width: 100%;overflow: auto;}#sk-container-id-1 input.sk-toggleable__control:checked~label.sk-toggleable__label-arrow:before {content: \"▾\";}#sk-container-id-1 div.sk-estimator input.sk-toggleable__control:checked~label.sk-toggleable__label {background-color: #d4ebff;}#sk-container-id-1 div.sk-label input.sk-toggleable__control:checked~label.sk-toggleable__label {background-color: #d4ebff;}#sk-container-id-1 input.sk-hidden--visually {border: 0;clip: rect(1px 1px 1px 1px);clip: rect(1px, 1px, 1px, 1px);height: 1px;margin: -1px;overflow: hidden;padding: 0;position: absolute;width: 1px;}#sk-container-id-1 div.sk-estimator {font-family: monospace;background-color: #f0f8ff;border: 1px dotted black;border-radius: 0.25em;box-sizing: border-box;margin-bottom: 0.5em;}#sk-container-id-1 div.sk-estimator:hover {background-color: #d4ebff;}#sk-container-id-1 div.sk-parallel-item::after {content: \"\";width: 100%;border-bottom: 1px solid gray;flex-grow: 1;}#sk-container-id-1 div.sk-label:hover label.sk-toggleable__label {background-color: #d4ebff;}#sk-container-id-1 div.sk-serial::before {content: \"\";position: absolute;border-left: 1px solid gray;box-sizing: border-box;top: 0;bottom: 0;left: 50%;z-index: 0;}#sk-container-id-1 div.sk-serial {display: flex;flex-direction: column;align-items: center;background-color: white;padding-right: 0.2em;padding-left: 0.2em;position: relative;}#sk-container-id-1 div.sk-item {position: relative;z-index: 1;}#sk-container-id-1 div.sk-parallel {display: flex;align-items: stretch;justify-content: center;background-color: white;position: relative;}#sk-container-id-1 div.sk-item::before, #sk-container-id-1 div.sk-parallel-item::before {content: \"\";position: absolute;border-left: 1px solid gray;box-sizing: border-box;top: 0;bottom: 0;left: 50%;z-index: -1;}#sk-container-id-1 div.sk-parallel-item {display: flex;flex-direction: column;z-index: 1;position: relative;background-color: white;}#sk-container-id-1 div.sk-parallel-item:first-child::after {align-self: flex-end;width: 50%;}#sk-container-id-1 div.sk-parallel-item:last-child::after {align-self: flex-start;width: 50%;}#sk-container-id-1 div.sk-parallel-item:only-child::after {width: 0;}#sk-container-id-1 div.sk-dashed-wrapped {border: 1px dashed gray;margin: 0 0.4em 0.5em 0.4em;box-sizing: border-box;padding-bottom: 0.4em;background-color: white;}#sk-container-id-1 div.sk-label label {font-family: monospace;font-weight: bold;display: inline-block;line-height: 1.2em;}#sk-container-id-1 div.sk-label-container {text-align: center;}#sk-container-id-1 div.sk-container {/* jupyter's `normalize.less` sets `[hidden] { display: none; }` but bootstrap.min.css set `[hidden] { display: none !important; }` so we also need the `!important` here to be able to override the default hidden behavior on the sphinx rendered scikit-learn.org. See: https://github.com/scikit-learn/scikit-learn/issues/21755 */display: inline-block !important;position: relative;}#sk-container-id-1 div.sk-text-repr-fallback {display: none;}</style><div id=\"sk-container-id-1\" class=\"sk-top-container\"><div class=\"sk-text-repr-fallback\"><pre>SVC(C=1, kernel=&#x27;linear&#x27;)</pre><b>In a Jupyter environment, please rerun this cell to show the HTML representation or trust the notebook. <br />On GitHub, the HTML representation is unable to render, please try loading this page with nbviewer.org.</b></div><div class=\"sk-container\" hidden><div class=\"sk-item\"><div class=\"sk-estimator sk-toggleable\"><input class=\"sk-toggleable__control sk-hidden--visually\" id=\"sk-estimator-id-1\" type=\"checkbox\" checked><label for=\"sk-estimator-id-1\" class=\"sk-toggleable__label sk-toggleable__label-arrow\">SVC</label><div class=\"sk-toggleable__content\"><pre>SVC(C=1, kernel=&#x27;linear&#x27;)</pre></div></div></div></div></div>"
      ],
      "text/plain": [
       "SVC(C=1, kernel='linear')"
      ]
     },
     "execution_count": 14,
     "metadata": {},
     "output_type": "execute_result"
    }
   ],
   "source": [
    "from sklearn.svm import SVC\n",
    "model = SVC(kernel='linear', C=1)\n",
    "model.fit(scaled_X_train,y_train)"
   ]
  },
  {
   "cell_type": "markdown",
   "metadata": {},
   "source": [
    "## `Calculate Accuracy`"
   ]
  },
  {
   "cell_type": "code",
   "execution_count": 15,
   "metadata": {},
   "outputs": [
    {
     "data": {
      "text/plain": [
       "0.8268156424581006"
      ]
     },
     "execution_count": 15,
     "metadata": {},
     "output_type": "execute_result"
    }
   ],
   "source": [
    "from sklearn.metrics import accuracy_score,confusion_matrix,classification_report,plot_confusion_matrix\n",
    "y_pred = model.predict(scaled_X_test)\n",
    "accuracy_score(y_test,y_pred)"
   ]
  },
  {
   "cell_type": "code",
   "execution_count": 16,
   "metadata": {},
   "outputs": [
    {
     "data": {
      "text/plain": [
       "0.8342696629213483"
      ]
     },
     "execution_count": 16,
     "metadata": {},
     "output_type": "execute_result"
    }
   ],
   "source": [
    "accuracy_score(y_train,model.predict(scaled_X_train))"
   ]
  },
  {
   "cell_type": "code",
   "execution_count": 17,
   "metadata": {},
   "outputs": [
    {
     "data": {
      "text/plain": [
       "array([[90,  9],\n",
       "       [22, 58]], dtype=int64)"
      ]
     },
     "execution_count": 17,
     "metadata": {},
     "output_type": "execute_result"
    }
   ],
   "source": [
    "confusion_matrix(y_test,y_pred)"
   ]
  },
  {
   "cell_type": "code",
   "execution_count": 18,
   "metadata": {},
   "outputs": [
    {
     "name": "stderr",
     "output_type": "stream",
     "text": [
      "c:\\Users\\kul78\\.conda\\envs\\data_science\\lib\\site-packages\\sklearn\\utils\\deprecation.py:87: FutureWarning: Function plot_confusion_matrix is deprecated; Function `plot_confusion_matrix` is deprecated in 1.0 and will be removed in 1.2. Use one of the class methods: ConfusionMatrixDisplay.from_predictions or ConfusionMatrixDisplay.from_estimator.\n",
      "  warnings.warn(msg, category=FutureWarning)\n"
     ]
    },
    {
     "data": {
      "text/plain": [
       "<sklearn.metrics._plot.confusion_matrix.ConfusionMatrixDisplay at 0x2866bc71160>"
      ]
     },
     "execution_count": 18,
     "metadata": {},
     "output_type": "execute_result"
    },
    {
     "data": {
      "image/png": "[encoded data removed]",
      "text/plain": [
       "<Figure size 432x288 with 2 Axes>"
      ]
     },
     "metadata": {
      "needs_background": "light"
     },
     "output_type": "display_data"
    }
   ],
   "source": [
    "plot_confusion_matrix(model,scaled_X_test,y_test,normalize='true')"
   ]
  },
  {
   "cell_type": "markdown",
   "metadata": {},
   "source": [
    "## `Predicting the Test Data`"
   ]
  },
  {
   "cell_type": "code",
   "execution_count": 19,
   "metadata": {},
   "outputs": [],
   "source": [
    "test_pred = model.predict(scaled_test)"
   ]
  },
  {
   "cell_type": "code",
   "execution_count": 20,
   "metadata": {},
   "outputs": [],
   "source": [
    "submission = pd.read_csv(r'..\\Kagle_submissions\\gender_submission.csv')"
   ]
  },
  {
   "cell_type": "code",
   "execution_count": 21,
   "metadata": {},
   "outputs": [],
   "source": [
    "submission[\"Survived\"]=test_pred"
   ]
  },
  {
   "cell_type": "code",
   "execution_count": 22,
   "metadata": {},
   "outputs": [
    {
     "data": {
      "text/plain": [
       "(418, 2)"
      ]
     },
     "execution_count": 22,
     "metadata": {},
     "output_type": "execute_result"
    }
   ],
   "source": [
    "submission.shape"
   ]
  },
  {
   "cell_type": "code",
   "execution_count": 23,
   "metadata": {},
   "outputs": [],
   "source": [
    "submission.to_csv(r\"..\\Kagle_submissions\\SVM.csv\",index=False)"
   ]
  },
  {
   "cell_type": "markdown",
   "metadata": {},
   "source": [
    "## `Grid Search CV`"
   ]
  },
  {
   "cell_type": "markdown",
   "metadata": {},
   "source": [
    "### 1st Try"
   ]
  },
  {
   "cell_type": "code",
   "execution_count": 24,
   "metadata": {},
   "outputs": [],
   "source": [
    "from sklearn.model_selection import GridSearchCV"
   ]
  },
  {
   "cell_type": "code",
   "execution_count": 25,
   "metadata": {},
   "outputs": [],
   "source": [
    "# svm = SVC()\n",
    "# param_grid = {'C':[0.01,0.1,1],'kernel':['linear','rbf','sigmoid']}\n",
    "# grid = GridSearchCV(estimator=svm,param_grid=param_grid,verbose=5)"
   ]
  },
  {
   "cell_type": "code",
   "execution_count": 26,
   "metadata": {},
   "outputs": [],
   "source": [
    "# grid.fit(scaled_X_train,y_train)"
   ]
  },
  {
   "cell_type": "code",
   "execution_count": 27,
   "metadata": {},
   "outputs": [],
   "source": [
    "# grid.best_score_"
   ]
  },
  {
   "cell_type": "code",
   "execution_count": 28,
   "metadata": {},
   "outputs": [],
   "source": [
    "# grid.best_params_"
   ]
  },
  {
   "cell_type": "code",
   "execution_count": 29,
   "metadata": {},
   "outputs": [],
   "source": [
    "# best_model = SVC(**grid.best_estimator_.get_params())\n",
    "# "
   ]
  },
  {
   "cell_type": "code",
   "execution_count": 30,
   "metadata": {},
   "outputs": [],
   "source": [
    "# # best_model = SVC(**grid.best_estimator_.get_params())\n",
    "# best_model.fit(scaled_X_test, y_test)\n",
    "# accuracy_score(y_test,best_model.predict(scaled_X_test))"
   ]
  },
  {
   "cell_type": "code",
   "execution_count": 31,
   "metadata": {},
   "outputs": [],
   "source": [
    "# accuracy_score(y_train,best_model.predict(scaled_X_train))"
   ]
  },
  {
   "cell_type": "markdown",
   "metadata": {},
   "source": [
    "#### Predict data using best model of grid search cv"
   ]
  },
  {
   "cell_type": "code",
   "execution_count": 32,
   "metadata": {},
   "outputs": [],
   "source": [
    "# test_pred1 = best_model.predict(scaled_test)"
   ]
  },
  {
   "cell_type": "code",
   "execution_count": 33,
   "metadata": {},
   "outputs": [],
   "source": [
    "# # test_pred1 = best_model.predict(scaled_test)\n",
    "# submission = pd.read_csv(r'..\\Kagle_submissions\\gender_submission.csv')\n",
    "# submission[\"Survived\"]=test_pred1\n"
   ]
  },
  {
   "cell_type": "code",
   "execution_count": 34,
   "metadata": {},
   "outputs": [],
   "source": [
    "# submission.to_csv(r\"..\\Kagle_submissions\\SVM_GSCV.csv\",index=False)"
   ]
  },
  {
   "cell_type": "markdown",
   "metadata": {},
   "source": [
    "### 2nd Try"
   ]
  },
  {
   "cell_type": "code",
   "execution_count": 35,
   "metadata": {},
   "outputs": [],
   "source": [
    "svm = SVC()\n",
    "param_grid = {'C': [0.01, 0.1, 1, 10], 'kernel': ['rbf', \n",
    "                                                  'poly'], 'degree': [1, 5, 8], 'gamma': ['scale', 'auto', 1, 10]}\n",
    "grid = GridSearchCV(estimator=svm, param_grid=param_grid,\n",
    "                    verbose=5, cv=3)\n"
   ]
  },
  {
   "cell_type": "code",
   "execution_count": 36,
   "metadata": {},
   "outputs": [
    {
     "name": "stdout",
     "output_type": "stream",
     "text": [
      "Fitting 3 folds for each of 96 candidates, totalling 288 fits\n",
      "[CV 1/3] END C=0.01, degree=1, gamma=scale, kernel=rbf;, score=0.630 total time=   0.0s\n",
      "[CV 2/3] END C=0.01, degree=1, gamma=scale, kernel=rbf;, score=0.633 total time=   0.0s\n",
      "[CV 3/3] END C=0.01, degree=1, gamma=scale, kernel=rbf;, score=0.633 total time=   0.0s\n",
      "[CV 1/3] END C=0.01, degree=1, gamma=scale, kernel=poly;, score=0.630 total time=   0.0s\n",
      "[CV 2/3] END C=0.01, degree=1, gamma=scale, kernel=poly;, score=0.633 total time=   0.0s\n",
      "[CV 3/3] END C=0.01, degree=1, gamma=scale, kernel=poly;, score=0.633 total time=   0.0s\n",
      "[CV 1/3] END C=0.01, degree=1, gamma=auto, kernel=rbf;, score=0.630 total time=   0.0s\n",
      "[CV 2/3] END C=0.01, degree=1, gamma=auto, kernel=rbf;, score=0.633 total time=   0.0s\n",
      "[CV 3/3] END C=0.01, degree=1, gamma=auto, kernel=rbf;, score=0.633 total time=   0.0s\n",
      "[CV 1/3] END C=0.01, degree=1, gamma=auto, kernel=poly;, score=0.630 total time=   0.0s\n",
      "[CV 2/3] END C=0.01, degree=1, gamma=auto, kernel=poly;, score=0.633 total time=   0.0s\n",
      "[CV 3/3] END C=0.01, degree=1, gamma=auto, kernel=poly;, score=0.633 total time=   0.0s\n",
      "[CV 1/3] END C=0.01, degree=1, gamma=1, kernel=rbf;, score=0.630 total time=   0.0s\n",
      "[CV 2/3] END C=0.01, degree=1, gamma=1, kernel=rbf;, score=0.633 total time=   0.0s\n",
      "[CV 3/3] END C=0.01, degree=1, gamma=1, kernel=rbf;, score=0.633 total time=   0.0s\n",
      "[CV 1/3] END C=0.01, degree=1, gamma=1, kernel=poly;, score=0.832 total time=   0.0s\n",
      "[CV 2/3] END C=0.01, degree=1, gamma=1, kernel=poly;, score=0.793 total time=   0.0s\n",
      "[CV 3/3] END C=0.01, degree=1, gamma=1, kernel=poly;, score=0.831 total time=   0.0s\n",
      "[CV 1/3] END C=0.01, degree=1, gamma=10, kernel=rbf;, score=0.630 total time=   0.0s\n",
      "[CV 2/3] END C=0.01, degree=1, gamma=10, kernel=rbf;, score=0.633 total time=   0.0s\n",
      "[CV 3/3] END C=0.01, degree=1, gamma=10, kernel=rbf;, score=0.633 total time=   0.0s\n",
      "[CV 1/3] END C=0.01, degree=1, gamma=10, kernel=poly;, score=0.832 total time=   0.0s\n",
      "[CV 2/3] END C=0.01, degree=1, gamma=10, kernel=poly;, score=0.802 total time=   0.0s\n",
      "[CV 3/3] END C=0.01, degree=1, gamma=10, kernel=poly;, score=0.819 total time=   0.1s\n",
      "[CV 1/3] END C=0.01, degree=5, gamma=scale, kernel=rbf;, score=0.630 total time=   0.0s\n",
      "[CV 2/3] END C=0.01, degree=5, gamma=scale, kernel=rbf;, score=0.633 total time=   0.0s\n",
      "[CV 3/3] END C=0.01, degree=5, gamma=scale, kernel=rbf;, score=0.633 total time=   0.0s\n",
      "[CV 1/3] END C=0.01, degree=5, gamma=scale, kernel=poly;, score=0.643 total time=   0.0s\n",
      "[CV 2/3] END C=0.01, degree=5, gamma=scale, kernel=poly;, score=0.637 total time=   0.0s\n",
      "[CV 3/3] END C=0.01, degree=5, gamma=scale, kernel=poly;, score=0.637 total time=   0.0s\n",
      "[CV 1/3] END C=0.01, degree=5, gamma=auto, kernel=rbf;, score=0.630 total time=   0.0s\n",
      "[CV 2/3] END C=0.01, degree=5, gamma=auto, kernel=rbf;, score=0.633 total time=   0.0s\n",
      "[CV 3/3] END C=0.01, degree=5, gamma=auto, kernel=rbf;, score=0.633 total time=   0.0s\n",
      "[CV 1/3] END C=0.01, degree=5, gamma=auto, kernel=poly;, score=0.643 total time=   0.0s\n",
      "[CV 2/3] END C=0.01, degree=5, gamma=auto, kernel=poly;, score=0.633 total time=   0.0s\n",
      "[CV 3/3] END C=0.01, degree=5, gamma=auto, kernel=poly;, score=0.637 total time=   0.0s\n",
      "[CV 1/3] END C=0.01, degree=5, gamma=1, kernel=rbf;, score=0.630 total time=   0.0s\n",
      "[CV 2/3] END C=0.01, degree=5, gamma=1, kernel=rbf;, score=0.633 total time=   0.0s\n",
      "[CV 3/3] END C=0.01, degree=5, gamma=1, kernel=rbf;, score=0.633 total time=   0.0s\n",
      "[CV 1/3] END C=0.01, degree=5, gamma=1, kernel=poly;, score=0.731 total time=   1.1s\n",
      "[CV 2/3] END C=0.01, degree=5, gamma=1, kernel=poly;, score=0.738 total time=   0.0s\n",
      "[CV 3/3] END C=0.01, degree=5, gamma=1, kernel=poly;, score=0.730 total time=   0.1s\n",
      "[CV 1/3] END C=0.01, degree=5, gamma=10, kernel=rbf;, score=0.630 total time=   0.0s\n",
      "[CV 2/3] END C=0.01, degree=5, gamma=10, kernel=rbf;, score=0.633 total time=   0.0s\n",
      "[CV 3/3] END C=0.01, degree=5, gamma=10, kernel=rbf;, score=0.633 total time=   0.0s\n",
      "[CV 1/3] END C=0.01, degree=5, gamma=10, kernel=poly;, score=0.697 total time=   3.2s\n",
      "[CV 2/3] END C=0.01, degree=5, gamma=10, kernel=poly;, score=0.679 total time=   1.9s\n",
      "[CV 3/3] END C=0.01, degree=5, gamma=10, kernel=poly;, score=0.696 total time=   3.4s\n",
      "[CV 1/3] END C=0.01, degree=8, gamma=scale, kernel=rbf;, score=0.630 total time=   0.0s\n",
      "[CV 2/3] END C=0.01, degree=8, gamma=scale, kernel=rbf;, score=0.633 total time=   0.0s\n",
      "[CV 3/3] END C=0.01, degree=8, gamma=scale, kernel=rbf;, score=0.633 total time=   0.0s\n",
      "[CV 1/3] END C=0.01, degree=8, gamma=scale, kernel=poly;, score=0.647 total time=   0.0s\n",
      "[CV 2/3] END C=0.01, degree=8, gamma=scale, kernel=poly;, score=0.624 total time=   0.0s\n",
      "[CV 3/3] END C=0.01, degree=8, gamma=scale, kernel=poly;, score=0.641 total time=   0.0s\n",
      "[CV 1/3] END C=0.01, degree=8, gamma=auto, kernel=rbf;, score=0.630 total time=   0.0s\n",
      "[CV 2/3] END C=0.01, degree=8, gamma=auto, kernel=rbf;, score=0.633 total time=   0.0s\n",
      "[CV 3/3] END C=0.01, degree=8, gamma=auto, kernel=rbf;, score=0.633 total time=   0.0s\n",
      "[CV 1/3] END C=0.01, degree=8, gamma=auto, kernel=poly;, score=0.651 total time=   0.0s\n",
      "[CV 2/3] END C=0.01, degree=8, gamma=auto, kernel=poly;, score=0.624 total time=   0.0s\n",
      "[CV 3/3] END C=0.01, degree=8, gamma=auto, kernel=poly;, score=0.641 total time=   0.0s\n",
      "[CV 1/3] END C=0.01, degree=8, gamma=1, kernel=rbf;, score=0.630 total time=   0.0s\n",
      "[CV 2/3] END C=0.01, degree=8, gamma=1, kernel=rbf;, score=0.633 total time=   0.0s\n",
      "[CV 3/3] END C=0.01, degree=8, gamma=1, kernel=rbf;, score=0.633 total time=   0.0s\n"
     ]
    }
   ],
   "source": [
    "grid.fit(scaled_X_train, y_train)"
   ]
  },
  {
   "cell_type": "code",
   "execution_count": null,
   "metadata": {},
   "outputs": [],
   "source": [
    "best_model = SVC(**grid.best_estimator_.get_params())\n",
    "best_model.fit(scaled_X_test, y_test)\n",
    "accuracy_score(y_test,best_model.predict(scaled_X_test))"
   ]
  },
  {
   "cell_type": "code",
   "execution_count": null,
   "metadata": {},
   "outputs": [],
   "source": [
    "accuracy_score(y_train,best_model.predict(scaled_X_train))"
   ]
  },
  {
   "cell_type": "code",
   "execution_count": null,
   "metadata": {},
   "outputs": [],
   "source": [
    "test_pred2 = best_model.predict(scaled_test)"
   ]
  },
  {
   "cell_type": "markdown",
   "metadata": {},
   "source": [
    "#### Predict data using best model of grid search cv"
   ]
  },
  {
   "cell_type": "code",
   "execution_count": null,
   "metadata": {},
   "outputs": [],
   "source": [
    "# test_pred1 = best_model.predict(scaled_test)\n",
    "# submission = pd.read_csv(r'..\\Kagle_submissions\\gender_submission.csv')\n",
    "# submission[\"Survived\"]=test_pred1\n"
   ]
  }
 ],
 "metadata": {
  "kernelspec": {
   "display_name": "Python 3.8.13 ('data_science')",
   "language": "python",
   "name": "python3"
  },
  "language_info": {
   "codemirror_mode": {
    "name": "ipython",
    "version": 3
   },
   "file_extension": ".py",
   "mimetype": "text/x-python",
   "name": "python",
   "nbconvert_exporter": "python",
   "pygments_lexer": "ipython3",
   "version": "3.8.13"
  },
  "orig_nbformat": 4,
  "vscode": {
   "interpreter": {
    "hash": "bd4010c275e4b157e10c65986b353442b92d680e15a6afedc039aaf1c278dc35"
   }
  }
 },
 "nbformat": 4,
 "nbformat_minor": 2
}
